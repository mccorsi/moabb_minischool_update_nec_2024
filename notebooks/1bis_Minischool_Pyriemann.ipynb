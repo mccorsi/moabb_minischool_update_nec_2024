{
 "cells": [
  {
   "cell_type": "markdown",
   "id": "gorgeous-seller",
   "metadata": {},
   "source": [
    "# Pyriemann: a short introduction"
   ]
  },
  {
   "cell_type": "code",
   "execution_count": null,
   "id": "psychological-scene",
   "metadata": {},
   "outputs": [],
   "source": [
    "# %matplotlib notebook"
   ]
  },
  {
   "cell_type": "code",
   "execution_count": null,
   "id": "engaging-workstation",
   "metadata": {},
   "outputs": [],
   "source": [
    "from numpy import arange, array, concatenate, newaxis, linspace\n",
    "import matplotlib.pyplot as plt\n",
    "from pn_helpers import *"
   ]
  },
  {
   "cell_type": "markdown",
   "id": "beautiful-leone",
   "metadata": {},
   "source": [
    "## Getting some data\n",
    "\n",
    "Download and load data from dataset IIa from BCI Competition 4, as [Raw MNE](https://mne.tools/stable/generated/mne.io.Raw.html#mne.io.Raw) object"
   ]
  },
  {
   "cell_type": "code",
   "execution_count": null,
   "id": "designed-review",
   "metadata": {},
   "outputs": [],
   "source": [
    "raw_mne = get_raw_mne_data()\n",
    "raw_mne"
   ]
  },
  {
   "cell_type": "code",
   "execution_count": null,
   "id": "split-miami",
   "metadata": {},
   "outputs": [],
   "source": [
    "raw_mne.info"
   ]
  },
  {
   "cell_type": "code",
   "execution_count": null,
   "id": "christian-grass",
   "metadata": {},
   "outputs": [],
   "source": [
    "signal = raw_mne.get_data()\n",
    "signal.shape"
   ]
  },
  {
   "cell_type": "markdown",
   "id": "continued-subscription",
   "metadata": {},
   "source": [
    "We could verify what look like the downloaded EEG data, for Cz electrode and for all electrodes"
   ]
  },
  {
   "cell_type": "code",
   "execution_count": null,
   "id": "permanent-country",
   "metadata": {},
   "outputs": [],
   "source": [
    "sfreq = int(raw_mne.info['sfreq'])\n",
    "channels = array(raw_mne.info['ch_names'])\n",
    "plot_signal(signal, sfreq, channels, 'Cz', n_seconds=2)"
   ]
  },
  {
   "cell_type": "code",
   "execution_count": null,
   "id": "small-easter",
   "metadata": {
    "scrolled": false
   },
   "outputs": [],
   "source": [
    "plot_signals(signal, sfreq, n_seconds=1)"
   ]
  },
  {
   "cell_type": "markdown",
   "id": "double-venice",
   "metadata": {},
   "source": [
    "# Switching to the space of covariance matrices\n",
    "\n",
    "Extract 4-second trials from the motor imagery task of dataset IIa. There is 288 trials, 144 for left-hand imagery and 144 for right hand. Only the signal from the 22 EEG electrodes is used, 4s corresponding to 1001 time samples."
   ]
  },
  {
   "cell_type": "code",
   "execution_count": null,
   "id": "geological-ocean",
   "metadata": {},
   "outputs": [],
   "source": [
    "X, labels = get_trials_data()\n",
    "X.shape, labels.shape"
   ]
  },
  {
   "cell_type": "markdown",
   "id": "careful-allocation",
   "metadata": {},
   "source": [
    "Pyriemann allows to estimate the covariance matrices from EEG signal, resulting in 288 matrices of size 22 x 22."
   ]
  },
  {
   "cell_type": "code",
   "execution_count": null,
   "id": "needed-rogers",
   "metadata": {},
   "outputs": [],
   "source": [
    "from pyriemann.estimation import Covariances\n",
    "\n",
    "cov = Covariances().fit_transform(X)\n",
    "cov.shape"
   ]
  },
  {
   "cell_type": "code",
   "execution_count": null,
   "id": "forty-kidney",
   "metadata": {},
   "outputs": [],
   "source": [
    "plot_cov(cov, labels, n=3)"
   ]
  },
  {
   "cell_type": "markdown",
   "id": "naughty-cigarette",
   "metadata": {},
   "source": [
    "All the code to compute the Riemannian mean and distance between covariance matrices is available at hand."
   ]
  },
  {
   "cell_type": "code",
   "execution_count": null,
   "id": "accredited-execution",
   "metadata": {},
   "outputs": [],
   "source": [
    "from pyriemann.utils.mean import mean_riemann\n",
    "mean = mean_riemann(cov)\n",
    "mean.shape"
   ]
  },
  {
   "cell_type": "code",
   "execution_count": null,
   "id": "introductory-broadcast",
   "metadata": {
    "scrolled": true
   },
   "outputs": [],
   "source": [
    "from pyriemann.utils.distance import distance_riemann\n",
    "d = distance_riemann(cov[0], cov[1])\n",
    "print(d)"
   ]
  },
  {
   "cell_type": "markdown",
   "id": "copyrighted-suspect",
   "metadata": {},
   "source": [
    "It is very easy to estimate the mean from some right- and left-hand trials. The distance between each trial and the mean is indicated below each plot."
   ]
  },
  {
   "cell_type": "code",
   "execution_count": null,
   "id": "dried-premiere",
   "metadata": {},
   "outputs": [],
   "source": [
    "plot_cov_mean(cov, labels, n=3)"
   ]
  },
  {
   "cell_type": "markdown",
   "id": "harmful-edmonton",
   "metadata": {},
   "source": [
    "It is possible to make a visualization of the matrices in the tangent space, using a PCA to reduce the dimension so the results could be plotted. The class of the matrices are color coded, the mean are indicated by stars."
   ]
  },
  {
   "cell_type": "code",
   "execution_count": null,
   "id": "illegal-prospect",
   "metadata": {},
   "outputs": [],
   "source": [
    "plot_cov_ts(cov, labels, n=50)"
   ]
  },
  {
   "cell_type": "markdown",
   "id": "wrong-short",
   "metadata": {},
   "source": [
    "# Reimplementing MDM \n",
    "\n",
    "We need to split the covariance matrices in a training set (60% of the data) and testing set (40%)"
   ]
  },
  {
   "cell_type": "code",
   "execution_count": null,
   "id": "legitimate-fishing",
   "metadata": {},
   "outputs": [],
   "source": [
    "from sklearn.model_selection import train_test_split\n",
    "cov_tr, cov_te, y_train, y_test = train_test_split(cov, labels, test_size=0.4, shuffle=False)"
   ]
  },
  {
   "cell_type": "markdown",
   "id": "equipped-edwards",
   "metadata": {},
   "source": [
    "We could estimate the mean of the matrices from the left and right hand classes."
   ]
  },
  {
   "cell_type": "code",
   "execution_count": null,
   "id": "linear-inspection",
   "metadata": {},
   "outputs": [],
   "source": [
    "# train the MDM\n",
    "right = arange(len(y_train))[y_train == 'right_hand']\n",
    "left = arange(len(y_train))[y_train == 'left_hand']\n",
    "classes = ['right_hand', 'left_hand']\n",
    "\n",
    "mean_r = mean_riemann(cov_tr[right])\n",
    "mean_l = mean_riemann(cov_tr[left])"
   ]
  },
  {
   "cell_type": "markdown",
   "id": "annual-reducing",
   "metadata": {},
   "source": [
    "To predict the class of the covariance matrices from the testing set, we simply need to compute the distance between each matrix of the testing set and the mean of each class. Each matrix from the testing set is associated to the closest class, with respect to the center of class."
   ]
  },
  {
   "cell_type": "code",
   "execution_count": null,
   "id": "rotary-youth",
   "metadata": {},
   "outputs": [],
   "source": [
    "# predict\n",
    "y_pred = []\n",
    "for c in cov_te:\n",
    "    dist = [distance_riemann(c, mean_r), distance_riemann(c, mean_l)]\n",
    "    y_pred.append(classes[array(dist).argmin()])\n",
    "print(y_pred[:5])\n",
    "print(list(y_test[:5]))"
   ]
  },
  {
   "cell_type": "markdown",
   "id": "virgin-innocent",
   "metadata": {},
   "source": [
    "It is possible to compute the accuracy, using scikit-learn function."
   ]
  },
  {
   "cell_type": "code",
   "execution_count": null,
   "id": "uniform-reform",
   "metadata": {},
   "outputs": [],
   "source": [
    "from sklearn.metrics import accuracy_score\n",
    "acc = accuracy_score(y_test, y_pred)\n",
    "print ('Accuracy on test set is {:.2f}%'.format(acc*100))"
   ]
  },
  {
   "cell_type": "markdown",
   "id": "smooth-injury",
   "metadata": {},
   "source": [
    "# MDM from pyriemann\n",
    "\n",
    "The MDM classifier is available in pyriemann, implemented as a scikit-learn estimator, that you could train with `fit()` and use on testing data with `predict()`.\n",
    "\n",
    "All the above code is thus written in 4 lines."
   ]
  },
  {
   "cell_type": "code",
   "execution_count": null,
   "id": "facial-doubt",
   "metadata": {},
   "outputs": [],
   "source": [
    "from pyriemann.classification import MDM\n",
    "\n",
    "mdm = MDM(n_jobs=-1)\n",
    "mdm.fit(cov_tr, y_train)\n",
    "y_pred = mdm.predict(cov_te)\n",
    "acc = accuracy_score(y_test, y_pred)\n",
    "print ('Accuracy on test set is {:.2f}%'.format(acc*100))"
   ]
  },
  {
   "cell_type": "markdown",
   "id": "amber-virus",
   "metadata": {},
   "source": [
    "As it is compliant with scikit-learn, it is possible to use all the possibilities to conduct full evaluation: defining a ML pipeline to convert EEG to covariance and use MDM, using a 5-fold cross-validation to evaluate the classifier, printing the results."
   ]
  },
  {
   "cell_type": "code",
   "execution_count": null,
   "id": "ignored-command",
   "metadata": {},
   "outputs": [],
   "source": [
    "from sklearn.pipeline import make_pipeline\n",
    "from sklearn.model_selection import cross_validate\n",
    "\n",
    "X, labels = get_trials_data()\n",
    "mdm_ppl = make_pipeline(Covariances(), MDM(n_jobs=-1))\n",
    "res = cross_validate(mdm_ppl, X, labels, scoring='accuracy', cv=5)\n",
    "\n",
    "print(res[\"test_score\"])\n",
    "print(\"5-fold accuracy is {:.2f}% +/-{:.2f}\".format(res[\"test_score\"].mean()*100, \n",
    "                                                    res[\"test_score\"].std()*100))"
   ]
  }
 ],
 "metadata": {
  "@webio": {
   "lastCommId": null,
   "lastKernelId": null
  },
  "kernelspec": {
   "display_name": "Python 3 (ipykernel)",
   "language": "python",
   "name": "python3"
  },
  "language_info": {
   "codemirror_mode": {
    "name": "ipython",
    "version": 3
   },
   "file_extension": ".py",
   "mimetype": "text/x-python",
   "name": "python",
   "nbconvert_exporter": "python",
   "pygments_lexer": "ipython3",
   "version": "3.10.2"
  }
 },
 "nbformat": 4,
 "nbformat_minor": 5
}
