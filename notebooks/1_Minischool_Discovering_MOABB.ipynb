{
 "cells": [
  {
   "cell_type": "markdown",
   "id": "368de483",
   "metadata": {},
   "source": [
    "# Discovering MOABB\n",
    "\n",
    "In this first notebook, we will use Motor Imagery (MI) BCI as first entry point to discover MOABB. We choose the dataset 2a from BCI Competition IV, a motor imagery task. We will use a CSP to enhance the signal-to-noise ratio of the EEG epochs and a LDA to classify these signals.\n",
    "\n",
    "Please make sure you have verified your installation with the notebook `0_Minischool_Verify_Installation`.\n",
    "\n",
    "## Downloading datasets\n",
    "\n",
    "We will use the dataset 2a from BCI Competition IV as an example here. You could explicitely download the dataset with the following code.\n"
   ]
  },
  {
   "cell_type": "code",
   "execution_count": null,
   "id": "211d5c1b",
   "metadata": {},
   "outputs": [],
   "source": [
    "from moabb.datasets import BNCI2014001\n",
    "\n",
    "dataset = BNCI2014001()\n",
    "dataset.download()"
   ]
  },
  {
   "cell_type": "markdown",
   "id": "5ea89fb8",
   "metadata": {},
   "source": [
    "You could get the data from a specific subject, or a specific set of subjects. If you want to ge the data from the first subject:"
   ]
  },
  {
   "cell_type": "code",
   "execution_count": null,
   "id": "8846c1b1",
   "metadata": {},
   "outputs": [],
   "source": [
    "subj = 1\n",
    "data = dataset.get_data(subjects=[subj])\n",
    "data"
   ]
  },
  {
   "cell_type": "markdown",
   "id": "d3039fbc",
   "metadata": {},
   "source": [
    "The data are stored in nested dict, the first is the subject (here `1` as we have only selected one subject) , the second is the session (here `session_T` or `session_E`) and the runs (here from `run_0` to `run_5`).\n",
    "\n",
    "In the MOABB terminology, the session are meant to stored different recordings of the same subject, for example across several days, while runs are more like blocks of a running experiment.\n",
    "\n",
    "If we want to get the data from the first subject, session T and run 0:"
   ]
  },
  {
   "cell_type": "code",
   "execution_count": null,
   "id": "95b9b3b8",
   "metadata": {},
   "outputs": [],
   "source": [
    "subject, session, run = 1, \"session_T\", \"run_0\"\n",
    "raw = data[subject][session][run]\n",
    "\n",
    "raw.info"
   ]
  },
  {
   "cell_type": "markdown",
   "id": "40f743e9",
   "metadata": {},
   "source": [
    "## Exploring the data with MNE \n",
    "\n",
    "The raw object is a MNE file. All the possibilities opened by this toolbox are available, let's see some examples!\n",
    "\n",
    "It is easy to get a visualization of the electrode positioning:"
   ]
  },
  {
   "cell_type": "code",
   "execution_count": null,
   "id": "9b1d5938",
   "metadata": {},
   "outputs": [],
   "source": [
    "_ = raw.plot_sensors(show_names=True)"
   ]
  },
  {
   "cell_type": "markdown",
   "id": "67643e41",
   "metadata": {},
   "source": [
    "Or visualize EEG signal:"
   ]
  },
  {
   "cell_type": "code",
   "execution_count": null,
   "id": "6f1c5407",
   "metadata": {},
   "outputs": [],
   "source": [
    "_ = raw.plot(duration=4, n_channels=12, color={'eeg':'darkblue'})"
   ]
  },
  {
   "cell_type": "markdown",
   "id": "f18efb9a",
   "metadata": {},
   "source": [
    "There are lots tools for investigating EEG, such spectral domain:"
   ]
  },
  {
   "cell_type": "code",
   "execution_count": null,
   "id": "5c108210",
   "metadata": {},
   "outputs": [],
   "source": [
    "_ = raw.plot_psd(fmin=4., fmax=35, picks=['eeg'])"
   ]
  },
  {
   "cell_type": "markdown",
   "id": "7a1c7327",
   "metadata": {},
   "source": [
    "You could check the rich and "
   ]
  },
  {
   "cell_type": "markdown",
   "id": "67bdbb5e",
   "metadata": {},
   "source": [
    "## Running a benchmark with MOABB\n",
    "\n",
    "1. Choose a paradigm, we will restrict the left- and right-hand classification on the dataset 2a of BCI Competition IV"
   ]
  },
  {
   "cell_type": "code",
   "execution_count": null,
   "id": "0f8202cc",
   "metadata": {},
   "outputs": [],
   "source": [
    "from moabb.paradigms import LeftRightImagery\n",
    "\n",
    "paradigm = LeftRightImagery()\n",
    "datasets = [BNCI2014001()]"
   ]
  },
  {
   "cell_type": "markdown",
   "id": "a4e3fdd3",
   "metadata": {},
   "source": [
    "2. Create a machine learning pipeline (following a scikit learn style). For this example, we will use a Common Spatial Patterns (CSP) to enhance the signal and reduce the dimensionality, and a Linear Discriminant Analysis (LDA) for classification."
   ]
  },
  {
   "cell_type": "code",
   "execution_count": null,
   "id": "730d85ba",
   "metadata": {},
   "outputs": [],
   "source": [
    "from mne.decoding import CSP\n",
    "from sklearn.pipeline import make_pipeline\n",
    "from sklearn.discriminant_analysis import LinearDiscriminantAnalysis as LDA\n",
    "\n",
    "pipeline = make_pipeline(CSP(n_components=8), LDA())\n",
    "pipelines = {'csp+lda': pipeline}"
   ]
  },
  {
   "cell_type": "markdown",
   "id": "9bf4e358",
   "metadata": {},
   "source": [
    "3. Define an evaluation. Here we will use a within-session cross-validation, using 5 folds. You need to define the paradigm and the chosen dataset for the evaluation."
   ]
  },
  {
   "cell_type": "code",
   "execution_count": null,
   "id": "c5960605",
   "metadata": {},
   "outputs": [],
   "source": [
    "from moabb.evaluations import WithinSessionEvaluation\n",
    "\n",
    "evaluation = WithinSessionEvaluation(paradigm=paradigm, datasets=datasets, overwrite=False)"
   ]
  },
  {
   "cell_type": "markdown",
   "id": "e7cf922f",
   "metadata": {},
   "source": [
    "We could now run the evaluation by evaluating the chosen pipelines (here CSP+LDA)"
   ]
  },
  {
   "cell_type": "code",
   "execution_count": null,
   "id": "1be21afc",
   "metadata": {},
   "outputs": [],
   "source": [
    "results_datasets = evaluation.process(pipelines) "
   ]
  },
  {
   "cell_type": "markdown",
   "id": "2bd9c0ba",
   "metadata": {},
   "source": [
    "The dataset are store in a [pandas DataFrame](https://pandas.pydata.org/), this structure is similar to an excel file (and could be exported as xls!).\n",
    "\n",
    "Using tools like [seaborn](seaborn.pydata.org/), it is easy to plot nice graphs from those results."
   ]
  },
  {
   "cell_type": "code",
   "execution_count": null,
   "id": "335ae420",
   "metadata": {},
   "outputs": [],
   "source": [
    "import seaborn as sns\n",
    "\n",
    "sns.catplot(kind='bar', x=\"score\", y=\"subject\", hue=None, data=results_datasets, palette=\"magma\")"
   ]
  },
  {
   "cell_type": "code",
   "execution_count": null,
   "id": "04ff8801",
   "metadata": {},
   "outputs": [],
   "source": []
  }
 ],
 "metadata": {
  "kernelspec": {
   "display_name": "Python 3 (ipykernel)",
   "language": "python",
   "name": "python3"
  },
  "language_info": {
   "codemirror_mode": {
    "name": "ipython",
    "version": 3
   },
   "file_extension": ".py",
   "mimetype": "text/x-python",
   "name": "python",
   "nbconvert_exporter": "python",
   "pygments_lexer": "ipython3",
   "version": "3.10.2"
  }
 },
 "nbformat": 4,
 "nbformat_minor": 5
}
