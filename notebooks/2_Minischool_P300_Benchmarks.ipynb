{
 "cells": [
  {
   "cell_type": "markdown",
   "id": "30338bd2",
   "metadata": {},
   "source": [
    "# Comparison of multiple pipelines and datasets with P300\n",
    "\n",
    "In this second notebook, we will use P300 paradigm to compare multiple datasets and multiple pipelines. We choose datasets from the BNCI repository.\n",
    "\n",
    "Please make sure you have verified your installation with the notebook `0_Minischool_Verify_Installation`.\n",
    "\n",
    "## Selecting datasets\n",
    "\n",
    "The datasets already defined in MOABB are listed in the [documentation](https://neurotechx.github.io/moabb/api.html). It is also possible to check the [MOABB wiki](https://github.com/NeuroTechX/moabb/wiki/Datasets-Support) for comparative information.\n",
    "\n",
    "Here we will use two P300 datasets from BNCI:"
   ]
  },
  {
   "cell_type": "code",
   "id": "dda67c05",
   "metadata": {
    "ExecuteTime": {
     "end_time": "2024-06-16T13:08:47.802282Z",
     "start_time": "2024-06-16T13:08:46.900895Z"
    }
   },
   "source": [
    "from moabb.datasets import BNCI2014_008, BNCI2014_009\n",
    "\n",
    "datasets = [BNCI2014_008(), BNCI2014_009()] "
   ],
   "outputs": [],
   "execution_count": 1
  },
  {
   "cell_type": "code",
   "id": "ae0cee04",
   "metadata": {
    "ExecuteTime": {
     "end_time": "2024-06-16T13:08:51.397059Z",
     "start_time": "2024-06-16T13:08:51.391931Z"
    }
   },
   "source": [
    "from pyriemann.classification import MDM\n",
    "from pyriemann.tangentspace import TangentSpace\n",
    "from pyriemann.spatialfilters import Xdawn\n",
    "from pyriemann.estimation import XdawnCovariances\n",
    "from sklearn.discriminant_analysis import LinearDiscriminantAnalysis as LDA\n",
    "from sklearn.pipeline import make_pipeline\n",
    "from sklearn.svm import SVC\n",
    "\n",
    "\n",
    "pipelines = {}\n",
    "pipelines['tgsp+svm'] = make_pipeline(XdawnCovariances(estimator='lwf'), \n",
    "                                      TangentSpace(metric='riemann'), \n",
    "                                      SVC(kernel='linear'))\n",
    "pipelines['MDM'] = make_pipeline(XdawnCovariances(estimator='lwf'),\n",
    "                            MDM(metric='riemann', n_jobs=-1))"
   ],
   "outputs": [],
   "execution_count": 2
  },
  {
   "cell_type": "code",
   "id": "f9c99af4",
   "metadata": {
    "ExecuteTime": {
     "end_time": "2024-06-16T13:08:54.736793Z",
     "start_time": "2024-06-16T13:08:54.733579Z"
    }
   },
   "source": [
    "from moabb.paradigms import P300\n",
    "\n",
    "paradigm = P300()\n"
   ],
   "outputs": [],
   "execution_count": 3
  },
  {
   "cell_type": "code",
   "id": "d3ba03db",
   "metadata": {
    "ExecuteTime": {
     "end_time": "2024-06-16T13:08:59.381722Z",
     "start_time": "2024-06-16T13:08:59.374612Z"
    }
   },
   "source": [
    "from moabb.evaluations import WithinSessionEvaluation\n",
    "\n",
    "evaluation = WithinSessionEvaluation(paradigm=paradigm, datasets=datasets, overwrite=False)"
   ],
   "outputs": [],
   "execution_count": 4
  },
  {
   "cell_type": "code",
   "id": "ae9e612f",
   "metadata": {
    "ExecuteTime": {
     "end_time": "2024-06-16T13:12:36.937155Z",
     "start_time": "2024-06-16T13:09:01.442587Z"
    }
   },
   "source": [
    "results = evaluation.process(pipelines) "
   ],
   "outputs": [
    {
     "name": "stderr",
     "output_type": "stream",
     "text": [
      "BNCI2014-008-WithinSession:   0%|          | 0/8 [00:00<?, ?it/s]Downloading data from 'http://bnci-horizon-2020.eu/database/data-sets/008-2014/A01.mat' to file '/Users/marieconstance.corsi/mne_data_test/MNE-bnci-data/database/data-sets/008-2014/A01.mat'.\n",
      "/Users/marieconstance.corsi/anaconda3/envs/moabb_minischool/lib/python3.9/site-packages/urllib3/connectionpool.py:1103: InsecureRequestWarning: Unverified HTTPS request is being made to host 'lampx.tugraz.at'. Adding certificate verification is strongly advised. See: https://urllib3.readthedocs.io/en/latest/advanced-usage.html#tls-warnings\n",
      "  warnings.warn(\n",
      "\n",
      "  0%|                                              | 0.00/21.5M [00:00<?, ?B/s]\u001B[A\n",
      "  1%|▎                                     | 209k/21.5M [00:00<00:11, 1.83MB/s]\u001B[A\n",
      "  8%|███                                  | 1.81M/21.5M [00:00<00:02, 9.66MB/s]\u001B[A\n",
      " 31%|███████████▌                         | 6.75M/21.5M [00:00<00:00, 27.2MB/s]\u001B[A\n",
      " 45%|████████████████▋                    | 9.75M/21.5M [00:00<00:00, 28.3MB/s]\u001B[A\n",
      " 78%|████████████████████████████▋        | 16.7M/21.5M [00:00<00:00, 43.1MB/s]\u001B[A\n",
      "100%|█████████████████████████████████████| 21.5M/21.5M [00:00<00:00, 25.0GB/s]\u001B[A\n",
      "SHA256 hash of downloaded file: cdf9bca4f48c61ee9c9ba998382a4e84392918c9dbc5a43f45ee0052614e25bd\n",
      "Use this value as the 'known_hash' argument of 'pooch.retrieve' to ensure that the file hasn't changed if it is downloaded again in the future.\n",
      "/Users/marieconstance.corsi/anaconda3/envs/moabb_minischool/lib/python3.9/site-packages/moabb/datasets/preprocessing.py:279: UserWarning: warnEpochs <Epochs |  4200 events (all good), 0 – 1 s, baseline off, ~65.9 MB, data loaded,\n",
      " 'Target': 700\n",
      " 'NonTarget': 3500>\n",
      "  warn(f\"warnEpochs {epochs}\")\n",
      "/Users/marieconstance.corsi/anaconda3/envs/moabb_minischool/lib/python3.9/site-packages/sklearn/preprocessing/_function_transformer.py:379: FutureWarning: The current default of copy=False will change to copy=True in 1.7. Set the value of copy explicitly to avoid this warning\n",
      "  return func(X, **(kw_args if kw_args else {}))\n"
     ]
    },
    {
     "name": "stdout",
     "output_type": "stream",
     "text": [
      "No hdf5_path provided, models will not be saved.\n",
      "No hdf5_path provided, models will not be saved.\n"
     ]
    },
    {
     "name": "stderr",
     "output_type": "stream",
     "text": [
      "BNCI2014-008-WithinSession:  12%|█▎        | 1/8 [00:20<02:24, 20.70s/it]Downloading data from 'http://bnci-horizon-2020.eu/database/data-sets/008-2014/A02.mat' to file '/Users/marieconstance.corsi/mne_data_test/MNE-bnci-data/database/data-sets/008-2014/A02.mat'.\n",
      "/Users/marieconstance.corsi/anaconda3/envs/moabb_minischool/lib/python3.9/site-packages/urllib3/connectionpool.py:1103: InsecureRequestWarning: Unverified HTTPS request is being made to host 'lampx.tugraz.at'. Adding certificate verification is strongly advised. See: https://urllib3.readthedocs.io/en/latest/advanced-usage.html#tls-warnings\n",
      "  warnings.warn(\n",
      "\n",
      "  0%|                                              | 0.00/21.6M [00:00<?, ?B/s]\u001B[A\n",
      "  1%|▏                                     | 121k/21.6M [00:00<00:18, 1.13MB/s]\u001B[A\n",
      "  5%|█▊                                   | 1.06M/21.6M [00:00<00:03, 5.89MB/s]\u001B[A\n",
      " 18%|██████▋                              | 3.93M/21.6M [00:00<00:01, 16.1MB/s]\u001B[A\n",
      " 31%|███████████▍                         | 6.65M/21.6M [00:00<00:00, 20.4MB/s]\u001B[A\n",
      " 59%|█████████████████████▉               | 12.8M/21.6M [00:00<00:00, 35.1MB/s]\u001B[A\n",
      " 87%|████████████████████████████████     | 18.7M/21.6M [00:00<00:00, 43.4MB/s]\u001B[A\n",
      "100%|█████████████████████████████████████| 21.6M/21.6M [00:00<00:00, 26.7GB/s]\u001B[A\n",
      "SHA256 hash of downloaded file: 0023ee04e4a113231c125bcfdf59780ed95d858a5e5c0bc993701eb6c9652894\n",
      "Use this value as the 'known_hash' argument of 'pooch.retrieve' to ensure that the file hasn't changed if it is downloaded again in the future.\n",
      "/Users/marieconstance.corsi/anaconda3/envs/moabb_minischool/lib/python3.9/site-packages/moabb/datasets/preprocessing.py:279: UserWarning: warnEpochs <Epochs |  4200 events (all good), 0 – 1 s, baseline off, ~65.9 MB, data loaded,\n",
      " 'Target': 700\n",
      " 'NonTarget': 3500>\n",
      "  warn(f\"warnEpochs {epochs}\")\n",
      "/Users/marieconstance.corsi/anaconda3/envs/moabb_minischool/lib/python3.9/site-packages/sklearn/preprocessing/_function_transformer.py:379: FutureWarning: The current default of copy=False will change to copy=True in 1.7. Set the value of copy explicitly to avoid this warning\n",
      "  return func(X, **(kw_args if kw_args else {}))\n"
     ]
    },
    {
     "name": "stdout",
     "output_type": "stream",
     "text": [
      "No hdf5_path provided, models will not be saved.\n",
      "No hdf5_path provided, models will not be saved.\n"
     ]
    },
    {
     "name": "stderr",
     "output_type": "stream",
     "text": [
      "BNCI2014-008-WithinSession:  25%|██▌       | 2/8 [00:38<01:55, 19.17s/it]Downloading data from 'http://bnci-horizon-2020.eu/database/data-sets/008-2014/A03.mat' to file '/Users/marieconstance.corsi/mne_data_test/MNE-bnci-data/database/data-sets/008-2014/A03.mat'.\n",
      "/Users/marieconstance.corsi/anaconda3/envs/moabb_minischool/lib/python3.9/site-packages/urllib3/connectionpool.py:1103: InsecureRequestWarning: Unverified HTTPS request is being made to host 'lampx.tugraz.at'. Adding certificate verification is strongly advised. See: https://urllib3.readthedocs.io/en/latest/advanced-usage.html#tls-warnings\n",
      "  warnings.warn(\n",
      "\n",
      "  0%|                                              | 0.00/21.6M [00:00<?, ?B/s]\u001B[A\n",
      "  1%|▎                                     | 209k/21.6M [00:00<00:12, 1.68MB/s]\u001B[A\n",
      "  9%|███▏                                 | 1.85M/21.6M [00:00<00:02, 9.58MB/s]\u001B[A\n",
      " 33%|████████████▎                        | 7.19M/21.6M [00:00<00:00, 28.5MB/s]\u001B[A\n",
      " 55%|████████████████████▎                | 11.8M/21.6M [00:00<00:00, 34.2MB/s]\u001B[A\n",
      " 71%|██████████████████████████▎          | 15.3M/21.6M [00:00<00:00, 25.4MB/s]\u001B[A\n",
      "100%|█████████████████████████████████████| 21.6M/21.6M [00:00<00:00, 25.1GB/s]\u001B[A\n",
      "SHA256 hash of downloaded file: 820287459d83e5512e3ac00cdb25d1806b26518daba14281c61983b230f9dd9f\n",
      "Use this value as the 'known_hash' argument of 'pooch.retrieve' to ensure that the file hasn't changed if it is downloaded again in the future.\n",
      "/Users/marieconstance.corsi/anaconda3/envs/moabb_minischool/lib/python3.9/site-packages/moabb/datasets/preprocessing.py:279: UserWarning: warnEpochs <Epochs |  4200 events (all good), 0 – 1 s, baseline off, ~65.9 MB, data loaded,\n",
      " 'Target': 700\n",
      " 'NonTarget': 3500>\n",
      "  warn(f\"warnEpochs {epochs}\")\n",
      "/Users/marieconstance.corsi/anaconda3/envs/moabb_minischool/lib/python3.9/site-packages/sklearn/preprocessing/_function_transformer.py:379: FutureWarning: The current default of copy=False will change to copy=True in 1.7. Set the value of copy explicitly to avoid this warning\n",
      "  return func(X, **(kw_args if kw_args else {}))\n"
     ]
    },
    {
     "name": "stdout",
     "output_type": "stream",
     "text": [
      "No hdf5_path provided, models will not be saved.\n",
      "No hdf5_path provided, models will not be saved.\n"
     ]
    },
    {
     "name": "stderr",
     "output_type": "stream",
     "text": [
      "BNCI2014-008-WithinSession:  38%|███▊      | 3/8 [00:56<01:32, 18.44s/it]Downloading data from 'http://bnci-horizon-2020.eu/database/data-sets/008-2014/A04.mat' to file '/Users/marieconstance.corsi/mne_data_test/MNE-bnci-data/database/data-sets/008-2014/A04.mat'.\n",
      "/Users/marieconstance.corsi/anaconda3/envs/moabb_minischool/lib/python3.9/site-packages/urllib3/connectionpool.py:1103: InsecureRequestWarning: Unverified HTTPS request is being made to host 'lampx.tugraz.at'. Adding certificate verification is strongly advised. See: https://urllib3.readthedocs.io/en/latest/advanced-usage.html#tls-warnings\n",
      "  warnings.warn(\n",
      "\n",
      "  0%|                                              | 0.00/21.6M [00:00<?, ?B/s]\u001B[A\n",
      "  1%|▎                                     | 209k/21.6M [00:00<00:11, 1.81MB/s]\u001B[A\n",
      "  8%|███                                  | 1.81M/21.6M [00:00<00:02, 9.58MB/s]\u001B[A\n",
      " 31%|███████████▎                         | 6.63M/21.6M [00:00<00:00, 26.5MB/s]\u001B[A\n",
      " 56%|████████████████████▌                | 12.0M/21.6M [00:00<00:00, 37.1MB/s]\u001B[A\n",
      " 87%|████████████████████████████████▎    | 18.8M/21.6M [00:00<00:00, 48.1MB/s]\u001B[A\n",
      "100%|█████████████████████████████████████| 21.6M/21.6M [00:00<00:00, 24.9GB/s]\u001B[A\n",
      "SHA256 hash of downloaded file: 65b14803eb38fda4910cca1103e4b527be1624155f106fe8083861bbf3e644e3\n",
      "Use this value as the 'known_hash' argument of 'pooch.retrieve' to ensure that the file hasn't changed if it is downloaded again in the future.\n",
      "/Users/marieconstance.corsi/anaconda3/envs/moabb_minischool/lib/python3.9/site-packages/moabb/datasets/preprocessing.py:279: UserWarning: warnEpochs <Epochs |  4200 events (all good), 0 – 1 s, baseline off, ~65.9 MB, data loaded,\n",
      " 'Target': 700\n",
      " 'NonTarget': 3500>\n",
      "  warn(f\"warnEpochs {epochs}\")\n",
      "/Users/marieconstance.corsi/anaconda3/envs/moabb_minischool/lib/python3.9/site-packages/sklearn/preprocessing/_function_transformer.py:379: FutureWarning: The current default of copy=False will change to copy=True in 1.7. Set the value of copy explicitly to avoid this warning\n",
      "  return func(X, **(kw_args if kw_args else {}))\n"
     ]
    },
    {
     "name": "stdout",
     "output_type": "stream",
     "text": [
      "No hdf5_path provided, models will not be saved.\n",
      "No hdf5_path provided, models will not be saved.\n"
     ]
    },
    {
     "name": "stderr",
     "output_type": "stream",
     "text": [
      "BNCI2014-008-WithinSession:  50%|█████     | 4/8 [01:13<01:11, 17.98s/it]Downloading data from 'http://bnci-horizon-2020.eu/database/data-sets/008-2014/A05.mat' to file '/Users/marieconstance.corsi/mne_data_test/MNE-bnci-data/database/data-sets/008-2014/A05.mat'.\n",
      "/Users/marieconstance.corsi/anaconda3/envs/moabb_minischool/lib/python3.9/site-packages/urllib3/connectionpool.py:1103: InsecureRequestWarning: Unverified HTTPS request is being made to host 'lampx.tugraz.at'. Adding certificate verification is strongly advised. See: https://urllib3.readthedocs.io/en/latest/advanced-usage.html#tls-warnings\n",
      "  warnings.warn(\n",
      "\n",
      "  0%|                                              | 0.00/21.6M [00:00<?, ?B/s]\u001B[A\n",
      "  1%|▎                                     | 201k/21.6M [00:00<00:11, 1.91MB/s]\u001B[A\n",
      "  7%|██▋                                  | 1.56M/21.6M [00:00<00:02, 8.66MB/s]\u001B[A\n",
      " 29%|██████████▋                          | 6.21M/21.6M [00:00<00:00, 25.7MB/s]\u001B[A\n",
      " 62%|███████████████████████              | 13.5M/21.6M [00:00<00:00, 44.1MB/s]\u001B[A\n",
      " 93%|██████████████████████████████████▎  | 20.0M/21.6M [00:00<00:00, 51.6MB/s]\u001B[A\n",
      "100%|█████████████████████████████████████| 21.6M/21.6M [00:00<00:00, 27.8GB/s]\u001B[A\n",
      "SHA256 hash of downloaded file: d372ae2c39ece0c8dded986307e70ebb7f4bdf2c5c2fa2382c8ba489fb59f200\n",
      "Use this value as the 'known_hash' argument of 'pooch.retrieve' to ensure that the file hasn't changed if it is downloaded again in the future.\n",
      "/Users/marieconstance.corsi/anaconda3/envs/moabb_minischool/lib/python3.9/site-packages/moabb/datasets/preprocessing.py:279: UserWarning: warnEpochs <Epochs |  4200 events (all good), 0 – 1 s, baseline off, ~65.9 MB, data loaded,\n",
      " 'Target': 700\n",
      " 'NonTarget': 3500>\n",
      "  warn(f\"warnEpochs {epochs}\")\n",
      "/Users/marieconstance.corsi/anaconda3/envs/moabb_minischool/lib/python3.9/site-packages/sklearn/preprocessing/_function_transformer.py:379: FutureWarning: The current default of copy=False will change to copy=True in 1.7. Set the value of copy explicitly to avoid this warning\n",
      "  return func(X, **(kw_args if kw_args else {}))\n"
     ]
    },
    {
     "name": "stdout",
     "output_type": "stream",
     "text": [
      "No hdf5_path provided, models will not be saved.\n",
      "No hdf5_path provided, models will not be saved.\n"
     ]
    },
    {
     "name": "stderr",
     "output_type": "stream",
     "text": [
      "BNCI2014-008-WithinSession:  62%|██████▎   | 5/8 [01:31<00:53, 17.79s/it]Downloading data from 'http://bnci-horizon-2020.eu/database/data-sets/008-2014/A06.mat' to file '/Users/marieconstance.corsi/mne_data_test/MNE-bnci-data/database/data-sets/008-2014/A06.mat'.\n",
      "/Users/marieconstance.corsi/anaconda3/envs/moabb_minischool/lib/python3.9/site-packages/urllib3/connectionpool.py:1103: InsecureRequestWarning: Unverified HTTPS request is being made to host 'lampx.tugraz.at'. Adding certificate verification is strongly advised. See: https://urllib3.readthedocs.io/en/latest/advanced-usage.html#tls-warnings\n",
      "  warnings.warn(\n",
      "\n",
      "  0%|                                              | 0.00/21.6M [00:00<?, ?B/s]\u001B[A\n",
      "  1%|▎                                     | 209k/21.6M [00:00<00:13, 1.61MB/s]\u001B[A\n",
      "  8%|███                                  | 1.82M/21.6M [00:00<00:02, 8.76MB/s]\u001B[A\n",
      " 35%|████████████▊                        | 7.51M/21.6M [00:00<00:00, 28.8MB/s]\u001B[A\n",
      " 66%|████████████████████████▍            | 14.3M/21.6M [00:00<00:00, 43.2MB/s]\u001B[A\n",
      " 97%|███████████████████████████████████▋ | 20.9M/21.6M [00:00<00:00, 51.1MB/s]\u001B[A\n",
      "100%|█████████████████████████████████████| 21.6M/21.6M [00:00<00:00, 21.9GB/s]\u001B[A\n",
      "SHA256 hash of downloaded file: 8320e78fb0d73baa03857c4976a4b4d8e605b1c9a7a4cf2e5e80e1bb6fd30337\n",
      "Use this value as the 'known_hash' argument of 'pooch.retrieve' to ensure that the file hasn't changed if it is downloaded again in the future.\n",
      "/Users/marieconstance.corsi/anaconda3/envs/moabb_minischool/lib/python3.9/site-packages/moabb/datasets/preprocessing.py:279: UserWarning: warnEpochs <Epochs |  4200 events (all good), 0 – 1 s, baseline off, ~65.9 MB, data loaded,\n",
      " 'Target': 700\n",
      " 'NonTarget': 3500>\n",
      "  warn(f\"warnEpochs {epochs}\")\n",
      "/Users/marieconstance.corsi/anaconda3/envs/moabb_minischool/lib/python3.9/site-packages/sklearn/preprocessing/_function_transformer.py:379: FutureWarning: The current default of copy=False will change to copy=True in 1.7. Set the value of copy explicitly to avoid this warning\n",
      "  return func(X, **(kw_args if kw_args else {}))\n"
     ]
    },
    {
     "name": "stdout",
     "output_type": "stream",
     "text": [
      "No hdf5_path provided, models will not be saved.\n",
      "No hdf5_path provided, models will not be saved.\n"
     ]
    },
    {
     "name": "stderr",
     "output_type": "stream",
     "text": [
      "BNCI2014-008-WithinSession:  75%|███████▌  | 6/8 [01:48<00:35, 17.68s/it]Downloading data from 'http://bnci-horizon-2020.eu/database/data-sets/008-2014/A07.mat' to file '/Users/marieconstance.corsi/mne_data_test/MNE-bnci-data/database/data-sets/008-2014/A07.mat'.\n",
      "/Users/marieconstance.corsi/anaconda3/envs/moabb_minischool/lib/python3.9/site-packages/urllib3/connectionpool.py:1103: InsecureRequestWarning: Unverified HTTPS request is being made to host 'lampx.tugraz.at'. Adding certificate verification is strongly advised. See: https://urllib3.readthedocs.io/en/latest/advanced-usage.html#tls-warnings\n",
      "  warnings.warn(\n",
      "\n",
      "  0%|                                              | 0.00/21.5M [00:00<?, ?B/s]\u001B[A\n",
      "  1%|▎                                     | 209k/21.5M [00:00<00:11, 1.91MB/s]\u001B[A\n",
      "  7%|██▊                                  | 1.60M/21.5M [00:00<00:02, 8.73MB/s]\u001B[A\n",
      " 30%|███████████                          | 6.47M/21.5M [00:00<00:00, 26.6MB/s]\u001B[A\n",
      " 50%|██████████████████▌                  | 10.8M/21.5M [00:00<00:00, 33.0MB/s]\u001B[A\n",
      " 81%|█████████████████████████████▊       | 17.4M/21.5M [00:00<00:00, 44.7MB/s]\u001B[A\n",
      "100%|█████████████████████████████████████| 21.5M/21.5M [00:00<00:00, 24.4GB/s]\u001B[A\n",
      "SHA256 hash of downloaded file: 444d9da58332f58e89e7cdd39f9d9e7b0cb8ee4fd01ce03ef3ce57e53068f47c\n",
      "Use this value as the 'known_hash' argument of 'pooch.retrieve' to ensure that the file hasn't changed if it is downloaded again in the future.\n",
      "/Users/marieconstance.corsi/anaconda3/envs/moabb_minischool/lib/python3.9/site-packages/moabb/datasets/preprocessing.py:279: UserWarning: warnEpochs <Epochs |  4200 events (all good), 0 – 1 s, baseline off, ~65.9 MB, data loaded,\n",
      " 'Target': 700\n",
      " 'NonTarget': 3500>\n",
      "  warn(f\"warnEpochs {epochs}\")\n",
      "/Users/marieconstance.corsi/anaconda3/envs/moabb_minischool/lib/python3.9/site-packages/sklearn/preprocessing/_function_transformer.py:379: FutureWarning: The current default of copy=False will change to copy=True in 1.7. Set the value of copy explicitly to avoid this warning\n",
      "  return func(X, **(kw_args if kw_args else {}))\n"
     ]
    },
    {
     "name": "stdout",
     "output_type": "stream",
     "text": [
      "No hdf5_path provided, models will not be saved.\n",
      "No hdf5_path provided, models will not be saved.\n"
     ]
    },
    {
     "name": "stderr",
     "output_type": "stream",
     "text": [
      "BNCI2014-008-WithinSession:  88%|████████▊ | 7/8 [02:05<00:17, 17.55s/it]Downloading data from 'http://bnci-horizon-2020.eu/database/data-sets/008-2014/A08.mat' to file '/Users/marieconstance.corsi/mne_data_test/MNE-bnci-data/database/data-sets/008-2014/A08.mat'.\n",
      "/Users/marieconstance.corsi/anaconda3/envs/moabb_minischool/lib/python3.9/site-packages/urllib3/connectionpool.py:1103: InsecureRequestWarning: Unverified HTTPS request is being made to host 'lampx.tugraz.at'. Adding certificate verification is strongly advised. See: https://urllib3.readthedocs.io/en/latest/advanced-usage.html#tls-warnings\n",
      "  warnings.warn(\n",
      "\n",
      "  0%|                                              | 0.00/21.6M [00:00<?, ?B/s]\u001B[A\n",
      "  1%|▎                                     | 209k/21.6M [00:00<00:12, 1.66MB/s]\u001B[A\n",
      "  8%|███                                  | 1.82M/21.6M [00:00<00:02, 9.26MB/s]\u001B[A\n",
      " 34%|████████████▍                        | 7.26M/21.6M [00:00<00:00, 28.7MB/s]\u001B[A\n",
      " 63%|███████████████████████▎             | 13.7M/21.6M [00:00<00:00, 42.1MB/s]\u001B[A\n",
      " 94%|██████████████████████████████████▋  | 20.3M/21.6M [00:00<00:00, 50.5MB/s]\u001B[A\n",
      "100%|█████████████████████████████████████| 21.6M/21.6M [00:00<00:00, 29.0GB/s]\u001B[A\n",
      "SHA256 hash of downloaded file: 7b5d249058dcac4ad477ea8591256d51c19df384551eba82b6c88e3ae6333571\n",
      "Use this value as the 'known_hash' argument of 'pooch.retrieve' to ensure that the file hasn't changed if it is downloaded again in the future.\n",
      "/Users/marieconstance.corsi/anaconda3/envs/moabb_minischool/lib/python3.9/site-packages/moabb/datasets/preprocessing.py:279: UserWarning: warnEpochs <Epochs |  4200 events (all good), 0 – 1 s, baseline off, ~65.9 MB, data loaded,\n",
      " 'Target': 700\n",
      " 'NonTarget': 3500>\n",
      "  warn(f\"warnEpochs {epochs}\")\n",
      "/Users/marieconstance.corsi/anaconda3/envs/moabb_minischool/lib/python3.9/site-packages/sklearn/preprocessing/_function_transformer.py:379: FutureWarning: The current default of copy=False will change to copy=True in 1.7. Set the value of copy explicitly to avoid this warning\n",
      "  return func(X, **(kw_args if kw_args else {}))\n"
     ]
    },
    {
     "name": "stdout",
     "output_type": "stream",
     "text": [
      "No hdf5_path provided, models will not be saved.\n",
      "No hdf5_path provided, models will not be saved.\n"
     ]
    },
    {
     "name": "stderr",
     "output_type": "stream",
     "text": [
      "BNCI2014-008-WithinSession: 100%|██████████| 8/8 [02:22<00:00, 17.75s/it]\n",
      "BNCI2014-009-WithinSession:   0%|          | 0/10 [00:00<?, ?it/s]Downloading data from 'http://bnci-horizon-2020.eu/database/data-sets/009-2014/A01S.mat' to file '/Users/marieconstance.corsi/mne_data_test/MNE-bnci-data/database/data-sets/009-2014/A01S.mat'.\n",
      "/Users/marieconstance.corsi/anaconda3/envs/moabb_minischool/lib/python3.9/site-packages/urllib3/connectionpool.py:1103: InsecureRequestWarning: Unverified HTTPS request is being made to host 'lampx.tugraz.at'. Adding certificate verification is strongly advised. See: https://urllib3.readthedocs.io/en/latest/advanced-usage.html#tls-warnings\n",
      "  warnings.warn(\n",
      "\n",
      "  0%|                                              | 0.00/18.5M [00:00<?, ?B/s]\u001B[A\n",
      "  1%|▍                                     | 209k/18.5M [00:00<00:09, 1.86MB/s]\u001B[A\n",
      "  9%|███▎                                 | 1.69M/18.5M [00:00<00:01, 9.11MB/s]\u001B[A\n",
      " 36%|█████████████▍                       | 6.73M/18.5M [00:00<00:00, 27.5MB/s]\u001B[A\n",
      " 68%|█████████████████████████▏           | 12.6M/18.5M [00:00<00:00, 38.4MB/s]\u001B[A\n",
      " 94%|██████████████████████████████████▊  | 17.4M/18.5M [00:00<00:00, 41.7MB/s]\u001B[A\n",
      "100%|█████████████████████████████████████| 18.5M/18.5M [00:00<00:00, 24.1GB/s]\u001B[A\n",
      "SHA256 hash of downloaded file: beddf78f1834ddef15553e32c9d18c46bc9b3fd244ef3a8e2fe362066dfb027d\n",
      "Use this value as the 'known_hash' argument of 'pooch.retrieve' to ensure that the file hasn't changed if it is downloaded again in the future.\n",
      "/Users/marieconstance.corsi/anaconda3/envs/moabb_minischool/lib/python3.9/site-packages/moabb/datasets/preprocessing.py:279: UserWarning: warnEpochs <Epochs |  576 events (all good), 0 – 0.800781 s, baseline off, ~14.5 MB, data loaded,\n",
      " 'Target': 96\n",
      " 'NonTarget': 480>\n",
      "  warn(f\"warnEpochs {epochs}\")\n",
      "/Users/marieconstance.corsi/anaconda3/envs/moabb_minischool/lib/python3.9/site-packages/moabb/datasets/preprocessing.py:279: UserWarning: warnEpochs <Epochs |  576 events (all good), 0 – 0.800781 s, baseline off, ~14.5 MB, data loaded,\n",
      " 'Target': 96\n",
      " 'NonTarget': 480>\n",
      "  warn(f\"warnEpochs {epochs}\")\n",
      "/Users/marieconstance.corsi/anaconda3/envs/moabb_minischool/lib/python3.9/site-packages/moabb/datasets/preprocessing.py:279: UserWarning: warnEpochs <Epochs |  576 events (all good), 0 – 0.800781 s, baseline off, ~14.5 MB, data loaded,\n",
      " 'Target': 96\n",
      " 'NonTarget': 480>\n",
      "  warn(f\"warnEpochs {epochs}\")\n",
      "/Users/marieconstance.corsi/anaconda3/envs/moabb_minischool/lib/python3.9/site-packages/sklearn/preprocessing/_function_transformer.py:379: FutureWarning: The current default of copy=False will change to copy=True in 1.7. Set the value of copy explicitly to avoid this warning\n",
      "  return func(X, **(kw_args if kw_args else {}))\n",
      "/Users/marieconstance.corsi/anaconda3/envs/moabb_minischool/lib/python3.9/site-packages/sklearn/preprocessing/_function_transformer.py:379: FutureWarning: The current default of copy=False will change to copy=True in 1.7. Set the value of copy explicitly to avoid this warning\n",
      "  return func(X, **(kw_args if kw_args else {}))\n",
      "/Users/marieconstance.corsi/anaconda3/envs/moabb_minischool/lib/python3.9/site-packages/sklearn/preprocessing/_function_transformer.py:379: FutureWarning: The current default of copy=False will change to copy=True in 1.7. Set the value of copy explicitly to avoid this warning\n",
      "  return func(X, **(kw_args if kw_args else {}))\n"
     ]
    },
    {
     "name": "stdout",
     "output_type": "stream",
     "text": [
      "No hdf5_path provided, models will not be saved.\n",
      "No hdf5_path provided, models will not be saved.\n",
      "No hdf5_path provided, models will not be saved.\n",
      "No hdf5_path provided, models will not be saved.\n",
      "No hdf5_path provided, models will not be saved.\n",
      "No hdf5_path provided, models will not be saved.\n"
     ]
    },
    {
     "name": "stderr",
     "output_type": "stream",
     "text": [
      "BNCI2014-009-WithinSession:  10%|█         | 1/10 [00:07<01:06,  7.41s/it]Downloading data from 'http://bnci-horizon-2020.eu/database/data-sets/009-2014/A02S.mat' to file '/Users/marieconstance.corsi/mne_data_test/MNE-bnci-data/database/data-sets/009-2014/A02S.mat'.\n",
      "/Users/marieconstance.corsi/anaconda3/envs/moabb_minischool/lib/python3.9/site-packages/urllib3/connectionpool.py:1103: InsecureRequestWarning: Unverified HTTPS request is being made to host 'lampx.tugraz.at'. Adding certificate verification is strongly advised. See: https://urllib3.readthedocs.io/en/latest/advanced-usage.html#tls-warnings\n",
      "  warnings.warn(\n",
      "\n",
      "  0%|                                              | 0.00/18.5M [00:00<?, ?B/s]\u001B[A\n",
      "  1%|▍                                     | 209k/18.5M [00:00<00:10, 1.80MB/s]\u001B[A\n",
      " 10%|███▋                                 | 1.87M/18.5M [00:00<00:01, 9.97MB/s]\u001B[A\n",
      " 41%|██████████████▉                      | 7.50M/18.5M [00:00<00:00, 30.4MB/s]\u001B[A\n",
      " 77%|████████████████████████████▌        | 14.3M/18.5M [00:00<00:00, 44.9MB/s]\u001B[A\n",
      "100%|█████████████████████████████████████| 18.5M/18.5M [00:00<00:00, 22.7GB/s]\u001B[A\n",
      "SHA256 hash of downloaded file: d6b40d723b90bb9a71127be66d7c3f66a13861cacafdb7c45efbcb8fcf9a726e\n",
      "Use this value as the 'known_hash' argument of 'pooch.retrieve' to ensure that the file hasn't changed if it is downloaded again in the future.\n",
      "/Users/marieconstance.corsi/anaconda3/envs/moabb_minischool/lib/python3.9/site-packages/moabb/datasets/preprocessing.py:279: UserWarning: warnEpochs <Epochs |  576 events (all good), 0 – 0.800781 s, baseline off, ~14.5 MB, data loaded,\n",
      " 'Target': 96\n",
      " 'NonTarget': 480>\n",
      "  warn(f\"warnEpochs {epochs}\")\n",
      "/Users/marieconstance.corsi/anaconda3/envs/moabb_minischool/lib/python3.9/site-packages/moabb/datasets/preprocessing.py:279: UserWarning: warnEpochs <Epochs |  576 events (all good), 0 – 0.800781 s, baseline off, ~14.5 MB, data loaded,\n",
      " 'Target': 96\n",
      " 'NonTarget': 480>\n",
      "  warn(f\"warnEpochs {epochs}\")\n",
      "/Users/marieconstance.corsi/anaconda3/envs/moabb_minischool/lib/python3.9/site-packages/moabb/datasets/preprocessing.py:279: UserWarning: warnEpochs <Epochs |  576 events (all good), 0 – 0.800781 s, baseline off, ~14.5 MB, data loaded,\n",
      " 'Target': 96\n",
      " 'NonTarget': 480>\n",
      "  warn(f\"warnEpochs {epochs}\")\n",
      "/Users/marieconstance.corsi/anaconda3/envs/moabb_minischool/lib/python3.9/site-packages/sklearn/preprocessing/_function_transformer.py:379: FutureWarning: The current default of copy=False will change to copy=True in 1.7. Set the value of copy explicitly to avoid this warning\n",
      "  return func(X, **(kw_args if kw_args else {}))\n",
      "/Users/marieconstance.corsi/anaconda3/envs/moabb_minischool/lib/python3.9/site-packages/sklearn/preprocessing/_function_transformer.py:379: FutureWarning: The current default of copy=False will change to copy=True in 1.7. Set the value of copy explicitly to avoid this warning\n",
      "  return func(X, **(kw_args if kw_args else {}))\n",
      "/Users/marieconstance.corsi/anaconda3/envs/moabb_minischool/lib/python3.9/site-packages/sklearn/preprocessing/_function_transformer.py:379: FutureWarning: The current default of copy=False will change to copy=True in 1.7. Set the value of copy explicitly to avoid this warning\n",
      "  return func(X, **(kw_args if kw_args else {}))\n"
     ]
    },
    {
     "name": "stdout",
     "output_type": "stream",
     "text": [
      "No hdf5_path provided, models will not be saved.\n",
      "No hdf5_path provided, models will not be saved.\n",
      "No hdf5_path provided, models will not be saved.\n",
      "No hdf5_path provided, models will not be saved.\n",
      "No hdf5_path provided, models will not be saved.\n",
      "No hdf5_path provided, models will not be saved.\n"
     ]
    },
    {
     "name": "stderr",
     "output_type": "stream",
     "text": [
      "BNCI2014-009-WithinSession:  20%|██        | 2/10 [00:14<00:58,  7.33s/it]Downloading data from 'http://bnci-horizon-2020.eu/database/data-sets/009-2014/A03S.mat' to file '/Users/marieconstance.corsi/mne_data_test/MNE-bnci-data/database/data-sets/009-2014/A03S.mat'.\n",
      "/Users/marieconstance.corsi/anaconda3/envs/moabb_minischool/lib/python3.9/site-packages/urllib3/connectionpool.py:1103: InsecureRequestWarning: Unverified HTTPS request is being made to host 'lampx.tugraz.at'. Adding certificate verification is strongly advised. See: https://urllib3.readthedocs.io/en/latest/advanced-usage.html#tls-warnings\n",
      "  warnings.warn(\n",
      "\n",
      "  0%|                                              | 0.00/18.5M [00:00<?, ?B/s]\u001B[A\n",
      "  1%|▍                                     | 209k/18.5M [00:00<00:10, 1.71MB/s]\u001B[A\n",
      " 10%|███▋                                 | 1.82M/18.5M [00:00<00:01, 9.44MB/s]\u001B[A\n",
      " 40%|██████████████▊                      | 7.45M/18.5M [00:00<00:00, 29.7MB/s]\u001B[A\n",
      " 67%|████████████████████████▉            | 12.5M/18.5M [00:00<00:00, 37.7MB/s]\u001B[A\n",
      " 95%|███████████████████████████████████▏ | 17.6M/18.5M [00:00<00:00, 42.4MB/s]\u001B[A\n",
      "100%|█████████████████████████████████████| 18.5M/18.5M [00:00<00:00, 22.5GB/s]\u001B[A\n",
      "SHA256 hash of downloaded file: a19b5a0e1e59e2aea04c6d21ad19b6cf11f7eb2074dd59617bb9effd5b30d212\n",
      "Use this value as the 'known_hash' argument of 'pooch.retrieve' to ensure that the file hasn't changed if it is downloaded again in the future.\n",
      "/Users/marieconstance.corsi/anaconda3/envs/moabb_minischool/lib/python3.9/site-packages/moabb/datasets/preprocessing.py:279: UserWarning: warnEpochs <Epochs |  576 events (all good), 0 – 0.800781 s, baseline off, ~14.5 MB, data loaded,\n",
      " 'Target': 96\n",
      " 'NonTarget': 480>\n",
      "  warn(f\"warnEpochs {epochs}\")\n",
      "/Users/marieconstance.corsi/anaconda3/envs/moabb_minischool/lib/python3.9/site-packages/moabb/datasets/preprocessing.py:279: UserWarning: warnEpochs <Epochs |  576 events (all good), 0 – 0.800781 s, baseline off, ~14.5 MB, data loaded,\n",
      " 'Target': 96\n",
      " 'NonTarget': 480>\n",
      "  warn(f\"warnEpochs {epochs}\")\n",
      "/Users/marieconstance.corsi/anaconda3/envs/moabb_minischool/lib/python3.9/site-packages/moabb/datasets/preprocessing.py:279: UserWarning: warnEpochs <Epochs |  576 events (all good), 0 – 0.800781 s, baseline off, ~14.5 MB, data loaded,\n",
      " 'Target': 96\n",
      " 'NonTarget': 480>\n",
      "  warn(f\"warnEpochs {epochs}\")\n",
      "/Users/marieconstance.corsi/anaconda3/envs/moabb_minischool/lib/python3.9/site-packages/sklearn/preprocessing/_function_transformer.py:379: FutureWarning: The current default of copy=False will change to copy=True in 1.7. Set the value of copy explicitly to avoid this warning\n",
      "  return func(X, **(kw_args if kw_args else {}))\n",
      "/Users/marieconstance.corsi/anaconda3/envs/moabb_minischool/lib/python3.9/site-packages/sklearn/preprocessing/_function_transformer.py:379: FutureWarning: The current default of copy=False will change to copy=True in 1.7. Set the value of copy explicitly to avoid this warning\n",
      "  return func(X, **(kw_args if kw_args else {}))\n",
      "/Users/marieconstance.corsi/anaconda3/envs/moabb_minischool/lib/python3.9/site-packages/sklearn/preprocessing/_function_transformer.py:379: FutureWarning: The current default of copy=False will change to copy=True in 1.7. Set the value of copy explicitly to avoid this warning\n",
      "  return func(X, **(kw_args if kw_args else {}))\n"
     ]
    },
    {
     "name": "stdout",
     "output_type": "stream",
     "text": [
      "No hdf5_path provided, models will not be saved.\n",
      "No hdf5_path provided, models will not be saved.\n",
      "No hdf5_path provided, models will not be saved.\n",
      "No hdf5_path provided, models will not be saved.\n",
      "No hdf5_path provided, models will not be saved.\n",
      "No hdf5_path provided, models will not be saved.\n"
     ]
    },
    {
     "name": "stderr",
     "output_type": "stream",
     "text": [
      "BNCI2014-009-WithinSession:  30%|███       | 3/10 [00:22<00:51,  7.35s/it]Downloading data from 'http://bnci-horizon-2020.eu/database/data-sets/009-2014/A04S.mat' to file '/Users/marieconstance.corsi/mne_data_test/MNE-bnci-data/database/data-sets/009-2014/A04S.mat'.\n",
      "/Users/marieconstance.corsi/anaconda3/envs/moabb_minischool/lib/python3.9/site-packages/urllib3/connectionpool.py:1103: InsecureRequestWarning: Unverified HTTPS request is being made to host 'lampx.tugraz.at'. Adding certificate verification is strongly advised. See: https://urllib3.readthedocs.io/en/latest/advanced-usage.html#tls-warnings\n",
      "  warnings.warn(\n",
      "\n",
      "  0%|                                              | 0.00/18.5M [00:00<?, ?B/s]\u001B[A\n",
      "  1%|▍                                     | 209k/18.5M [00:00<00:10, 1.81MB/s]\u001B[A\n",
      " 10%|███▋                                 | 1.85M/18.5M [00:00<00:01, 9.86MB/s]\u001B[A\n",
      " 36%|█████████████▎                       | 6.70M/18.5M [00:00<00:00, 26.9MB/s]\u001B[A\n",
      " 70%|█████████████████████████▉           | 13.0M/18.5M [00:00<00:00, 40.6MB/s]\u001B[A\n",
      "100%|█████████████████████████████████████| 18.5M/18.5M [00:00<00:00, 21.5GB/s]\u001B[A\n",
      "SHA256 hash of downloaded file: 3958a8fcfc65255629640a89dcd17cd8f374a8d9df2c6c7b807bfb5fae256419\n",
      "Use this value as the 'known_hash' argument of 'pooch.retrieve' to ensure that the file hasn't changed if it is downloaded again in the future.\n",
      "/Users/marieconstance.corsi/anaconda3/envs/moabb_minischool/lib/python3.9/site-packages/moabb/datasets/preprocessing.py:279: UserWarning: warnEpochs <Epochs |  576 events (all good), 0 – 0.800781 s, baseline off, ~14.5 MB, data loaded,\n",
      " 'Target': 96\n",
      " 'NonTarget': 480>\n",
      "  warn(f\"warnEpochs {epochs}\")\n",
      "/Users/marieconstance.corsi/anaconda3/envs/moabb_minischool/lib/python3.9/site-packages/moabb/datasets/preprocessing.py:279: UserWarning: warnEpochs <Epochs |  576 events (all good), 0 – 0.800781 s, baseline off, ~14.5 MB, data loaded,\n",
      " 'Target': 96\n",
      " 'NonTarget': 480>\n",
      "  warn(f\"warnEpochs {epochs}\")\n",
      "/Users/marieconstance.corsi/anaconda3/envs/moabb_minischool/lib/python3.9/site-packages/moabb/datasets/preprocessing.py:279: UserWarning: warnEpochs <Epochs |  576 events (all good), 0 – 0.800781 s, baseline off, ~14.5 MB, data loaded,\n",
      " 'Target': 96\n",
      " 'NonTarget': 480>\n",
      "  warn(f\"warnEpochs {epochs}\")\n",
      "/Users/marieconstance.corsi/anaconda3/envs/moabb_minischool/lib/python3.9/site-packages/sklearn/preprocessing/_function_transformer.py:379: FutureWarning: The current default of copy=False will change to copy=True in 1.7. Set the value of copy explicitly to avoid this warning\n",
      "  return func(X, **(kw_args if kw_args else {}))\n",
      "/Users/marieconstance.corsi/anaconda3/envs/moabb_minischool/lib/python3.9/site-packages/sklearn/preprocessing/_function_transformer.py:379: FutureWarning: The current default of copy=False will change to copy=True in 1.7. Set the value of copy explicitly to avoid this warning\n",
      "  return func(X, **(kw_args if kw_args else {}))\n",
      "/Users/marieconstance.corsi/anaconda3/envs/moabb_minischool/lib/python3.9/site-packages/sklearn/preprocessing/_function_transformer.py:379: FutureWarning: The current default of copy=False will change to copy=True in 1.7. Set the value of copy explicitly to avoid this warning\n",
      "  return func(X, **(kw_args if kw_args else {}))\n"
     ]
    },
    {
     "name": "stdout",
     "output_type": "stream",
     "text": [
      "No hdf5_path provided, models will not be saved.\n",
      "No hdf5_path provided, models will not be saved.\n",
      "No hdf5_path provided, models will not be saved.\n",
      "No hdf5_path provided, models will not be saved.\n",
      "No hdf5_path provided, models will not be saved.\n",
      "No hdf5_path provided, models will not be saved.\n"
     ]
    },
    {
     "name": "stderr",
     "output_type": "stream",
     "text": [
      "BNCI2014-009-WithinSession:  40%|████      | 4/10 [00:29<00:44,  7.35s/it]Downloading data from 'http://bnci-horizon-2020.eu/database/data-sets/009-2014/A05S.mat' to file '/Users/marieconstance.corsi/mne_data_test/MNE-bnci-data/database/data-sets/009-2014/A05S.mat'.\n",
      "/Users/marieconstance.corsi/anaconda3/envs/moabb_minischool/lib/python3.9/site-packages/urllib3/connectionpool.py:1103: InsecureRequestWarning: Unverified HTTPS request is being made to host 'lampx.tugraz.at'. Adding certificate verification is strongly advised. See: https://urllib3.readthedocs.io/en/latest/advanced-usage.html#tls-warnings\n",
      "  warnings.warn(\n",
      "\n",
      "  0%|                                              | 0.00/18.5M [00:00<?, ?B/s]\u001B[A\n",
      "  1%|▍                                     | 209k/18.5M [00:00<00:10, 1.67MB/s]\u001B[A\n",
      " 10%|███▋                                 | 1.82M/18.5M [00:00<00:01, 9.37MB/s]\u001B[A\n",
      " 42%|███████████████▌                     | 7.81M/18.5M [00:00<00:00, 31.2MB/s]\u001B[A\n",
      " 79%|█████████████████████████████        | 14.6M/18.5M [00:00<00:00, 45.1MB/s]\u001B[A\n",
      "100%|█████████████████████████████████████| 18.5M/18.5M [00:00<00:00, 21.3GB/s]\u001B[A\n",
      "SHA256 hash of downloaded file: 46f42354ec901ea24a3a5f5a7755af7e3bedc5b3f1ac5d0094f6874f9132e53c\n",
      "Use this value as the 'known_hash' argument of 'pooch.retrieve' to ensure that the file hasn't changed if it is downloaded again in the future.\n",
      "/Users/marieconstance.corsi/anaconda3/envs/moabb_minischool/lib/python3.9/site-packages/moabb/datasets/preprocessing.py:279: UserWarning: warnEpochs <Epochs |  576 events (all good), 0 – 0.800781 s, baseline off, ~14.5 MB, data loaded,\n",
      " 'Target': 96\n",
      " 'NonTarget': 480>\n",
      "  warn(f\"warnEpochs {epochs}\")\n",
      "/Users/marieconstance.corsi/anaconda3/envs/moabb_minischool/lib/python3.9/site-packages/moabb/datasets/preprocessing.py:279: UserWarning: warnEpochs <Epochs |  576 events (all good), 0 – 0.800781 s, baseline off, ~14.5 MB, data loaded,\n",
      " 'Target': 96\n",
      " 'NonTarget': 480>\n",
      "  warn(f\"warnEpochs {epochs}\")\n",
      "/Users/marieconstance.corsi/anaconda3/envs/moabb_minischool/lib/python3.9/site-packages/moabb/datasets/preprocessing.py:279: UserWarning: warnEpochs <Epochs |  576 events (all good), 0 – 0.800781 s, baseline off, ~14.5 MB, data loaded,\n",
      " 'Target': 96\n",
      " 'NonTarget': 480>\n",
      "  warn(f\"warnEpochs {epochs}\")\n",
      "/Users/marieconstance.corsi/anaconda3/envs/moabb_minischool/lib/python3.9/site-packages/sklearn/preprocessing/_function_transformer.py:379: FutureWarning: The current default of copy=False will change to copy=True in 1.7. Set the value of copy explicitly to avoid this warning\n",
      "  return func(X, **(kw_args if kw_args else {}))\n",
      "/Users/marieconstance.corsi/anaconda3/envs/moabb_minischool/lib/python3.9/site-packages/sklearn/preprocessing/_function_transformer.py:379: FutureWarning: The current default of copy=False will change to copy=True in 1.7. Set the value of copy explicitly to avoid this warning\n",
      "  return func(X, **(kw_args if kw_args else {}))\n",
      "/Users/marieconstance.corsi/anaconda3/envs/moabb_minischool/lib/python3.9/site-packages/sklearn/preprocessing/_function_transformer.py:379: FutureWarning: The current default of copy=False will change to copy=True in 1.7. Set the value of copy explicitly to avoid this warning\n",
      "  return func(X, **(kw_args if kw_args else {}))\n"
     ]
    },
    {
     "name": "stdout",
     "output_type": "stream",
     "text": [
      "No hdf5_path provided, models will not be saved.\n",
      "No hdf5_path provided, models will not be saved.\n",
      "No hdf5_path provided, models will not be saved.\n",
      "No hdf5_path provided, models will not be saved.\n",
      "No hdf5_path provided, models will not be saved.\n",
      "No hdf5_path provided, models will not be saved.\n"
     ]
    },
    {
     "name": "stderr",
     "output_type": "stream",
     "text": [
      "BNCI2014-009-WithinSession:  50%|█████     | 5/10 [00:36<00:36,  7.31s/it]Downloading data from 'http://bnci-horizon-2020.eu/database/data-sets/009-2014/A06S.mat' to file '/Users/marieconstance.corsi/mne_data_test/MNE-bnci-data/database/data-sets/009-2014/A06S.mat'.\n",
      "/Users/marieconstance.corsi/anaconda3/envs/moabb_minischool/lib/python3.9/site-packages/urllib3/connectionpool.py:1103: InsecureRequestWarning: Unverified HTTPS request is being made to host 'lampx.tugraz.at'. Adding certificate verification is strongly advised. See: https://urllib3.readthedocs.io/en/latest/advanced-usage.html#tls-warnings\n",
      "  warnings.warn(\n",
      "\n",
      "  0%|                                              | 0.00/18.5M [00:00<?, ?B/s]\u001B[A\n",
      "  1%|▍                                     | 209k/18.5M [00:00<00:10, 1.82MB/s]\u001B[A\n",
      " 10%|███▋                                 | 1.82M/18.5M [00:00<00:01, 9.73MB/s]\u001B[A\n",
      " 39%|██████████████▍                      | 7.24M/18.5M [00:00<00:00, 29.4MB/s]\u001B[A\n",
      " 78%|████████████████████████████▉        | 14.5M/18.5M [00:00<00:00, 45.9MB/s]\u001B[A\n",
      "100%|█████████████████████████████████████| 18.5M/18.5M [00:00<00:00, 20.2GB/s]\u001B[A\n",
      "SHA256 hash of downloaded file: fb8045eae01d52bff6c0d9eff3233992e579fd12d4253ea3bbb5a1e64ea19081\n",
      "Use this value as the 'known_hash' argument of 'pooch.retrieve' to ensure that the file hasn't changed if it is downloaded again in the future.\n",
      "/Users/marieconstance.corsi/anaconda3/envs/moabb_minischool/lib/python3.9/site-packages/moabb/datasets/preprocessing.py:279: UserWarning: warnEpochs <Epochs |  576 events (all good), 0 – 0.800781 s, baseline off, ~14.5 MB, data loaded,\n",
      " 'Target': 96\n",
      " 'NonTarget': 480>\n",
      "  warn(f\"warnEpochs {epochs}\")\n",
      "/Users/marieconstance.corsi/anaconda3/envs/moabb_minischool/lib/python3.9/site-packages/moabb/datasets/preprocessing.py:279: UserWarning: warnEpochs <Epochs |  576 events (all good), 0 – 0.800781 s, baseline off, ~14.5 MB, data loaded,\n",
      " 'Target': 96\n",
      " 'NonTarget': 480>\n",
      "  warn(f\"warnEpochs {epochs}\")\n",
      "/Users/marieconstance.corsi/anaconda3/envs/moabb_minischool/lib/python3.9/site-packages/moabb/datasets/preprocessing.py:279: UserWarning: warnEpochs <Epochs |  576 events (all good), 0 – 0.800781 s, baseline off, ~14.5 MB, data loaded,\n",
      " 'Target': 96\n",
      " 'NonTarget': 480>\n",
      "  warn(f\"warnEpochs {epochs}\")\n",
      "/Users/marieconstance.corsi/anaconda3/envs/moabb_minischool/lib/python3.9/site-packages/sklearn/preprocessing/_function_transformer.py:379: FutureWarning: The current default of copy=False will change to copy=True in 1.7. Set the value of copy explicitly to avoid this warning\n",
      "  return func(X, **(kw_args if kw_args else {}))\n",
      "/Users/marieconstance.corsi/anaconda3/envs/moabb_minischool/lib/python3.9/site-packages/sklearn/preprocessing/_function_transformer.py:379: FutureWarning: The current default of copy=False will change to copy=True in 1.7. Set the value of copy explicitly to avoid this warning\n",
      "  return func(X, **(kw_args if kw_args else {}))\n",
      "/Users/marieconstance.corsi/anaconda3/envs/moabb_minischool/lib/python3.9/site-packages/sklearn/preprocessing/_function_transformer.py:379: FutureWarning: The current default of copy=False will change to copy=True in 1.7. Set the value of copy explicitly to avoid this warning\n",
      "  return func(X, **(kw_args if kw_args else {}))\n"
     ]
    },
    {
     "name": "stdout",
     "output_type": "stream",
     "text": [
      "No hdf5_path provided, models will not be saved.\n",
      "No hdf5_path provided, models will not be saved.\n",
      "No hdf5_path provided, models will not be saved.\n",
      "No hdf5_path provided, models will not be saved.\n",
      "No hdf5_path provided, models will not be saved.\n",
      "No hdf5_path provided, models will not be saved.\n"
     ]
    },
    {
     "name": "stderr",
     "output_type": "stream",
     "text": [
      "BNCI2014-009-WithinSession:  60%|██████    | 6/10 [00:43<00:29,  7.26s/it]Downloading data from 'http://bnci-horizon-2020.eu/database/data-sets/009-2014/A07S.mat' to file '/Users/marieconstance.corsi/mne_data_test/MNE-bnci-data/database/data-sets/009-2014/A07S.mat'.\n",
      "/Users/marieconstance.corsi/anaconda3/envs/moabb_minischool/lib/python3.9/site-packages/urllib3/connectionpool.py:1103: InsecureRequestWarning: Unverified HTTPS request is being made to host 'lampx.tugraz.at'. Adding certificate verification is strongly advised. See: https://urllib3.readthedocs.io/en/latest/advanced-usage.html#tls-warnings\n",
      "  warnings.warn(\n",
      "\n",
      "  0%|                                              | 0.00/18.5M [00:00<?, ?B/s]\u001B[A\n",
      "  1%|▏                                     | 96.3k/18.5M [00:00<00:20, 880kB/s]\u001B[A\n",
      "  5%|█▊                                    | 896k/18.5M [00:00<00:03, 4.51MB/s]\u001B[A\n",
      " 22%|███████▉                             | 3.99M/18.5M [00:00<00:00, 15.8MB/s]\u001B[A\n",
      " 56%|████████████████████▌                | 10.3M/18.5M [00:00<00:00, 33.7MB/s]\u001B[A\n",
      " 78%|████████████████████████████▊        | 14.4M/18.5M [00:00<00:00, 36.2MB/s]\u001B[A\n",
      "100%|█████████████████████████████████████| 18.5M/18.5M [00:00<00:00, 21.5GB/s]\u001B[A\n",
      "SHA256 hash of downloaded file: d21a920cf252e68fb02153afbfcc6114df50d5c8b082ae48317473776866fd4d\n",
      "Use this value as the 'known_hash' argument of 'pooch.retrieve' to ensure that the file hasn't changed if it is downloaded again in the future.\n",
      "/Users/marieconstance.corsi/anaconda3/envs/moabb_minischool/lib/python3.9/site-packages/moabb/datasets/preprocessing.py:279: UserWarning: warnEpochs <Epochs |  576 events (all good), 0 – 0.800781 s, baseline off, ~14.5 MB, data loaded,\n",
      " 'Target': 96\n",
      " 'NonTarget': 480>\n",
      "  warn(f\"warnEpochs {epochs}\")\n",
      "/Users/marieconstance.corsi/anaconda3/envs/moabb_minischool/lib/python3.9/site-packages/moabb/datasets/preprocessing.py:279: UserWarning: warnEpochs <Epochs |  576 events (all good), 0 – 0.800781 s, baseline off, ~14.5 MB, data loaded,\n",
      " 'Target': 96\n",
      " 'NonTarget': 480>\n",
      "  warn(f\"warnEpochs {epochs}\")\n",
      "/Users/marieconstance.corsi/anaconda3/envs/moabb_minischool/lib/python3.9/site-packages/moabb/datasets/preprocessing.py:279: UserWarning: warnEpochs <Epochs |  576 events (all good), 0 – 0.800781 s, baseline off, ~14.5 MB, data loaded,\n",
      " 'Target': 96\n",
      " 'NonTarget': 480>\n",
      "  warn(f\"warnEpochs {epochs}\")\n",
      "/Users/marieconstance.corsi/anaconda3/envs/moabb_minischool/lib/python3.9/site-packages/sklearn/preprocessing/_function_transformer.py:379: FutureWarning: The current default of copy=False will change to copy=True in 1.7. Set the value of copy explicitly to avoid this warning\n",
      "  return func(X, **(kw_args if kw_args else {}))\n",
      "/Users/marieconstance.corsi/anaconda3/envs/moabb_minischool/lib/python3.9/site-packages/sklearn/preprocessing/_function_transformer.py:379: FutureWarning: The current default of copy=False will change to copy=True in 1.7. Set the value of copy explicitly to avoid this warning\n",
      "  return func(X, **(kw_args if kw_args else {}))\n",
      "/Users/marieconstance.corsi/anaconda3/envs/moabb_minischool/lib/python3.9/site-packages/sklearn/preprocessing/_function_transformer.py:379: FutureWarning: The current default of copy=False will change to copy=True in 1.7. Set the value of copy explicitly to avoid this warning\n",
      "  return func(X, **(kw_args if kw_args else {}))\n"
     ]
    },
    {
     "name": "stdout",
     "output_type": "stream",
     "text": [
      "No hdf5_path provided, models will not be saved.\n",
      "No hdf5_path provided, models will not be saved.\n",
      "No hdf5_path provided, models will not be saved.\n",
      "No hdf5_path provided, models will not be saved.\n",
      "No hdf5_path provided, models will not be saved.\n",
      "No hdf5_path provided, models will not be saved.\n"
     ]
    },
    {
     "name": "stderr",
     "output_type": "stream",
     "text": [
      "BNCI2014-009-WithinSession:  70%|███████   | 7/10 [00:51<00:21,  7.27s/it]Downloading data from 'http://bnci-horizon-2020.eu/database/data-sets/009-2014/A08S.mat' to file '/Users/marieconstance.corsi/mne_data_test/MNE-bnci-data/database/data-sets/009-2014/A08S.mat'.\n",
      "/Users/marieconstance.corsi/anaconda3/envs/moabb_minischool/lib/python3.9/site-packages/urllib3/connectionpool.py:1103: InsecureRequestWarning: Unverified HTTPS request is being made to host 'lampx.tugraz.at'. Adding certificate verification is strongly advised. See: https://urllib3.readthedocs.io/en/latest/advanced-usage.html#tls-warnings\n",
      "  warnings.warn(\n",
      "\n",
      "  0%|                                              | 0.00/18.5M [00:00<?, ?B/s]\u001B[A\n",
      "  1%|▍                                     | 209k/18.5M [00:00<00:11, 1.65MB/s]\u001B[A\n",
      " 10%|███▌                                 | 1.78M/18.5M [00:00<00:01, 9.10MB/s]\u001B[A\n",
      " 38%|█████████████▉                       | 6.98M/18.5M [00:00<00:00, 27.5MB/s]\u001B[A\n",
      " 71%|██████████████████████████▍          | 13.2M/18.5M [00:00<00:00, 40.9MB/s]\u001B[A\n",
      "100%|█████████████████████████████████████| 18.5M/18.5M [00:00<00:00, 19.1GB/s]\u001B[A\n",
      "SHA256 hash of downloaded file: c1e9716f0c48cc78b59892a2ca6e707f66ce8c054da499f43298768e5270074b\n",
      "Use this value as the 'known_hash' argument of 'pooch.retrieve' to ensure that the file hasn't changed if it is downloaded again in the future.\n",
      "/Users/marieconstance.corsi/anaconda3/envs/moabb_minischool/lib/python3.9/site-packages/moabb/datasets/preprocessing.py:279: UserWarning: warnEpochs <Epochs |  576 events (all good), 0 – 0.800781 s, baseline off, ~14.5 MB, data loaded,\n",
      " 'Target': 96\n",
      " 'NonTarget': 480>\n",
      "  warn(f\"warnEpochs {epochs}\")\n",
      "/Users/marieconstance.corsi/anaconda3/envs/moabb_minischool/lib/python3.9/site-packages/moabb/datasets/preprocessing.py:279: UserWarning: warnEpochs <Epochs |  576 events (all good), 0 – 0.800781 s, baseline off, ~14.5 MB, data loaded,\n",
      " 'Target': 96\n",
      " 'NonTarget': 480>\n",
      "  warn(f\"warnEpochs {epochs}\")\n",
      "/Users/marieconstance.corsi/anaconda3/envs/moabb_minischool/lib/python3.9/site-packages/moabb/datasets/preprocessing.py:279: UserWarning: warnEpochs <Epochs |  576 events (all good), 0 – 0.800781 s, baseline off, ~14.5 MB, data loaded,\n",
      " 'Target': 96\n",
      " 'NonTarget': 480>\n",
      "  warn(f\"warnEpochs {epochs}\")\n",
      "/Users/marieconstance.corsi/anaconda3/envs/moabb_minischool/lib/python3.9/site-packages/sklearn/preprocessing/_function_transformer.py:379: FutureWarning: The current default of copy=False will change to copy=True in 1.7. Set the value of copy explicitly to avoid this warning\n",
      "  return func(X, **(kw_args if kw_args else {}))\n",
      "/Users/marieconstance.corsi/anaconda3/envs/moabb_minischool/lib/python3.9/site-packages/sklearn/preprocessing/_function_transformer.py:379: FutureWarning: The current default of copy=False will change to copy=True in 1.7. Set the value of copy explicitly to avoid this warning\n",
      "  return func(X, **(kw_args if kw_args else {}))\n",
      "/Users/marieconstance.corsi/anaconda3/envs/moabb_minischool/lib/python3.9/site-packages/sklearn/preprocessing/_function_transformer.py:379: FutureWarning: The current default of copy=False will change to copy=True in 1.7. Set the value of copy explicitly to avoid this warning\n",
      "  return func(X, **(kw_args if kw_args else {}))\n"
     ]
    },
    {
     "name": "stdout",
     "output_type": "stream",
     "text": [
      "No hdf5_path provided, models will not be saved.\n",
      "No hdf5_path provided, models will not be saved.\n",
      "No hdf5_path provided, models will not be saved.\n",
      "No hdf5_path provided, models will not be saved.\n",
      "No hdf5_path provided, models will not be saved.\n",
      "No hdf5_path provided, models will not be saved.\n"
     ]
    },
    {
     "name": "stderr",
     "output_type": "stream",
     "text": [
      "BNCI2014-009-WithinSession:  80%|████████  | 8/10 [00:58<00:14,  7.27s/it]Downloading data from 'http://bnci-horizon-2020.eu/database/data-sets/009-2014/A09S.mat' to file '/Users/marieconstance.corsi/mne_data_test/MNE-bnci-data/database/data-sets/009-2014/A09S.mat'.\n",
      "/Users/marieconstance.corsi/anaconda3/envs/moabb_minischool/lib/python3.9/site-packages/urllib3/connectionpool.py:1103: InsecureRequestWarning: Unverified HTTPS request is being made to host 'lampx.tugraz.at'. Adding certificate verification is strongly advised. See: https://urllib3.readthedocs.io/en/latest/advanced-usage.html#tls-warnings\n",
      "  warnings.warn(\n",
      "\n",
      "  0%|                                              | 0.00/18.5M [00:00<?, ?B/s]\u001B[A\n",
      "  1%|▍                                     | 209k/18.5M [00:00<00:11, 1.59MB/s]\u001B[A\n",
      " 10%|███▌                                 | 1.81M/18.5M [00:00<00:01, 8.60MB/s]\u001B[A\n",
      " 25%|█████████▍                           | 4.72M/18.5M [00:00<00:00, 17.1MB/s]\u001B[A\n",
      " 42%|███████████████▋                     | 7.86M/18.5M [00:00<00:00, 22.3MB/s]\u001B[A\n",
      " 66%|████████████████████████▍            | 12.2M/18.5M [00:00<00:00, 29.6MB/s]\u001B[A\n",
      " 92%|█████████████████████████████████▉   | 17.0M/18.5M [00:00<00:00, 35.6MB/s]\u001B[A\n",
      "100%|█████████████████████████████████████| 18.5M/18.5M [00:00<00:00, 21.2GB/s]\u001B[A\n",
      "SHA256 hash of downloaded file: c760087eac882541b2a67fc7d0a2cd698eb9ee469687c8fa2e59ed3d10ba4d48\n",
      "Use this value as the 'known_hash' argument of 'pooch.retrieve' to ensure that the file hasn't changed if it is downloaded again in the future.\n",
      "/Users/marieconstance.corsi/anaconda3/envs/moabb_minischool/lib/python3.9/site-packages/moabb/datasets/preprocessing.py:279: UserWarning: warnEpochs <Epochs |  576 events (all good), 0 – 0.800781 s, baseline off, ~14.5 MB, data loaded,\n",
      " 'Target': 96\n",
      " 'NonTarget': 480>\n",
      "  warn(f\"warnEpochs {epochs}\")\n",
      "/Users/marieconstance.corsi/anaconda3/envs/moabb_minischool/lib/python3.9/site-packages/moabb/datasets/preprocessing.py:279: UserWarning: warnEpochs <Epochs |  576 events (all good), 0 – 0.800781 s, baseline off, ~14.5 MB, data loaded,\n",
      " 'Target': 96\n",
      " 'NonTarget': 480>\n",
      "  warn(f\"warnEpochs {epochs}\")\n",
      "/Users/marieconstance.corsi/anaconda3/envs/moabb_minischool/lib/python3.9/site-packages/moabb/datasets/preprocessing.py:279: UserWarning: warnEpochs <Epochs |  576 events (all good), 0 – 0.800781 s, baseline off, ~14.5 MB, data loaded,\n",
      " 'Target': 96\n",
      " 'NonTarget': 480>\n",
      "  warn(f\"warnEpochs {epochs}\")\n",
      "/Users/marieconstance.corsi/anaconda3/envs/moabb_minischool/lib/python3.9/site-packages/sklearn/preprocessing/_function_transformer.py:379: FutureWarning: The current default of copy=False will change to copy=True in 1.7. Set the value of copy explicitly to avoid this warning\n",
      "  return func(X, **(kw_args if kw_args else {}))\n",
      "/Users/marieconstance.corsi/anaconda3/envs/moabb_minischool/lib/python3.9/site-packages/sklearn/preprocessing/_function_transformer.py:379: FutureWarning: The current default of copy=False will change to copy=True in 1.7. Set the value of copy explicitly to avoid this warning\n",
      "  return func(X, **(kw_args if kw_args else {}))\n",
      "/Users/marieconstance.corsi/anaconda3/envs/moabb_minischool/lib/python3.9/site-packages/sklearn/preprocessing/_function_transformer.py:379: FutureWarning: The current default of copy=False will change to copy=True in 1.7. Set the value of copy explicitly to avoid this warning\n",
      "  return func(X, **(kw_args if kw_args else {}))\n"
     ]
    },
    {
     "name": "stdout",
     "output_type": "stream",
     "text": [
      "No hdf5_path provided, models will not be saved.\n",
      "No hdf5_path provided, models will not be saved.\n",
      "No hdf5_path provided, models will not be saved.\n",
      "No hdf5_path provided, models will not be saved.\n",
      "No hdf5_path provided, models will not be saved.\n",
      "No hdf5_path provided, models will not be saved.\n"
     ]
    },
    {
     "name": "stderr",
     "output_type": "stream",
     "text": [
      "BNCI2014-009-WithinSession:  90%|█████████ | 9/10 [01:05<00:07,  7.34s/it]Downloading data from 'http://bnci-horizon-2020.eu/database/data-sets/009-2014/A10S.mat' to file '/Users/marieconstance.corsi/mne_data_test/MNE-bnci-data/database/data-sets/009-2014/A10S.mat'.\n",
      "/Users/marieconstance.corsi/anaconda3/envs/moabb_minischool/lib/python3.9/site-packages/urllib3/connectionpool.py:1103: InsecureRequestWarning: Unverified HTTPS request is being made to host 'lampx.tugraz.at'. Adding certificate verification is strongly advised. See: https://urllib3.readthedocs.io/en/latest/advanced-usage.html#tls-warnings\n",
      "  warnings.warn(\n",
      "\n",
      "  0%|                                              | 0.00/18.5M [00:00<?, ?B/s]\u001B[A\n",
      "  1%|▍                                     | 209k/18.5M [00:00<00:11, 1.66MB/s]\u001B[A\n",
      " 10%|███▋                                 | 1.86M/18.5M [00:00<00:01, 9.31MB/s]\u001B[A\n",
      " 41%|███████████████                      | 7.52M/18.5M [00:00<00:00, 29.5MB/s]\u001B[A\n",
      " 75%|███████████████████████████▋         | 13.9M/18.5M [00:00<00:00, 36.9MB/s]\u001B[A\n",
      "100%|█████████████████████████████████████| 18.5M/18.5M [00:00<00:00, 20.6GB/s]\u001B[A\n",
      "SHA256 hash of downloaded file: 22361acbc546e7f0f1ef7af7789088068df1bb37bd51f00b4786975c544ddc5e\n",
      "Use this value as the 'known_hash' argument of 'pooch.retrieve' to ensure that the file hasn't changed if it is downloaded again in the future.\n",
      "/Users/marieconstance.corsi/anaconda3/envs/moabb_minischool/lib/python3.9/site-packages/moabb/datasets/preprocessing.py:279: UserWarning: warnEpochs <Epochs |  576 events (all good), 0 – 0.800781 s, baseline off, ~14.5 MB, data loaded,\n",
      " 'Target': 96\n",
      " 'NonTarget': 480>\n",
      "  warn(f\"warnEpochs {epochs}\")\n",
      "/Users/marieconstance.corsi/anaconda3/envs/moabb_minischool/lib/python3.9/site-packages/moabb/datasets/preprocessing.py:279: UserWarning: warnEpochs <Epochs |  576 events (all good), 0 – 0.800781 s, baseline off, ~14.5 MB, data loaded,\n",
      " 'Target': 96\n",
      " 'NonTarget': 480>\n",
      "  warn(f\"warnEpochs {epochs}\")\n",
      "/Users/marieconstance.corsi/anaconda3/envs/moabb_minischool/lib/python3.9/site-packages/moabb/datasets/preprocessing.py:279: UserWarning: warnEpochs <Epochs |  576 events (all good), 0 – 0.800781 s, baseline off, ~14.5 MB, data loaded,\n",
      " 'Target': 96\n",
      " 'NonTarget': 480>\n",
      "  warn(f\"warnEpochs {epochs}\")\n",
      "/Users/marieconstance.corsi/anaconda3/envs/moabb_minischool/lib/python3.9/site-packages/sklearn/preprocessing/_function_transformer.py:379: FutureWarning: The current default of copy=False will change to copy=True in 1.7. Set the value of copy explicitly to avoid this warning\n",
      "  return func(X, **(kw_args if kw_args else {}))\n",
      "/Users/marieconstance.corsi/anaconda3/envs/moabb_minischool/lib/python3.9/site-packages/sklearn/preprocessing/_function_transformer.py:379: FutureWarning: The current default of copy=False will change to copy=True in 1.7. Set the value of copy explicitly to avoid this warning\n",
      "  return func(X, **(kw_args if kw_args else {}))\n",
      "/Users/marieconstance.corsi/anaconda3/envs/moabb_minischool/lib/python3.9/site-packages/sklearn/preprocessing/_function_transformer.py:379: FutureWarning: The current default of copy=False will change to copy=True in 1.7. Set the value of copy explicitly to avoid this warning\n",
      "  return func(X, **(kw_args if kw_args else {}))\n"
     ]
    },
    {
     "name": "stdout",
     "output_type": "stream",
     "text": [
      "No hdf5_path provided, models will not be saved.\n",
      "No hdf5_path provided, models will not be saved.\n",
      "No hdf5_path provided, models will not be saved.\n",
      "No hdf5_path provided, models will not be saved.\n",
      "No hdf5_path provided, models will not be saved.\n",
      "No hdf5_path provided, models will not be saved.\n"
     ]
    },
    {
     "name": "stderr",
     "output_type": "stream",
     "text": [
      "BNCI2014-009-WithinSession: 100%|██████████| 10/10 [01:13<00:00,  7.32s/it]\n"
     ]
    }
   ],
   "execution_count": 5
  },
  {
   "cell_type": "code",
   "id": "afce1471",
   "metadata": {
    "ExecuteTime": {
     "end_time": "2024-06-16T13:13:34.746892Z",
     "start_time": "2024-06-16T13:13:34.443283Z"
    }
   },
   "source": [
    "import seaborn as sns\n",
    "\n",
    "g = sns.catplot(kind=\"box\", x=\"score\", y=\"pipeline\", col=\"dataset\", aspect=1.5, data=results, orient='h', palette='viridis')"
   ],
   "outputs": [
    {
     "data": {
      "text/plain": [
       "<Figure size 1500x500 with 2 Axes>"
      ],
      "image/png": "[encoded data removed]"
     },
     "metadata": {},
     "output_type": "display_data"
    }
   ],
   "execution_count": 6
  },
  {
   "cell_type": "markdown",
   "id": "36973a35",
   "metadata": {},
   "source": [
    "Until now, we have always plotted the results using the seaborn package and creating the figure by ourselves. MOABB also offers some functionalities for analysing the results obtained after running an evaluation procedure.\n",
    "\n",
    "# Advanced statistical analysis and meta-analysis\n",
    "\n",
    "For instance, we may create a plot comparing the results with two classification algorithms as in:"
   ]
  },
  {
   "cell_type": "code",
   "id": "fa85a8f7",
   "metadata": {
    "ExecuteTime": {
     "end_time": "2024-06-16T13:13:42.626459Z",
     "start_time": "2024-06-16T13:13:42.483796Z"
    }
   },
   "source": [
    "from moabb.analysis.plotting import paired_plot\n",
    "\n",
    "alg1 = 'tgsp+svm'\n",
    "alg2 = 'MDM'\n",
    "fig = paired_plot(results, alg1, alg2)\n",
    "fig.set_size_inches(9,9)"
   ],
   "outputs": [
    {
     "data": {
      "text/plain": [
       "<Figure size 900x900 with 1 Axes>"
      ],
      "image/png": "[encoded data removed]"
     },
     "metadata": {},
     "output_type": "display_data"
    }
   ],
   "execution_count": 7
  },
  {
   "cell_type": "markdown",
   "id": "374ad472",
   "metadata": {},
   "source": [
    "N.B.: MOABB collapses the values from different sessions into a single average score, which is why we have the impression of having much less points than it should in the plot.\n",
    "\n",
    "We may also do statistical analysis on the results and plot them with MOABB. For this, we need to first generate an auxiliary dataframe containing all the statistics describing the results and, then, use it as input."
   ]
  },
  {
   "cell_type": "code",
   "id": "a02441da",
   "metadata": {
    "ExecuteTime": {
     "end_time": "2024-06-16T13:13:46.951655Z",
     "start_time": "2024-06-16T13:13:46.703905Z"
    }
   },
   "source": [
    "from moabb.analysis.meta_analysis import compute_dataset_statistics\n",
    "from moabb.analysis.plotting import meta_analysis_plot\n",
    "\n",
    "stats_df = compute_dataset_statistics(results)\n",
    "alg1 = 'tgsp+svm'\n",
    "alg2 = 'MDM'\n",
    "fig = meta_analysis_plot(stats_df, alg1, alg2)\n",
    "fig.set_size_inches(6, 5)"
   ],
   "outputs": [
    {
     "data": {
      "text/plain": [
       "<Figure size 600x500 with 2 Axes>"
      ],
      "image/png": "[encoded data removed]"
     },
     "metadata": {},
     "output_type": "display_data"
    }
   ],
   "execution_count": 8
  },
  {
   "cell_type": "code",
   "id": "22d81a34",
   "metadata": {
    "ExecuteTime": {
     "end_time": "2024-06-16T13:13:49.825523Z",
     "start_time": "2024-06-16T13:13:49.744462Z"
    }
   },
   "source": [
    "from moabb.analysis.meta_analysis import find_significant_differences\n",
    "from moabb.analysis.plotting import summary_plot\n",
    "\n",
    "P, T = find_significant_differences(stats_df)\n",
    "_ = summary_plot(P, T)"
   ],
   "outputs": [
    {
     "data": {
      "text/plain": [
       "<Figure size 640x480 with 1 Axes>"
      ],
      "image/png": "[encoded data removed]"
     },
     "metadata": {},
     "output_type": "display_data"
    }
   ],
   "execution_count": 9
  },
  {
   "cell_type": "markdown",
   "id": "33015804",
   "metadata": {},
   "source": [
    "# Adapting MOABB to your need\n",
    "\n",
    "Here are some exercices to introduce some useful possibilities offered by MOABB. \n"
   ]
  },
  {
   "cell_type": "markdown",
   "id": "7ac11658",
   "metadata": {},
   "source": [
    "## Add new datasets in the evaluation (level: easy 🤗)\n",
    "\n",
    "Use the code above to add another dataset in your evaluation"
   ]
  },
  {
   "cell_type": "code",
   "id": "a3cf2aa7",
   "metadata": {
    "ExecuteTime": {
     "end_time": "2024-06-16T13:15:44.716286Z",
     "start_time": "2024-06-16T13:14:05.025123Z"
    }
   },
   "source": [
    "from moabb.datasets import BNCI2015_003\n",
    "\n",
    "datasets = [BNCI2014_008(), BNCI2014_009(), BNCI2015_003()]\n",
    "paradigm = P300()\n",
    "evaluation = WithinSessionEvaluation(paradigm=paradigm, datasets=datasets, overwrite=False)\n",
    "\n",
    "results = evaluation.process(pipelines)"
   ],
   "outputs": [
    {
     "name": "stderr",
     "output_type": "stream",
     "text": [
      "BNCI2014-008-WithinSession:   0%|          | 0/8 [00:00<?, ?it/s]\n",
      "BNCI2014-009-WithinSession:   0%|          | 0/10 [00:00<?, ?it/s]\n",
      "BNCI2015-003-WithinSession:   0%|          | 0/10 [00:00<?, ?it/s]Downloading data from 'http://bnci-horizon-2020.eu/database/data-sets/003-2015/s1.mat' to file '/Users/marieconstance.corsi/mne_data_test/MNE-bnci-data/database/data-sets/003-2015/s1.mat'.\n",
      "/Users/marieconstance.corsi/anaconda3/envs/moabb_minischool/lib/python3.9/site-packages/urllib3/connectionpool.py:1103: InsecureRequestWarning: Unverified HTTPS request is being made to host 'lampx.tugraz.at'. Adding certificate verification is strongly advised. See: https://urllib3.readthedocs.io/en/latest/advanced-usage.html#tls-warnings\n",
      "  warnings.warn(\n",
      "\n",
      "  0%|                                              | 0.00/8.60M [00:00<?, ?B/s]\u001B[A\n",
      "  2%|▉                                     | 209k/8.60M [00:00<00:05, 1.65MB/s]\u001B[A\n",
      " 21%|███████▊                             | 1.82M/8.60M [00:00<00:00, 9.17MB/s]\u001B[A\n",
      " 82%|██████████████████████████████▍      | 7.07M/8.60M [00:00<00:00, 27.7MB/s]\u001B[A\n",
      "100%|█████████████████████████████████████| 8.60M/8.60M [00:00<00:00, 7.56GB/s]\u001B[A\n",
      "SHA256 hash of downloaded file: f542f80d2f9042901a3165265119f8d5c8b975fabeecced9c41257557e631c1d\n",
      "Use this value as the 'known_hash' argument of 'pooch.retrieve' to ensure that the file hasn't changed if it is downloaded again in the future.\n",
      "/Users/marieconstance.corsi/anaconda3/envs/moabb_minischool/lib/python3.9/site-packages/moabb/datasets/preprocessing.py:279: UserWarning: warnEpochs <Epochs |  2700 events (all good), 0 – 0.800781 s, baseline off, ~34.0 MB, data loaded,\n",
      " 'Target': 75\n",
      " 'NonTarget': 2625>\n",
      "  warn(f\"warnEpochs {epochs}\")\n",
      "/Users/marieconstance.corsi/anaconda3/envs/moabb_minischool/lib/python3.9/site-packages/moabb/datasets/preprocessing.py:279: UserWarning: warnEpochs <Epochs |  2700 events (all good), 0 – 0.800781 s, baseline off, ~34.0 MB, data loaded,\n",
      " 'Target': 75\n",
      " 'NonTarget': 2625>\n",
      "  warn(f\"warnEpochs {epochs}\")\n",
      "/Users/marieconstance.corsi/anaconda3/envs/moabb_minischool/lib/python3.9/site-packages/sklearn/preprocessing/_function_transformer.py:379: FutureWarning: The current default of copy=False will change to copy=True in 1.7. Set the value of copy explicitly to avoid this warning\n",
      "  return func(X, **(kw_args if kw_args else {}))\n",
      "/Users/marieconstance.corsi/anaconda3/envs/moabb_minischool/lib/python3.9/site-packages/sklearn/preprocessing/_function_transformer.py:379: FutureWarning: The current default of copy=False will change to copy=True in 1.7. Set the value of copy explicitly to avoid this warning\n",
      "  return func(X, **(kw_args if kw_args else {}))\n"
     ]
    },
    {
     "name": "stdout",
     "output_type": "stream",
     "text": [
      "No hdf5_path provided, models will not be saved.\n",
      "No hdf5_path provided, models will not be saved.\n"
     ]
    },
    {
     "name": "stderr",
     "output_type": "stream",
     "text": [
      "BNCI2015-003-WithinSession:  10%|█         | 1/10 [00:21<03:11, 21.26s/it]Downloading data from 'http://bnci-horizon-2020.eu/database/data-sets/003-2015/s2.mat' to file '/Users/marieconstance.corsi/mne_data_test/MNE-bnci-data/database/data-sets/003-2015/s2.mat'.\n",
      "/Users/marieconstance.corsi/anaconda3/envs/moabb_minischool/lib/python3.9/site-packages/urllib3/connectionpool.py:1103: InsecureRequestWarning: Unverified HTTPS request is being made to host 'lampx.tugraz.at'. Adding certificate verification is strongly advised. See: https://urllib3.readthedocs.io/en/latest/advanced-usage.html#tls-warnings\n",
      "  warnings.warn(\n",
      "\n",
      "  0%|                                              | 0.00/8.34M [00:00<?, ?B/s]\u001B[A\n",
      "  3%|▉                                     | 209k/8.34M [00:00<00:04, 1.64MB/s]\u001B[A\n",
      " 22%|████████                             | 1.81M/8.34M [00:00<00:00, 9.08MB/s]\u001B[A\n",
      " 94%|██████████████████████████████████▉  | 7.86M/8.34M [00:00<00:00, 31.0MB/s]\u001B[A\n",
      "100%|█████████████████████████████████████| 8.34M/8.34M [00:00<00:00, 8.53GB/s]\u001B[A\n",
      "SHA256 hash of downloaded file: d95f983f76d7d3b364031a9263ae907869e896c14e0911886230a7a961a8aaf7\n",
      "Use this value as the 'known_hash' argument of 'pooch.retrieve' to ensure that the file hasn't changed if it is downloaded again in the future.\n",
      "/Users/marieconstance.corsi/anaconda3/envs/moabb_minischool/lib/python3.9/site-packages/moabb/datasets/preprocessing.py:279: UserWarning: warnEpochs <Epochs |  2700 events (all good), 0 – 0.800781 s, baseline off, ~34.0 MB, data loaded,\n",
      " 'Target': 75\n",
      " 'NonTarget': 2625>\n",
      "  warn(f\"warnEpochs {epochs}\")\n",
      "/Users/marieconstance.corsi/anaconda3/envs/moabb_minischool/lib/python3.9/site-packages/moabb/datasets/preprocessing.py:279: UserWarning: warnEpochs <Epochs |  2700 events (all good), 0 – 0.800781 s, baseline off, ~34.0 MB, data loaded,\n",
      " 'Target': 75\n",
      " 'NonTarget': 2625>\n",
      "  warn(f\"warnEpochs {epochs}\")\n",
      "/Users/marieconstance.corsi/anaconda3/envs/moabb_minischool/lib/python3.9/site-packages/sklearn/preprocessing/_function_transformer.py:379: FutureWarning: The current default of copy=False will change to copy=True in 1.7. Set the value of copy explicitly to avoid this warning\n",
      "  return func(X, **(kw_args if kw_args else {}))\n",
      "/Users/marieconstance.corsi/anaconda3/envs/moabb_minischool/lib/python3.9/site-packages/sklearn/preprocessing/_function_transformer.py:379: FutureWarning: The current default of copy=False will change to copy=True in 1.7. Set the value of copy explicitly to avoid this warning\n",
      "  return func(X, **(kw_args if kw_args else {}))\n"
     ]
    },
    {
     "name": "stdout",
     "output_type": "stream",
     "text": [
      "No hdf5_path provided, models will not be saved.\n",
      "No hdf5_path provided, models will not be saved.\n"
     ]
    },
    {
     "name": "stderr",
     "output_type": "stream",
     "text": [
      "BNCI2015-003-WithinSession:  20%|██        | 2/10 [00:40<02:41, 20.19s/it]Downloading data from 'http://bnci-horizon-2020.eu/database/data-sets/003-2015/s3.mat' to file '/Users/marieconstance.corsi/mne_data_test/MNE-bnci-data/database/data-sets/003-2015/s3.mat'.\n",
      "/Users/marieconstance.corsi/anaconda3/envs/moabb_minischool/lib/python3.9/site-packages/urllib3/connectionpool.py:1103: InsecureRequestWarning: Unverified HTTPS request is being made to host 'lampx.tugraz.at'. Adding certificate verification is strongly advised. See: https://urllib3.readthedocs.io/en/latest/advanced-usage.html#tls-warnings\n",
      "  warnings.warn(\n",
      "\n",
      "  0%|                                              | 0.00/7.45M [00:00<?, ?B/s]\u001B[A\n",
      "  3%|█                                     | 209k/7.45M [00:00<00:04, 1.75MB/s]\u001B[A\n",
      " 24%|█████████                            | 1.82M/7.45M [00:00<00:00, 9.56MB/s]\u001B[A\n",
      " 98%|████████████████████████████████████▏| 7.27M/7.45M [00:00<00:00, 29.3MB/s]\u001B[A\n",
      "100%|█████████████████████████████████████| 7.45M/7.45M [00:00<00:00, 9.90GB/s]\u001B[A\n",
      "SHA256 hash of downloaded file: be397a729bd6c7fedfda91e610b24428804fd74d48f51238dabab03d796dd1d2\n",
      "Use this value as the 'known_hash' argument of 'pooch.retrieve' to ensure that the file hasn't changed if it is downloaded again in the future.\n",
      "/Users/marieconstance.corsi/anaconda3/envs/moabb_minischool/lib/python3.9/site-packages/moabb/datasets/preprocessing.py:279: UserWarning: warnEpochs <Epochs |  900 events (all good), 0 – 0.800781 s, baseline off, ~11.3 MB, data loaded,\n",
      " 'Target': 150\n",
      " 'NonTarget': 750>\n",
      "  warn(f\"warnEpochs {epochs}\")\n",
      "/Users/marieconstance.corsi/anaconda3/envs/moabb_minischool/lib/python3.9/site-packages/moabb/datasets/preprocessing.py:279: UserWarning: warnEpochs <Epochs |  900 events (all good), 0 – 0.800781 s, baseline off, ~11.3 MB, data loaded,\n",
      " 'Target': 150\n",
      " 'NonTarget': 750>\n",
      "  warn(f\"warnEpochs {epochs}\")\n",
      "/Users/marieconstance.corsi/anaconda3/envs/moabb_minischool/lib/python3.9/site-packages/sklearn/preprocessing/_function_transformer.py:379: FutureWarning: The current default of copy=False will change to copy=True in 1.7. Set the value of copy explicitly to avoid this warning\n",
      "  return func(X, **(kw_args if kw_args else {}))\n",
      "/Users/marieconstance.corsi/anaconda3/envs/moabb_minischool/lib/python3.9/site-packages/sklearn/preprocessing/_function_transformer.py:379: FutureWarning: The current default of copy=False will change to copy=True in 1.7. Set the value of copy explicitly to avoid this warning\n",
      "  return func(X, **(kw_args if kw_args else {}))\n"
     ]
    },
    {
     "name": "stdout",
     "output_type": "stream",
     "text": [
      "No hdf5_path provided, models will not be saved.\n",
      "No hdf5_path provided, models will not be saved.\n"
     ]
    },
    {
     "name": "stderr",
     "output_type": "stream",
     "text": [
      "BNCI2015-003-WithinSession:  30%|███       | 3/10 [00:48<01:40, 14.34s/it]Downloading data from 'http://bnci-horizon-2020.eu/database/data-sets/003-2015/s4.mat' to file '/Users/marieconstance.corsi/mne_data_test/MNE-bnci-data/database/data-sets/003-2015/s4.mat'.\n",
      "/Users/marieconstance.corsi/anaconda3/envs/moabb_minischool/lib/python3.9/site-packages/urllib3/connectionpool.py:1103: InsecureRequestWarning: Unverified HTTPS request is being made to host 'lampx.tugraz.at'. Adding certificate verification is strongly advised. See: https://urllib3.readthedocs.io/en/latest/advanced-usage.html#tls-warnings\n",
      "  warnings.warn(\n",
      "\n",
      "  0%|                                              | 0.00/6.48M [00:00<?, ?B/s]\u001B[A\n",
      "  1%|▌                                     | 96.3k/6.48M [00:00<00:07, 875kB/s]\u001B[A\n",
      " 14%|█████▎                                | 896k/6.48M [00:00<00:01, 4.48MB/s]\u001B[A\n",
      " 60%|██████████████████████▏              | 3.88M/6.48M [00:00<00:00, 14.4MB/s]\u001B[A\n",
      "100%|█████████████████████████████████████| 6.48M/6.48M [00:00<00:00, 6.53GB/s]\u001B[A\n",
      "SHA256 hash of downloaded file: 59ab90aba55fb2d7f450b8e3b2ef2e1999ac62f7ebf61e873a0dd50d11d30ca3\n",
      "Use this value as the 'known_hash' argument of 'pooch.retrieve' to ensure that the file hasn't changed if it is downloaded again in the future.\n",
      "/Users/marieconstance.corsi/anaconda3/envs/moabb_minischool/lib/python3.9/site-packages/moabb/datasets/preprocessing.py:279: UserWarning: warnEpochs <Epochs |  900 events (all good), 0 – 0.800781 s, baseline off, ~11.3 MB, data loaded,\n",
      " 'Target': 150\n",
      " 'NonTarget': 750>\n",
      "  warn(f\"warnEpochs {epochs}\")\n",
      "/Users/marieconstance.corsi/anaconda3/envs/moabb_minischool/lib/python3.9/site-packages/moabb/datasets/preprocessing.py:279: UserWarning: warnEpochs <Epochs |  900 events (all good), 0 – 0.800781 s, baseline off, ~11.3 MB, data loaded,\n",
      " 'Target': 150\n",
      " 'NonTarget': 750>\n",
      "  warn(f\"warnEpochs {epochs}\")\n",
      "/Users/marieconstance.corsi/anaconda3/envs/moabb_minischool/lib/python3.9/site-packages/sklearn/preprocessing/_function_transformer.py:379: FutureWarning: The current default of copy=False will change to copy=True in 1.7. Set the value of copy explicitly to avoid this warning\n",
      "  return func(X, **(kw_args if kw_args else {}))\n",
      "/Users/marieconstance.corsi/anaconda3/envs/moabb_minischool/lib/python3.9/site-packages/sklearn/preprocessing/_function_transformer.py:379: FutureWarning: The current default of copy=False will change to copy=True in 1.7. Set the value of copy explicitly to avoid this warning\n",
      "  return func(X, **(kw_args if kw_args else {}))\n"
     ]
    },
    {
     "name": "stdout",
     "output_type": "stream",
     "text": [
      "No hdf5_path provided, models will not be saved.\n",
      "No hdf5_path provided, models will not be saved.\n"
     ]
    },
    {
     "name": "stderr",
     "output_type": "stream",
     "text": [
      "BNCI2015-003-WithinSession:  40%|████      | 4/10 [00:55<01:09, 11.62s/it]Downloading data from 'http://bnci-horizon-2020.eu/database/data-sets/003-2015/s5.mat' to file '/Users/marieconstance.corsi/mne_data_test/MNE-bnci-data/database/data-sets/003-2015/s5.mat'.\n",
      "/Users/marieconstance.corsi/anaconda3/envs/moabb_minischool/lib/python3.9/site-packages/urllib3/connectionpool.py:1103: InsecureRequestWarning: Unverified HTTPS request is being made to host 'lampx.tugraz.at'. Adding certificate verification is strongly advised. See: https://urllib3.readthedocs.io/en/latest/advanced-usage.html#tls-warnings\n",
      "  warnings.warn(\n",
      "\n",
      "  0%|                                              | 0.00/7.00M [00:00<?, ?B/s]\u001B[A\n",
      "  3%|█▏                                    | 209k/7.00M [00:00<00:03, 1.79MB/s]\u001B[A\n",
      " 26%|█████████▋                           | 1.82M/7.00M [00:00<00:00, 9.67MB/s]\u001B[A\n",
      " 90%|█████████████████████████████████▏   | 6.28M/7.00M [00:00<00:00, 25.0MB/s]\u001B[A\n",
      "100%|█████████████████████████████████████| 7.00M/7.00M [00:00<00:00, 8.40GB/s]\u001B[A\n",
      "SHA256 hash of downloaded file: 52ec4e9876245f12a804e285de1bdae72b956f7f80f409a74e3b69bbb1425d69\n",
      "Use this value as the 'known_hash' argument of 'pooch.retrieve' to ensure that the file hasn't changed if it is downloaded again in the future.\n",
      "/Users/marieconstance.corsi/anaconda3/envs/moabb_minischool/lib/python3.9/site-packages/moabb/datasets/preprocessing.py:279: UserWarning: warnEpochs <Epochs |  900 events (all good), 0 – 0.800781 s, baseline off, ~11.3 MB, data loaded,\n",
      " 'Target': 150\n",
      " 'NonTarget': 750>\n",
      "  warn(f\"warnEpochs {epochs}\")\n",
      "/Users/marieconstance.corsi/anaconda3/envs/moabb_minischool/lib/python3.9/site-packages/moabb/datasets/preprocessing.py:279: UserWarning: warnEpochs <Epochs |  900 events (all good), 0 – 0.800781 s, baseline off, ~11.3 MB, data loaded,\n",
      " 'Target': 150\n",
      " 'NonTarget': 750>\n",
      "  warn(f\"warnEpochs {epochs}\")\n",
      "/Users/marieconstance.corsi/anaconda3/envs/moabb_minischool/lib/python3.9/site-packages/sklearn/preprocessing/_function_transformer.py:379: FutureWarning: The current default of copy=False will change to copy=True in 1.7. Set the value of copy explicitly to avoid this warning\n",
      "  return func(X, **(kw_args if kw_args else {}))\n",
      "/Users/marieconstance.corsi/anaconda3/envs/moabb_minischool/lib/python3.9/site-packages/sklearn/preprocessing/_function_transformer.py:379: FutureWarning: The current default of copy=False will change to copy=True in 1.7. Set the value of copy explicitly to avoid this warning\n",
      "  return func(X, **(kw_args if kw_args else {}))\n"
     ]
    },
    {
     "name": "stdout",
     "output_type": "stream",
     "text": [
      "No hdf5_path provided, models will not be saved.\n",
      "No hdf5_path provided, models will not be saved.\n"
     ]
    },
    {
     "name": "stderr",
     "output_type": "stream",
     "text": [
      "BNCI2015-003-WithinSession:  50%|█████     | 5/10 [01:03<00:50, 10.14s/it]Downloading data from 'http://bnci-horizon-2020.eu/database/data-sets/003-2015/s6.mat' to file '/Users/marieconstance.corsi/mne_data_test/MNE-bnci-data/database/data-sets/003-2015/s6.mat'.\n",
      "/Users/marieconstance.corsi/anaconda3/envs/moabb_minischool/lib/python3.9/site-packages/urllib3/connectionpool.py:1103: InsecureRequestWarning: Unverified HTTPS request is being made to host 'lampx.tugraz.at'. Adding certificate verification is strongly advised. See: https://urllib3.readthedocs.io/en/latest/advanced-usage.html#tls-warnings\n",
      "  warnings.warn(\n",
      "\n",
      "  0%|                                              | 0.00/3.37M [00:00<?, ?B/s]\u001B[A\n",
      "  6%|██▎                                   | 209k/3.37M [00:00<00:01, 1.60MB/s]\u001B[A\n",
      " 54%|███████████████████▉                 | 1.82M/3.37M [00:00<00:00, 8.80MB/s]\u001B[A\n",
      "100%|█████████████████████████████████████| 3.37M/3.37M [00:00<00:00, 2.80GB/s]\u001B[A\n",
      "SHA256 hash of downloaded file: 0a78616d301b1788e9a8c8a43f3aee3cd056f806b3be9a0c809fe85204ddffb3\n",
      "Use this value as the 'known_hash' argument of 'pooch.retrieve' to ensure that the file hasn't changed if it is downloaded again in the future.\n",
      "/Users/marieconstance.corsi/anaconda3/envs/moabb_minischool/lib/python3.9/site-packages/moabb/datasets/preprocessing.py:279: UserWarning: warnEpochs <Epochs |  900 events (all good), 0 – 0.800781 s, baseline off, ~11.3 MB, data loaded,\n",
      " 'Target': 150\n",
      " 'NonTarget': 750>\n",
      "  warn(f\"warnEpochs {epochs}\")\n",
      "/Users/marieconstance.corsi/anaconda3/envs/moabb_minischool/lib/python3.9/site-packages/moabb/datasets/preprocessing.py:279: UserWarning: warnEpochs <Epochs |  900 events (all good), 0 – 0.800781 s, baseline off, ~11.3 MB, data loaded,\n",
      " 'Target': 150\n",
      " 'NonTarget': 750>\n",
      "  warn(f\"warnEpochs {epochs}\")\n",
      "/Users/marieconstance.corsi/anaconda3/envs/moabb_minischool/lib/python3.9/site-packages/sklearn/preprocessing/_function_transformer.py:379: FutureWarning: The current default of copy=False will change to copy=True in 1.7. Set the value of copy explicitly to avoid this warning\n",
      "  return func(X, **(kw_args if kw_args else {}))\n",
      "/Users/marieconstance.corsi/anaconda3/envs/moabb_minischool/lib/python3.9/site-packages/sklearn/preprocessing/_function_transformer.py:379: FutureWarning: The current default of copy=False will change to copy=True in 1.7. Set the value of copy explicitly to avoid this warning\n",
      "  return func(X, **(kw_args if kw_args else {}))\n"
     ]
    },
    {
     "name": "stdout",
     "output_type": "stream",
     "text": [
      "No hdf5_path provided, models will not be saved.\n",
      "No hdf5_path provided, models will not be saved.\n"
     ]
    },
    {
     "name": "stderr",
     "output_type": "stream",
     "text": [
      "BNCI2015-003-WithinSession:  60%|██████    | 6/10 [01:10<00:36,  9.21s/it]Downloading data from 'http://bnci-horizon-2020.eu/database/data-sets/003-2015/s7.mat' to file '/Users/marieconstance.corsi/mne_data_test/MNE-bnci-data/database/data-sets/003-2015/s7.mat'.\n",
      "/Users/marieconstance.corsi/anaconda3/envs/moabb_minischool/lib/python3.9/site-packages/urllib3/connectionpool.py:1103: InsecureRequestWarning: Unverified HTTPS request is being made to host 'lampx.tugraz.at'. Adding certificate verification is strongly advised. See: https://urllib3.readthedocs.io/en/latest/advanced-usage.html#tls-warnings\n",
      "  warnings.warn(\n",
      "\n",
      "  0%|                                              | 0.00/3.72M [00:00<?, ?B/s]\u001B[A\n",
      "  6%|██▏                                   | 209k/3.72M [00:00<00:01, 1.86MB/s]\u001B[A\n",
      " 34%|████████████▍                        | 1.25M/3.72M [00:00<00:00, 6.66MB/s]\u001B[A\n",
      "100%|█████████████████████████████████████| 3.72M/3.72M [00:00<00:00, 3.21GB/s]\u001B[A\n",
      "SHA256 hash of downloaded file: acccbcb1af72f8efccfec344fce32e80c0b911df0768a56fe6ea531c5b8f2e41\n",
      "Use this value as the 'known_hash' argument of 'pooch.retrieve' to ensure that the file hasn't changed if it is downloaded again in the future.\n",
      "/Users/marieconstance.corsi/anaconda3/envs/moabb_minischool/lib/python3.9/site-packages/moabb/datasets/preprocessing.py:279: UserWarning: warnEpochs <Epochs |  900 events (all good), 0 – 0.800781 s, baseline off, ~11.3 MB, data loaded,\n",
      " 'Target': 150\n",
      " 'NonTarget': 750>\n",
      "  warn(f\"warnEpochs {epochs}\")\n",
      "/Users/marieconstance.corsi/anaconda3/envs/moabb_minischool/lib/python3.9/site-packages/moabb/datasets/preprocessing.py:279: UserWarning: warnEpochs <Epochs |  900 events (all good), 0 – 0.800781 s, baseline off, ~11.3 MB, data loaded,\n",
      " 'Target': 150\n",
      " 'NonTarget': 750>\n",
      "  warn(f\"warnEpochs {epochs}\")\n",
      "/Users/marieconstance.corsi/anaconda3/envs/moabb_minischool/lib/python3.9/site-packages/sklearn/preprocessing/_function_transformer.py:379: FutureWarning: The current default of copy=False will change to copy=True in 1.7. Set the value of copy explicitly to avoid this warning\n",
      "  return func(X, **(kw_args if kw_args else {}))\n",
      "/Users/marieconstance.corsi/anaconda3/envs/moabb_minischool/lib/python3.9/site-packages/sklearn/preprocessing/_function_transformer.py:379: FutureWarning: The current default of copy=False will change to copy=True in 1.7. Set the value of copy explicitly to avoid this warning\n",
      "  return func(X, **(kw_args if kw_args else {}))\n"
     ]
    },
    {
     "name": "stdout",
     "output_type": "stream",
     "text": [
      "No hdf5_path provided, models will not be saved.\n",
      "No hdf5_path provided, models will not be saved.\n"
     ]
    },
    {
     "name": "stderr",
     "output_type": "stream",
     "text": [
      "BNCI2015-003-WithinSession:  70%|███████   | 7/10 [01:17<00:25,  8.54s/it]Downloading data from 'http://bnci-horizon-2020.eu/database/data-sets/003-2015/s8.mat' to file '/Users/marieconstance.corsi/mne_data_test/MNE-bnci-data/database/data-sets/003-2015/s8.mat'.\n",
      "/Users/marieconstance.corsi/anaconda3/envs/moabb_minischool/lib/python3.9/site-packages/urllib3/connectionpool.py:1103: InsecureRequestWarning: Unverified HTTPS request is being made to host 'lampx.tugraz.at'. Adding certificate verification is strongly advised. See: https://urllib3.readthedocs.io/en/latest/advanced-usage.html#tls-warnings\n",
      "  warnings.warn(\n",
      "\n",
      "  0%|                                              | 0.00/3.59M [00:00<?, ?B/s]\u001B[A\n",
      "  6%|██▏                                   | 209k/3.59M [00:00<00:02, 1.63MB/s]\u001B[A\n",
      " 51%|██████████████████▊                  | 1.82M/3.59M [00:00<00:00, 8.48MB/s]\u001B[A\n",
      "100%|█████████████████████████████████████| 3.59M/3.59M [00:00<00:00, 3.42GB/s]\u001B[A\n",
      "SHA256 hash of downloaded file: 8cd781d01b64da2c57fac435a42f8e2dccc2da28905ace10e1f8d46523075972\n",
      "Use this value as the 'known_hash' argument of 'pooch.retrieve' to ensure that the file hasn't changed if it is downloaded again in the future.\n",
      "/Users/marieconstance.corsi/anaconda3/envs/moabb_minischool/lib/python3.9/site-packages/moabb/datasets/preprocessing.py:279: UserWarning: warnEpochs <Epochs |  900 events (all good), 0 – 0.800781 s, baseline off, ~11.3 MB, data loaded,\n",
      " 'Target': 150\n",
      " 'NonTarget': 750>\n",
      "  warn(f\"warnEpochs {epochs}\")\n",
      "/Users/marieconstance.corsi/anaconda3/envs/moabb_minischool/lib/python3.9/site-packages/moabb/datasets/preprocessing.py:279: UserWarning: warnEpochs <Epochs |  900 events (all good), 0 – 0.800781 s, baseline off, ~11.3 MB, data loaded,\n",
      " 'Target': 150\n",
      " 'NonTarget': 750>\n",
      "  warn(f\"warnEpochs {epochs}\")\n",
      "/Users/marieconstance.corsi/anaconda3/envs/moabb_minischool/lib/python3.9/site-packages/sklearn/preprocessing/_function_transformer.py:379: FutureWarning: The current default of copy=False will change to copy=True in 1.7. Set the value of copy explicitly to avoid this warning\n",
      "  return func(X, **(kw_args if kw_args else {}))\n",
      "/Users/marieconstance.corsi/anaconda3/envs/moabb_minischool/lib/python3.9/site-packages/sklearn/preprocessing/_function_transformer.py:379: FutureWarning: The current default of copy=False will change to copy=True in 1.7. Set the value of copy explicitly to avoid this warning\n",
      "  return func(X, **(kw_args if kw_args else {}))\n"
     ]
    },
    {
     "name": "stdout",
     "output_type": "stream",
     "text": [
      "No hdf5_path provided, models will not be saved.\n",
      "No hdf5_path provided, models will not be saved.\n"
     ]
    },
    {
     "name": "stderr",
     "output_type": "stream",
     "text": [
      "BNCI2015-003-WithinSession:  80%|████████  | 8/10 [01:24<00:16,  8.11s/it]Downloading data from 'http://bnci-horizon-2020.eu/database/data-sets/003-2015/s9.mat' to file '/Users/marieconstance.corsi/mne_data_test/MNE-bnci-data/database/data-sets/003-2015/s9.mat'.\n",
      "/Users/marieconstance.corsi/anaconda3/envs/moabb_minischool/lib/python3.9/site-packages/urllib3/connectionpool.py:1103: InsecureRequestWarning: Unverified HTTPS request is being made to host 'lampx.tugraz.at'. Adding certificate verification is strongly advised. See: https://urllib3.readthedocs.io/en/latest/advanced-usage.html#tls-warnings\n",
      "  warnings.warn(\n",
      "\n",
      "  0%|                                              | 0.00/3.48M [00:00<?, ?B/s]\u001B[A\n",
      "  3%|█▎                                    | 121k/3.48M [00:00<00:03, 1.11MB/s]\u001B[A\n",
      " 29%|██████████▋                          | 1.01M/3.48M [00:00<00:00, 5.54MB/s]\u001B[A\n",
      "100%|█████████████████████████████████████| 3.48M/3.48M [00:00<00:00, 3.84GB/s]\u001B[A\n",
      "SHA256 hash of downloaded file: d583e4d6dcb0929c564dce0b4834cf596199abbe8c64e35eeeedd9056a8ddf02\n",
      "Use this value as the 'known_hash' argument of 'pooch.retrieve' to ensure that the file hasn't changed if it is downloaded again in the future.\n",
      "/Users/marieconstance.corsi/anaconda3/envs/moabb_minischool/lib/python3.9/site-packages/moabb/datasets/preprocessing.py:279: UserWarning: warnEpochs <Epochs |  900 events (all good), 0 – 0.800781 s, baseline off, ~11.3 MB, data loaded,\n",
      " 'Target': 150\n",
      " 'NonTarget': 750>\n",
      "  warn(f\"warnEpochs {epochs}\")\n",
      "/Users/marieconstance.corsi/anaconda3/envs/moabb_minischool/lib/python3.9/site-packages/moabb/datasets/preprocessing.py:279: UserWarning: warnEpochs <Epochs |  900 events (all good), 0 – 0.800781 s, baseline off, ~11.3 MB, data loaded,\n",
      " 'Target': 150\n",
      " 'NonTarget': 750>\n",
      "  warn(f\"warnEpochs {epochs}\")\n",
      "/Users/marieconstance.corsi/anaconda3/envs/moabb_minischool/lib/python3.9/site-packages/sklearn/preprocessing/_function_transformer.py:379: FutureWarning: The current default of copy=False will change to copy=True in 1.7. Set the value of copy explicitly to avoid this warning\n",
      "  return func(X, **(kw_args if kw_args else {}))\n",
      "/Users/marieconstance.corsi/anaconda3/envs/moabb_minischool/lib/python3.9/site-packages/sklearn/preprocessing/_function_transformer.py:379: FutureWarning: The current default of copy=False will change to copy=True in 1.7. Set the value of copy explicitly to avoid this warning\n",
      "  return func(X, **(kw_args if kw_args else {}))\n"
     ]
    },
    {
     "name": "stdout",
     "output_type": "stream",
     "text": [
      "No hdf5_path provided, models will not be saved.\n",
      "No hdf5_path provided, models will not be saved.\n"
     ]
    },
    {
     "name": "stderr",
     "output_type": "stream",
     "text": [
      "BNCI2015-003-WithinSession:  90%|█████████ | 9/10 [01:31<00:07,  7.81s/it]Downloading data from 'http://bnci-horizon-2020.eu/database/data-sets/003-2015/s10.mat' to file '/Users/marieconstance.corsi/mne_data_test/MNE-bnci-data/database/data-sets/003-2015/s10.mat'.\n",
      "/Users/marieconstance.corsi/anaconda3/envs/moabb_minischool/lib/python3.9/site-packages/urllib3/connectionpool.py:1103: InsecureRequestWarning: Unverified HTTPS request is being made to host 'lampx.tugraz.at'. Adding certificate verification is strongly advised. See: https://urllib3.readthedocs.io/en/latest/advanced-usage.html#tls-warnings\n",
      "  warnings.warn(\n",
      "\n",
      "  0%|                                              | 0.00/3.35M [00:00<?, ?B/s]\u001B[A\n",
      "  6%|██▎                                   | 209k/3.35M [00:00<00:01, 1.67MB/s]\u001B[A\n",
      " 54%|████████████████████▏                | 1.82M/3.35M [00:00<00:00, 9.17MB/s]\u001B[A\n",
      "100%|█████████████████████████████████████| 3.35M/3.35M [00:00<00:00, 3.61GB/s]\u001B[A\n",
      "SHA256 hash of downloaded file: 7d430f54b482bfe6f412262bf629bccfaeaf18be5cb14db939c27eb5e35aa7d4\n",
      "Use this value as the 'known_hash' argument of 'pooch.retrieve' to ensure that the file hasn't changed if it is downloaded again in the future.\n",
      "/Users/marieconstance.corsi/anaconda3/envs/moabb_minischool/lib/python3.9/site-packages/moabb/datasets/preprocessing.py:279: UserWarning: warnEpochs <Epochs |  900 events (all good), 0 – 0.800781 s, baseline off, ~11.3 MB, data loaded,\n",
      " 'Target': 150\n",
      " 'NonTarget': 750>\n",
      "  warn(f\"warnEpochs {epochs}\")\n",
      "/Users/marieconstance.corsi/anaconda3/envs/moabb_minischool/lib/python3.9/site-packages/moabb/datasets/preprocessing.py:279: UserWarning: warnEpochs <Epochs |  900 events (all good), 0 – 0.800781 s, baseline off, ~11.3 MB, data loaded,\n",
      " 'Target': 150\n",
      " 'NonTarget': 750>\n",
      "  warn(f\"warnEpochs {epochs}\")\n",
      "/Users/marieconstance.corsi/anaconda3/envs/moabb_minischool/lib/python3.9/site-packages/sklearn/preprocessing/_function_transformer.py:379: FutureWarning: The current default of copy=False will change to copy=True in 1.7. Set the value of copy explicitly to avoid this warning\n",
      "  return func(X, **(kw_args if kw_args else {}))\n",
      "/Users/marieconstance.corsi/anaconda3/envs/moabb_minischool/lib/python3.9/site-packages/sklearn/preprocessing/_function_transformer.py:379: FutureWarning: The current default of copy=False will change to copy=True in 1.7. Set the value of copy explicitly to avoid this warning\n",
      "  return func(X, **(kw_args if kw_args else {}))\n"
     ]
    },
    {
     "name": "stdout",
     "output_type": "stream",
     "text": [
      "No hdf5_path provided, models will not be saved.\n",
      "No hdf5_path provided, models will not be saved.\n"
     ]
    },
    {
     "name": "stderr",
     "output_type": "stream",
     "text": [
      "BNCI2015-003-WithinSession: 100%|██████████| 10/10 [01:39<00:00,  9.91s/it]\n"
     ]
    }
   ],
   "execution_count": 10
  },
  {
   "cell_type": "markdown",
   "id": "a853120d",
   "metadata": {},
   "source": [
    "## Creating your own pipeline (level: intermediate 🤔)\n",
    "\n",
    "The first is to create your machine learning pipeline, according to your need. As MOABB use a sklearn-like API for defining pipelines, it is easy to follow the [sklearn tutorial](https://scikit-learn.org/stable/developers/develop.html)"
   ]
  },
  {
   "cell_type": "code",
   "id": "9450f11c",
   "metadata": {
    "ExecuteTime": {
     "end_time": "2024-06-16T13:22:51.305005Z",
     "start_time": "2024-06-16T13:22:28.211982Z"
    }
   },
   "source": [
    "from mne.decoding import Vectorizer\n",
    "\n",
    "labels_dict = {\"Target\": 1, \"NonTarget\": 0}\n",
    "\n",
    "your_pipelines = {}\n",
    "your_pipelines[\"RG+LDA\"] = make_pipeline(\n",
    "    XdawnCovariances(\n",
    "        nfilter=2, classes=[labels_dict[\"Target\"]], estimator=\"lwf\", xdawn_estimator=\"scm\"\n",
    "    ),\n",
    "    TangentSpace(),\n",
    "    LDA(solver=\"lsqr\", shrinkage=\"auto\"),\n",
    ")\n",
    "\n",
    "your_pipelines[\"Xdw+LDA\"] = make_pipeline(\n",
    "    Xdawn(nfilter=2, estimator=\"scm\"), Vectorizer(), LDA(solver=\"lsqr\", shrinkage=\"auto\")\n",
    ")\n",
    "\n",
    "paradigm = P300(resample=128)\n",
    "\n",
    "dataset = BNCI2014_009()\n",
    "dataset.subject_list = dataset.subject_list[:2]\n",
    "datasets = [dataset]\n",
    "overwrite = True  # set to True if we want to overwrite cached results\n",
    "\n",
    "evaluation = WithinSessionEvaluation(\n",
    "    paradigm=paradigm, datasets=datasets, suffix=\"examples\", overwrite=overwrite\n",
    ")\n",
    "\n",
    "results = evaluation.process(your_pipelines)"
   ],
   "outputs": [
    {
     "name": "stderr",
     "output_type": "stream",
     "text": [
      "BNCI2014-009-WithinSession:   0%|          | 0/2 [00:00<?, ?it/s]/Users/marieconstance.corsi/anaconda3/envs/moabb_minischool/lib/python3.9/site-packages/moabb/datasets/preprocessing.py:279: UserWarning: warnEpochs <Epochs |  576 events (all good), 0 – 0.800781 s, baseline off, ~14.5 MB, data loaded,\n",
      " 'Target': 96\n",
      " 'NonTarget': 480>\n",
      "  warn(f\"warnEpochs {epochs}\")\n",
      "/Users/marieconstance.corsi/anaconda3/envs/moabb_minischool/lib/python3.9/site-packages/moabb/datasets/preprocessing.py:279: UserWarning: warnEpochs <Epochs |  576 events (all good), 0 – 0.800781 s, baseline off, ~14.5 MB, data loaded,\n",
      " 'Target': 96\n",
      " 'NonTarget': 480>\n",
      "  warn(f\"warnEpochs {epochs}\")\n",
      "/Users/marieconstance.corsi/anaconda3/envs/moabb_minischool/lib/python3.9/site-packages/moabb/datasets/preprocessing.py:279: UserWarning: warnEpochs <Epochs |  576 events (all good), 0 – 0.800781 s, baseline off, ~14.5 MB, data loaded,\n",
      " 'Target': 96\n",
      " 'NonTarget': 480>\n",
      "  warn(f\"warnEpochs {epochs}\")\n",
      "/Users/marieconstance.corsi/anaconda3/envs/moabb_minischool/lib/python3.9/site-packages/sklearn/preprocessing/_function_transformer.py:379: FutureWarning: The current default of copy=False will change to copy=True in 1.7. Set the value of copy explicitly to avoid this warning\n",
      "  return func(X, **(kw_args if kw_args else {}))\n",
      "/Users/marieconstance.corsi/anaconda3/envs/moabb_minischool/lib/python3.9/site-packages/sklearn/preprocessing/_function_transformer.py:379: FutureWarning: The current default of copy=False will change to copy=True in 1.7. Set the value of copy explicitly to avoid this warning\n",
      "  return func(X, **(kw_args if kw_args else {}))\n",
      "/Users/marieconstance.corsi/anaconda3/envs/moabb_minischool/lib/python3.9/site-packages/sklearn/preprocessing/_function_transformer.py:379: FutureWarning: The current default of copy=False will change to copy=True in 1.7. Set the value of copy explicitly to avoid this warning\n",
      "  return func(X, **(kw_args if kw_args else {}))\n"
     ]
    },
    {
     "name": "stdout",
     "output_type": "stream",
     "text": [
      "No hdf5_path provided, models will not be saved.\n",
      "No hdf5_path provided, models will not be saved.\n",
      "No hdf5_path provided, models will not be saved.\n",
      "No hdf5_path provided, models will not be saved.\n",
      "No hdf5_path provided, models will not be saved.\n",
      "No hdf5_path provided, models will not be saved.\n"
     ]
    },
    {
     "name": "stderr",
     "output_type": "stream",
     "text": [
      "BNCI2014-009-WithinSession:  50%|█████     | 1/2 [00:11<00:11, 11.46s/it]/Users/marieconstance.corsi/anaconda3/envs/moabb_minischool/lib/python3.9/site-packages/moabb/datasets/preprocessing.py:279: UserWarning: warnEpochs <Epochs |  576 events (all good), 0 – 0.800781 s, baseline off, ~14.5 MB, data loaded,\n",
      " 'Target': 96\n",
      " 'NonTarget': 480>\n",
      "  warn(f\"warnEpochs {epochs}\")\n",
      "/Users/marieconstance.corsi/anaconda3/envs/moabb_minischool/lib/python3.9/site-packages/moabb/datasets/preprocessing.py:279: UserWarning: warnEpochs <Epochs |  576 events (all good), 0 – 0.800781 s, baseline off, ~14.5 MB, data loaded,\n",
      " 'Target': 96\n",
      " 'NonTarget': 480>\n",
      "  warn(f\"warnEpochs {epochs}\")\n",
      "/Users/marieconstance.corsi/anaconda3/envs/moabb_minischool/lib/python3.9/site-packages/moabb/datasets/preprocessing.py:279: UserWarning: warnEpochs <Epochs |  576 events (all good), 0 – 0.800781 s, baseline off, ~14.5 MB, data loaded,\n",
      " 'Target': 96\n",
      " 'NonTarget': 480>\n",
      "  warn(f\"warnEpochs {epochs}\")\n",
      "/Users/marieconstance.corsi/anaconda3/envs/moabb_minischool/lib/python3.9/site-packages/sklearn/preprocessing/_function_transformer.py:379: FutureWarning: The current default of copy=False will change to copy=True in 1.7. Set the value of copy explicitly to avoid this warning\n",
      "  return func(X, **(kw_args if kw_args else {}))\n",
      "/Users/marieconstance.corsi/anaconda3/envs/moabb_minischool/lib/python3.9/site-packages/sklearn/preprocessing/_function_transformer.py:379: FutureWarning: The current default of copy=False will change to copy=True in 1.7. Set the value of copy explicitly to avoid this warning\n",
      "  return func(X, **(kw_args if kw_args else {}))\n",
      "/Users/marieconstance.corsi/anaconda3/envs/moabb_minischool/lib/python3.9/site-packages/sklearn/preprocessing/_function_transformer.py:379: FutureWarning: The current default of copy=False will change to copy=True in 1.7. Set the value of copy explicitly to avoid this warning\n",
      "  return func(X, **(kw_args if kw_args else {}))\n"
     ]
    },
    {
     "name": "stdout",
     "output_type": "stream",
     "text": [
      "No hdf5_path provided, models will not be saved.\n",
      "No hdf5_path provided, models will not be saved.\n",
      "No hdf5_path provided, models will not be saved.\n",
      "No hdf5_path provided, models will not be saved.\n",
      "No hdf5_path provided, models will not be saved.\n",
      "No hdf5_path provided, models will not be saved.\n"
     ]
    },
    {
     "name": "stderr",
     "output_type": "stream",
     "text": [
      "BNCI2014-009-WithinSession: 100%|██████████| 2/2 [00:22<00:00, 11.46s/it]\n"
     ]
    }
   ],
   "execution_count": 14
  },
  {
   "cell_type": "markdown",
   "id": "12132e86",
   "metadata": {},
   "source": [
    "## Use learning curve (level intermediate 🤔)\n",
    "\n",
    "Based on the example from the [MOABB gallery](https://neurotechx.github.io/moabb/auto_examples/index.html#evaluation-with-learning-curve) and the [documentation](https://neurotechx.github.io/moabb/generated/moabb.evaluations.WithinSessionEvaluation.html#moabb.evaluations.WithinSessionEvaluation), create an evaluation with an increasing number of sample. For example, using only 1%, 5% and 10% of the data to train. "
   ]
  },
  {
   "cell_type": "code",
   "id": "1393cf5d",
   "metadata": {
    "ExecuteTime": {
     "end_time": "2024-06-16T13:30:56.040193Z",
     "start_time": "2024-06-16T13:29:26.594958Z"
    }
   },
   "source": [
    "import numpy as np\n",
    "\n",
    "your_pipelines = {}\n",
    "your_pipelines[\"RG+LDA\"] = make_pipeline(\n",
    "    XdawnCovariances(\n",
    "        nfilter=2, classes=[labels_dict[\"Target\"]], estimator=\"lwf\", xdawn_estimator=\"scm\"\n",
    "    ),\n",
    "    TangentSpace(),\n",
    "    LDA(solver=\"lsqr\", shrinkage=\"auto\"),\n",
    ")\n",
    "\n",
    "your_pipelines[\"Xdw+LDA\"] = make_pipeline(\n",
    "    Xdawn(nfilter=2, estimator=\"scm\"), Vectorizer(), LDA(solver=\"lsqr\", shrinkage=\"auto\")\n",
    ")\n",
    "\n",
    "paradigm = P300(resample=128)\n",
    "\n",
    "dataset = BNCI2014_009()\n",
    "dataset.subject_list = dataset.subject_list[:2]\n",
    "datasets = [dataset]\n",
    "overwrite = True  # set to True if we want to overwrite cached results\n",
    "data_size = dict(policy=\"ratio\", value=[0.01, 0.05, 0.1])\n",
    "# When the training data is sparse, perform more permutations than when we have a lot of data\n",
    "n_perms = np.floor(np.geomspace(20, 2, len(data_size[\"value\"]))).astype(int)\n",
    "np.random.seed(7536298)\n",
    "\n",
    "evaluation = WithinSessionEvaluation(\n",
    "    paradigm=paradigm, datasets=datasets, suffix=\"examples\", overwrite=overwrite, data_size=data_size,n_perms=n_perms,\n",
    ")\n",
    "\n",
    "results = evaluation.process(your_pipelines)"
   ],
   "outputs": [
    {
     "name": "stderr",
     "output_type": "stream",
     "text": [
      "BNCI2014-009-WithinSession:   0%|          | 0/2 [00:00<?, ?it/s]/Users/marieconstance.corsi/anaconda3/envs/moabb_minischool/lib/python3.9/site-packages/moabb/datasets/preprocessing.py:279: UserWarning: warnEpochs <Epochs |  576 events (all good), 0 – 0.800781 s, baseline off, ~14.5 MB, data loaded,\n",
      " 'Target': 96\n",
      " 'NonTarget': 480>\n",
      "  warn(f\"warnEpochs {epochs}\")\n",
      "/Users/marieconstance.corsi/anaconda3/envs/moabb_minischool/lib/python3.9/site-packages/moabb/datasets/preprocessing.py:279: UserWarning: warnEpochs <Epochs |  576 events (all good), 0 – 0.800781 s, baseline off, ~14.5 MB, data loaded,\n",
      " 'Target': 96\n",
      " 'NonTarget': 480>\n",
      "  warn(f\"warnEpochs {epochs}\")\n",
      "/Users/marieconstance.corsi/anaconda3/envs/moabb_minischool/lib/python3.9/site-packages/moabb/datasets/preprocessing.py:279: UserWarning: warnEpochs <Epochs |  576 events (all good), 0 – 0.800781 s, baseline off, ~14.5 MB, data loaded,\n",
      " 'Target': 96\n",
      " 'NonTarget': 480>\n",
      "  warn(f\"warnEpochs {epochs}\")\n",
      "/Users/marieconstance.corsi/anaconda3/envs/moabb_minischool/lib/python3.9/site-packages/sklearn/preprocessing/_function_transformer.py:379: FutureWarning: The current default of copy=False will change to copy=True in 1.7. Set the value of copy explicitly to avoid this warning\n",
      "  return func(X, **(kw_args if kw_args else {}))\n",
      "/Users/marieconstance.corsi/anaconda3/envs/moabb_minischool/lib/python3.9/site-packages/sklearn/preprocessing/_function_transformer.py:379: FutureWarning: The current default of copy=False will change to copy=True in 1.7. Set the value of copy explicitly to avoid this warning\n",
      "  return func(X, **(kw_args if kw_args else {}))\n",
      "/Users/marieconstance.corsi/anaconda3/envs/moabb_minischool/lib/python3.9/site-packages/sklearn/preprocessing/_function_transformer.py:379: FutureWarning: The current default of copy=False will change to copy=True in 1.7. Set the value of copy explicitly to avoid this warning\n",
      "  return func(X, **(kw_args if kw_args else {}))\n",
      "For current data size, only one classwould remain.\n",
      "For current data size, only one classwould remain.\n",
      "/Users/marieconstance.corsi/anaconda3/envs/moabb_minischool/lib/python3.9/site-packages/sklearn/covariance/_shrunk_covariance.py:351: UserWarning: Only one sample available. You may want to reshape your data array\n",
      "  warnings.warn(\n",
      "/Users/marieconstance.corsi/anaconda3/envs/moabb_minischool/lib/python3.9/site-packages/sklearn/covariance/_empirical_covariance.py:102: UserWarning: Only one sample available. You may want to reshape your data array\n",
      "  warnings.warn(\n",
      "/Users/marieconstance.corsi/anaconda3/envs/moabb_minischool/lib/python3.9/site-packages/sklearn/covariance/_shrunk_covariance.py:351: UserWarning: Only one sample available. You may want to reshape your data array\n",
      "  warnings.warn(\n",
      "/Users/marieconstance.corsi/anaconda3/envs/moabb_minischool/lib/python3.9/site-packages/sklearn/covariance/_empirical_covariance.py:102: UserWarning: Only one sample available. You may want to reshape your data array\n",
      "  warnings.warn(\n",
      "/Users/marieconstance.corsi/anaconda3/envs/moabb_minischool/lib/python3.9/site-packages/sklearn/covariance/_shrunk_covariance.py:351: UserWarning: Only one sample available. You may want to reshape your data array\n",
      "  warnings.warn(\n",
      "/Users/marieconstance.corsi/anaconda3/envs/moabb_minischool/lib/python3.9/site-packages/sklearn/covariance/_empirical_covariance.py:102: UserWarning: Only one sample available. You may want to reshape your data array\n",
      "  warnings.warn(\n",
      "/Users/marieconstance.corsi/anaconda3/envs/moabb_minischool/lib/python3.9/site-packages/sklearn/covariance/_shrunk_covariance.py:351: UserWarning: Only one sample available. You may want to reshape your data array\n",
      "  warnings.warn(\n",
      "/Users/marieconstance.corsi/anaconda3/envs/moabb_minischool/lib/python3.9/site-packages/sklearn/covariance/_empirical_covariance.py:102: UserWarning: Only one sample available. You may want to reshape your data array\n",
      "  warnings.warn(\n",
      "For current data size, only one classwould remain.\n",
      "/Users/marieconstance.corsi/anaconda3/envs/moabb_minischool/lib/python3.9/site-packages/sklearn/covariance/_shrunk_covariance.py:351: UserWarning: Only one sample available. You may want to reshape your data array\n",
      "  warnings.warn(\n",
      "/Users/marieconstance.corsi/anaconda3/envs/moabb_minischool/lib/python3.9/site-packages/sklearn/covariance/_empirical_covariance.py:102: UserWarning: Only one sample available. You may want to reshape your data array\n",
      "  warnings.warn(\n",
      "/Users/marieconstance.corsi/anaconda3/envs/moabb_minischool/lib/python3.9/site-packages/sklearn/covariance/_shrunk_covariance.py:351: UserWarning: Only one sample available. You may want to reshape your data array\n",
      "  warnings.warn(\n",
      "/Users/marieconstance.corsi/anaconda3/envs/moabb_minischool/lib/python3.9/site-packages/sklearn/covariance/_empirical_covariance.py:102: UserWarning: Only one sample available. You may want to reshape your data array\n",
      "  warnings.warn(\n",
      "For current data size, only one classwould remain.\n",
      "For current data size, only one classwould remain.\n",
      "For current data size, only one classwould remain.\n",
      "For current data size, only one classwould remain.\n",
      "For current data size, only one classwould remain.\n",
      "For current data size, only one classwould remain.\n",
      "For current data size, only one classwould remain.\n",
      "/Users/marieconstance.corsi/anaconda3/envs/moabb_minischool/lib/python3.9/site-packages/sklearn/covariance/_shrunk_covariance.py:351: UserWarning: Only one sample available. You may want to reshape your data array\n",
      "  warnings.warn(\n",
      "/Users/marieconstance.corsi/anaconda3/envs/moabb_minischool/lib/python3.9/site-packages/sklearn/covariance/_empirical_covariance.py:102: UserWarning: Only one sample available. You may want to reshape your data array\n",
      "  warnings.warn(\n",
      "/Users/marieconstance.corsi/anaconda3/envs/moabb_minischool/lib/python3.9/site-packages/sklearn/covariance/_shrunk_covariance.py:351: UserWarning: Only one sample available. You may want to reshape your data array\n",
      "  warnings.warn(\n",
      "/Users/marieconstance.corsi/anaconda3/envs/moabb_minischool/lib/python3.9/site-packages/sklearn/covariance/_empirical_covariance.py:102: UserWarning: Only one sample available. You may want to reshape your data array\n",
      "  warnings.warn(\n",
      "For current data size, only one classwould remain.\n",
      "For current data size, only one classwould remain.\n",
      "For current data size, only one classwould remain.\n",
      "/Users/marieconstance.corsi/anaconda3/envs/moabb_minischool/lib/python3.9/site-packages/sklearn/covariance/_shrunk_covariance.py:351: UserWarning: Only one sample available. You may want to reshape your data array\n",
      "  warnings.warn(\n",
      "/Users/marieconstance.corsi/anaconda3/envs/moabb_minischool/lib/python3.9/site-packages/sklearn/covariance/_empirical_covariance.py:102: UserWarning: Only one sample available. You may want to reshape your data array\n",
      "  warnings.warn(\n",
      "/Users/marieconstance.corsi/anaconda3/envs/moabb_minischool/lib/python3.9/site-packages/sklearn/covariance/_shrunk_covariance.py:351: UserWarning: Only one sample available. You may want to reshape your data array\n",
      "  warnings.warn(\n",
      "/Users/marieconstance.corsi/anaconda3/envs/moabb_minischool/lib/python3.9/site-packages/sklearn/covariance/_empirical_covariance.py:102: UserWarning: Only one sample available. You may want to reshape your data array\n",
      "  warnings.warn(\n",
      "For current data size, only one classwould remain.\n",
      "/Users/marieconstance.corsi/anaconda3/envs/moabb_minischool/lib/python3.9/site-packages/sklearn/covariance/_shrunk_covariance.py:351: UserWarning: Only one sample available. You may want to reshape your data array\n",
      "  warnings.warn(\n",
      "/Users/marieconstance.corsi/anaconda3/envs/moabb_minischool/lib/python3.9/site-packages/sklearn/covariance/_empirical_covariance.py:102: UserWarning: Only one sample available. You may want to reshape your data array\n",
      "  warnings.warn(\n",
      "/Users/marieconstance.corsi/anaconda3/envs/moabb_minischool/lib/python3.9/site-packages/sklearn/covariance/_shrunk_covariance.py:351: UserWarning: Only one sample available. You may want to reshape your data array\n",
      "  warnings.warn(\n",
      "/Users/marieconstance.corsi/anaconda3/envs/moabb_minischool/lib/python3.9/site-packages/sklearn/covariance/_empirical_covariance.py:102: UserWarning: Only one sample available. You may want to reshape your data array\n",
      "  warnings.warn(\n",
      "For current data size, only one classwould remain.\n",
      "For current data size, only one classwould remain.\n",
      "/Users/marieconstance.corsi/anaconda3/envs/moabb_minischool/lib/python3.9/site-packages/sklearn/covariance/_shrunk_covariance.py:351: UserWarning: Only one sample available. You may want to reshape your data array\n",
      "  warnings.warn(\n",
      "/Users/marieconstance.corsi/anaconda3/envs/moabb_minischool/lib/python3.9/site-packages/sklearn/covariance/_empirical_covariance.py:102: UserWarning: Only one sample available. You may want to reshape your data array\n",
      "  warnings.warn(\n",
      "/Users/marieconstance.corsi/anaconda3/envs/moabb_minischool/lib/python3.9/site-packages/sklearn/covariance/_shrunk_covariance.py:351: UserWarning: Only one sample available. You may want to reshape your data array\n",
      "  warnings.warn(\n",
      "/Users/marieconstance.corsi/anaconda3/envs/moabb_minischool/lib/python3.9/site-packages/sklearn/covariance/_empirical_covariance.py:102: UserWarning: Only one sample available. You may want to reshape your data array\n",
      "  warnings.warn(\n",
      "/Users/marieconstance.corsi/anaconda3/envs/moabb_minischool/lib/python3.9/site-packages/sklearn/covariance/_shrunk_covariance.py:351: UserWarning: Only one sample available. You may want to reshape your data array\n",
      "  warnings.warn(\n",
      "/Users/marieconstance.corsi/anaconda3/envs/moabb_minischool/lib/python3.9/site-packages/sklearn/covariance/_empirical_covariance.py:102: UserWarning: Only one sample available. You may want to reshape your data array\n",
      "  warnings.warn(\n",
      "/Users/marieconstance.corsi/anaconda3/envs/moabb_minischool/lib/python3.9/site-packages/sklearn/covariance/_shrunk_covariance.py:351: UserWarning: Only one sample available. You may want to reshape your data array\n",
      "  warnings.warn(\n",
      "/Users/marieconstance.corsi/anaconda3/envs/moabb_minischool/lib/python3.9/site-packages/sklearn/covariance/_empirical_covariance.py:102: UserWarning: Only one sample available. You may want to reshape your data array\n",
      "  warnings.warn(\n",
      "/Users/marieconstance.corsi/anaconda3/envs/moabb_minischool/lib/python3.9/site-packages/sklearn/covariance/_shrunk_covariance.py:351: UserWarning: Only one sample available. You may want to reshape your data array\n",
      "  warnings.warn(\n",
      "/Users/marieconstance.corsi/anaconda3/envs/moabb_minischool/lib/python3.9/site-packages/sklearn/covariance/_empirical_covariance.py:102: UserWarning: Only one sample available. You may want to reshape your data array\n",
      "  warnings.warn(\n",
      "/Users/marieconstance.corsi/anaconda3/envs/moabb_minischool/lib/python3.9/site-packages/sklearn/covariance/_shrunk_covariance.py:351: UserWarning: Only one sample available. You may want to reshape your data array\n",
      "  warnings.warn(\n",
      "/Users/marieconstance.corsi/anaconda3/envs/moabb_minischool/lib/python3.9/site-packages/sklearn/covariance/_empirical_covariance.py:102: UserWarning: Only one sample available. You may want to reshape your data array\n",
      "  warnings.warn(\n",
      "For current data size, only one classwould remain.\n",
      "For current data size, only one classwould remain.\n",
      "For current data size, only one classwould remain.\n",
      "/Users/marieconstance.corsi/anaconda3/envs/moabb_minischool/lib/python3.9/site-packages/sklearn/covariance/_shrunk_covariance.py:351: UserWarning: Only one sample available. You may want to reshape your data array\n",
      "  warnings.warn(\n",
      "/Users/marieconstance.corsi/anaconda3/envs/moabb_minischool/lib/python3.9/site-packages/sklearn/covariance/_empirical_covariance.py:102: UserWarning: Only one sample available. You may want to reshape your data array\n",
      "  warnings.warn(\n",
      "/Users/marieconstance.corsi/anaconda3/envs/moabb_minischool/lib/python3.9/site-packages/sklearn/covariance/_shrunk_covariance.py:351: UserWarning: Only one sample available. You may want to reshape your data array\n",
      "  warnings.warn(\n",
      "/Users/marieconstance.corsi/anaconda3/envs/moabb_minischool/lib/python3.9/site-packages/sklearn/covariance/_empirical_covariance.py:102: UserWarning: Only one sample available. You may want to reshape your data array\n",
      "  warnings.warn(\n",
      "/Users/marieconstance.corsi/anaconda3/envs/moabb_minischool/lib/python3.9/site-packages/sklearn/covariance/_shrunk_covariance.py:351: UserWarning: Only one sample available. You may want to reshape your data array\n",
      "  warnings.warn(\n",
      "/Users/marieconstance.corsi/anaconda3/envs/moabb_minischool/lib/python3.9/site-packages/sklearn/covariance/_empirical_covariance.py:102: UserWarning: Only one sample available. You may want to reshape your data array\n",
      "  warnings.warn(\n",
      "/Users/marieconstance.corsi/anaconda3/envs/moabb_minischool/lib/python3.9/site-packages/sklearn/covariance/_shrunk_covariance.py:351: UserWarning: Only one sample available. You may want to reshape your data array\n",
      "  warnings.warn(\n",
      "/Users/marieconstance.corsi/anaconda3/envs/moabb_minischool/lib/python3.9/site-packages/sklearn/covariance/_empirical_covariance.py:102: UserWarning: Only one sample available. You may want to reshape your data array\n",
      "  warnings.warn(\n",
      "For current data size, only one classwould remain.\n",
      "/Users/marieconstance.corsi/anaconda3/envs/moabb_minischool/lib/python3.9/site-packages/sklearn/covariance/_shrunk_covariance.py:351: UserWarning: Only one sample available. You may want to reshape your data array\n",
      "  warnings.warn(\n",
      "/Users/marieconstance.corsi/anaconda3/envs/moabb_minischool/lib/python3.9/site-packages/sklearn/covariance/_empirical_covariance.py:102: UserWarning: Only one sample available. You may want to reshape your data array\n",
      "  warnings.warn(\n",
      "/Users/marieconstance.corsi/anaconda3/envs/moabb_minischool/lib/python3.9/site-packages/sklearn/covariance/_shrunk_covariance.py:351: UserWarning: Only one sample available. You may want to reshape your data array\n",
      "  warnings.warn(\n",
      "/Users/marieconstance.corsi/anaconda3/envs/moabb_minischool/lib/python3.9/site-packages/sklearn/covariance/_empirical_covariance.py:102: UserWarning: Only one sample available. You may want to reshape your data array\n",
      "  warnings.warn(\n",
      "/Users/marieconstance.corsi/anaconda3/envs/moabb_minischool/lib/python3.9/site-packages/sklearn/covariance/_shrunk_covariance.py:351: UserWarning: Only one sample available. You may want to reshape your data array\n",
      "  warnings.warn(\n",
      "/Users/marieconstance.corsi/anaconda3/envs/moabb_minischool/lib/python3.9/site-packages/sklearn/covariance/_empirical_covariance.py:102: UserWarning: Only one sample available. You may want to reshape your data array\n",
      "  warnings.warn(\n",
      "/Users/marieconstance.corsi/anaconda3/envs/moabb_minischool/lib/python3.9/site-packages/sklearn/covariance/_shrunk_covariance.py:351: UserWarning: Only one sample available. You may want to reshape your data array\n",
      "  warnings.warn(\n",
      "/Users/marieconstance.corsi/anaconda3/envs/moabb_minischool/lib/python3.9/site-packages/sklearn/covariance/_empirical_covariance.py:102: UserWarning: Only one sample available. You may want to reshape your data array\n",
      "  warnings.warn(\n",
      "For current data size, only one classwould remain.\n",
      "For current data size, only one classwould remain.\n",
      "/Users/marieconstance.corsi/anaconda3/envs/moabb_minischool/lib/python3.9/site-packages/sklearn/covariance/_shrunk_covariance.py:351: UserWarning: Only one sample available. You may want to reshape your data array\n",
      "  warnings.warn(\n",
      "/Users/marieconstance.corsi/anaconda3/envs/moabb_minischool/lib/python3.9/site-packages/sklearn/covariance/_empirical_covariance.py:102: UserWarning: Only one sample available. You may want to reshape your data array\n",
      "  warnings.warn(\n",
      "/Users/marieconstance.corsi/anaconda3/envs/moabb_minischool/lib/python3.9/site-packages/sklearn/covariance/_shrunk_covariance.py:351: UserWarning: Only one sample available. You may want to reshape your data array\n",
      "  warnings.warn(\n",
      "/Users/marieconstance.corsi/anaconda3/envs/moabb_minischool/lib/python3.9/site-packages/sklearn/covariance/_empirical_covariance.py:102: UserWarning: Only one sample available. You may want to reshape your data array\n",
      "  warnings.warn(\n",
      "/Users/marieconstance.corsi/anaconda3/envs/moabb_minischool/lib/python3.9/site-packages/sklearn/covariance/_shrunk_covariance.py:351: UserWarning: Only one sample available. You may want to reshape your data array\n",
      "  warnings.warn(\n",
      "/Users/marieconstance.corsi/anaconda3/envs/moabb_minischool/lib/python3.9/site-packages/sklearn/covariance/_empirical_covariance.py:102: UserWarning: Only one sample available. You may want to reshape your data array\n",
      "  warnings.warn(\n",
      "/Users/marieconstance.corsi/anaconda3/envs/moabb_minischool/lib/python3.9/site-packages/sklearn/covariance/_shrunk_covariance.py:351: UserWarning: Only one sample available. You may want to reshape your data array\n",
      "  warnings.warn(\n",
      "/Users/marieconstance.corsi/anaconda3/envs/moabb_minischool/lib/python3.9/site-packages/sklearn/covariance/_empirical_covariance.py:102: UserWarning: Only one sample available. You may want to reshape your data array\n",
      "  warnings.warn(\n",
      "/Users/marieconstance.corsi/anaconda3/envs/moabb_minischool/lib/python3.9/site-packages/sklearn/covariance/_shrunk_covariance.py:351: UserWarning: Only one sample available. You may want to reshape your data array\n",
      "  warnings.warn(\n",
      "/Users/marieconstance.corsi/anaconda3/envs/moabb_minischool/lib/python3.9/site-packages/sklearn/covariance/_empirical_covariance.py:102: UserWarning: Only one sample available. You may want to reshape your data array\n",
      "  warnings.warn(\n",
      "/Users/marieconstance.corsi/anaconda3/envs/moabb_minischool/lib/python3.9/site-packages/sklearn/covariance/_shrunk_covariance.py:351: UserWarning: Only one sample available. You may want to reshape your data array\n",
      "  warnings.warn(\n",
      "/Users/marieconstance.corsi/anaconda3/envs/moabb_minischool/lib/python3.9/site-packages/sklearn/covariance/_empirical_covariance.py:102: UserWarning: Only one sample available. You may want to reshape your data array\n",
      "  warnings.warn(\n",
      "/Users/marieconstance.corsi/anaconda3/envs/moabb_minischool/lib/python3.9/site-packages/sklearn/covariance/_shrunk_covariance.py:351: UserWarning: Only one sample available. You may want to reshape your data array\n",
      "  warnings.warn(\n",
      "/Users/marieconstance.corsi/anaconda3/envs/moabb_minischool/lib/python3.9/site-packages/sklearn/covariance/_empirical_covariance.py:102: UserWarning: Only one sample available. You may want to reshape your data array\n",
      "  warnings.warn(\n",
      "/Users/marieconstance.corsi/anaconda3/envs/moabb_minischool/lib/python3.9/site-packages/sklearn/covariance/_shrunk_covariance.py:351: UserWarning: Only one sample available. You may want to reshape your data array\n",
      "  warnings.warn(\n",
      "/Users/marieconstance.corsi/anaconda3/envs/moabb_minischool/lib/python3.9/site-packages/sklearn/covariance/_empirical_covariance.py:102: UserWarning: Only one sample available. You may want to reshape your data array\n",
      "  warnings.warn(\n",
      "For current data size, only one classwould remain.\n",
      "/Users/marieconstance.corsi/anaconda3/envs/moabb_minischool/lib/python3.9/site-packages/sklearn/covariance/_shrunk_covariance.py:351: UserWarning: Only one sample available. You may want to reshape your data array\n",
      "  warnings.warn(\n",
      "/Users/marieconstance.corsi/anaconda3/envs/moabb_minischool/lib/python3.9/site-packages/sklearn/covariance/_empirical_covariance.py:102: UserWarning: Only one sample available. You may want to reshape your data array\n",
      "  warnings.warn(\n",
      "/Users/marieconstance.corsi/anaconda3/envs/moabb_minischool/lib/python3.9/site-packages/sklearn/covariance/_shrunk_covariance.py:351: UserWarning: Only one sample available. You may want to reshape your data array\n",
      "  warnings.warn(\n",
      "/Users/marieconstance.corsi/anaconda3/envs/moabb_minischool/lib/python3.9/site-packages/sklearn/covariance/_empirical_covariance.py:102: UserWarning: Only one sample available. You may want to reshape your data array\n",
      "  warnings.warn(\n",
      "For current data size, only one classwould remain.\n",
      "/Users/marieconstance.corsi/anaconda3/envs/moabb_minischool/lib/python3.9/site-packages/sklearn/covariance/_shrunk_covariance.py:351: UserWarning: Only one sample available. You may want to reshape your data array\n",
      "  warnings.warn(\n",
      "/Users/marieconstance.corsi/anaconda3/envs/moabb_minischool/lib/python3.9/site-packages/sklearn/covariance/_empirical_covariance.py:102: UserWarning: Only one sample available. You may want to reshape your data array\n",
      "  warnings.warn(\n",
      "/Users/marieconstance.corsi/anaconda3/envs/moabb_minischool/lib/python3.9/site-packages/sklearn/covariance/_shrunk_covariance.py:351: UserWarning: Only one sample available. You may want to reshape your data array\n",
      "  warnings.warn(\n",
      "/Users/marieconstance.corsi/anaconda3/envs/moabb_minischool/lib/python3.9/site-packages/sklearn/covariance/_empirical_covariance.py:102: UserWarning: Only one sample available. You may want to reshape your data array\n",
      "  warnings.warn(\n",
      "/Users/marieconstance.corsi/anaconda3/envs/moabb_minischool/lib/python3.9/site-packages/sklearn/covariance/_shrunk_covariance.py:351: UserWarning: Only one sample available. You may want to reshape your data array\n",
      "  warnings.warn(\n",
      "/Users/marieconstance.corsi/anaconda3/envs/moabb_minischool/lib/python3.9/site-packages/sklearn/covariance/_empirical_covariance.py:102: UserWarning: Only one sample available. You may want to reshape your data array\n",
      "  warnings.warn(\n",
      "/Users/marieconstance.corsi/anaconda3/envs/moabb_minischool/lib/python3.9/site-packages/sklearn/covariance/_shrunk_covariance.py:351: UserWarning: Only one sample available. You may want to reshape your data array\n",
      "  warnings.warn(\n",
      "/Users/marieconstance.corsi/anaconda3/envs/moabb_minischool/lib/python3.9/site-packages/sklearn/covariance/_empirical_covariance.py:102: UserWarning: Only one sample available. You may want to reshape your data array\n",
      "  warnings.warn(\n",
      "For current data size, only one classwould remain.\n",
      "/Users/marieconstance.corsi/anaconda3/envs/moabb_minischool/lib/python3.9/site-packages/sklearn/covariance/_shrunk_covariance.py:351: UserWarning: Only one sample available. You may want to reshape your data array\n",
      "  warnings.warn(\n",
      "/Users/marieconstance.corsi/anaconda3/envs/moabb_minischool/lib/python3.9/site-packages/sklearn/covariance/_empirical_covariance.py:102: UserWarning: Only one sample available. You may want to reshape your data array\n",
      "  warnings.warn(\n",
      "/Users/marieconstance.corsi/anaconda3/envs/moabb_minischool/lib/python3.9/site-packages/sklearn/covariance/_shrunk_covariance.py:351: UserWarning: Only one sample available. You may want to reshape your data array\n",
      "  warnings.warn(\n",
      "/Users/marieconstance.corsi/anaconda3/envs/moabb_minischool/lib/python3.9/site-packages/sklearn/covariance/_empirical_covariance.py:102: UserWarning: Only one sample available. You may want to reshape your data array\n",
      "  warnings.warn(\n",
      "BNCI2014-009-WithinSession:  50%|█████     | 1/2 [00:43<00:43, 43.15s/it]/Users/marieconstance.corsi/anaconda3/envs/moabb_minischool/lib/python3.9/site-packages/moabb/datasets/preprocessing.py:279: UserWarning: warnEpochs <Epochs |  576 events (all good), 0 – 0.800781 s, baseline off, ~14.5 MB, data loaded,\n",
      " 'Target': 96\n",
      " 'NonTarget': 480>\n",
      "  warn(f\"warnEpochs {epochs}\")\n",
      "/Users/marieconstance.corsi/anaconda3/envs/moabb_minischool/lib/python3.9/site-packages/moabb/datasets/preprocessing.py:279: UserWarning: warnEpochs <Epochs |  576 events (all good), 0 – 0.800781 s, baseline off, ~14.5 MB, data loaded,\n",
      " 'Target': 96\n",
      " 'NonTarget': 480>\n",
      "  warn(f\"warnEpochs {epochs}\")\n",
      "/Users/marieconstance.corsi/anaconda3/envs/moabb_minischool/lib/python3.9/site-packages/moabb/datasets/preprocessing.py:279: UserWarning: warnEpochs <Epochs |  576 events (all good), 0 – 0.800781 s, baseline off, ~14.5 MB, data loaded,\n",
      " 'Target': 96\n",
      " 'NonTarget': 480>\n",
      "  warn(f\"warnEpochs {epochs}\")\n",
      "/Users/marieconstance.corsi/anaconda3/envs/moabb_minischool/lib/python3.9/site-packages/sklearn/preprocessing/_function_transformer.py:379: FutureWarning: The current default of copy=False will change to copy=True in 1.7. Set the value of copy explicitly to avoid this warning\n",
      "  return func(X, **(kw_args if kw_args else {}))\n",
      "/Users/marieconstance.corsi/anaconda3/envs/moabb_minischool/lib/python3.9/site-packages/sklearn/preprocessing/_function_transformer.py:379: FutureWarning: The current default of copy=False will change to copy=True in 1.7. Set the value of copy explicitly to avoid this warning\n",
      "  return func(X, **(kw_args if kw_args else {}))\n",
      "/Users/marieconstance.corsi/anaconda3/envs/moabb_minischool/lib/python3.9/site-packages/sklearn/preprocessing/_function_transformer.py:379: FutureWarning: The current default of copy=False will change to copy=True in 1.7. Set the value of copy explicitly to avoid this warning\n",
      "  return func(X, **(kw_args if kw_args else {}))\n",
      "/Users/marieconstance.corsi/anaconda3/envs/moabb_minischool/lib/python3.9/site-packages/sklearn/covariance/_shrunk_covariance.py:351: UserWarning: Only one sample available. You may want to reshape your data array\n",
      "  warnings.warn(\n",
      "/Users/marieconstance.corsi/anaconda3/envs/moabb_minischool/lib/python3.9/site-packages/sklearn/covariance/_empirical_covariance.py:102: UserWarning: Only one sample available. You may want to reshape your data array\n",
      "  warnings.warn(\n",
      "/Users/marieconstance.corsi/anaconda3/envs/moabb_minischool/lib/python3.9/site-packages/sklearn/covariance/_shrunk_covariance.py:351: UserWarning: Only one sample available. You may want to reshape your data array\n",
      "  warnings.warn(\n",
      "/Users/marieconstance.corsi/anaconda3/envs/moabb_minischool/lib/python3.9/site-packages/sklearn/covariance/_empirical_covariance.py:102: UserWarning: Only one sample available. You may want to reshape your data array\n",
      "  warnings.warn(\n",
      "For current data size, only one classwould remain.\n",
      "/Users/marieconstance.corsi/anaconda3/envs/moabb_minischool/lib/python3.9/site-packages/sklearn/covariance/_shrunk_covariance.py:351: UserWarning: Only one sample available. You may want to reshape your data array\n",
      "  warnings.warn(\n",
      "/Users/marieconstance.corsi/anaconda3/envs/moabb_minischool/lib/python3.9/site-packages/sklearn/covariance/_empirical_covariance.py:102: UserWarning: Only one sample available. You may want to reshape your data array\n",
      "  warnings.warn(\n",
      "/Users/marieconstance.corsi/anaconda3/envs/moabb_minischool/lib/python3.9/site-packages/sklearn/covariance/_shrunk_covariance.py:351: UserWarning: Only one sample available. You may want to reshape your data array\n",
      "  warnings.warn(\n",
      "/Users/marieconstance.corsi/anaconda3/envs/moabb_minischool/lib/python3.9/site-packages/sklearn/covariance/_empirical_covariance.py:102: UserWarning: Only one sample available. You may want to reshape your data array\n",
      "  warnings.warn(\n",
      "/Users/marieconstance.corsi/anaconda3/envs/moabb_minischool/lib/python3.9/site-packages/sklearn/covariance/_shrunk_covariance.py:351: UserWarning: Only one sample available. You may want to reshape your data array\n",
      "  warnings.warn(\n",
      "/Users/marieconstance.corsi/anaconda3/envs/moabb_minischool/lib/python3.9/site-packages/sklearn/covariance/_empirical_covariance.py:102: UserWarning: Only one sample available. You may want to reshape your data array\n",
      "  warnings.warn(\n",
      "/Users/marieconstance.corsi/anaconda3/envs/moabb_minischool/lib/python3.9/site-packages/sklearn/covariance/_shrunk_covariance.py:351: UserWarning: Only one sample available. You may want to reshape your data array\n",
      "  warnings.warn(\n",
      "/Users/marieconstance.corsi/anaconda3/envs/moabb_minischool/lib/python3.9/site-packages/sklearn/covariance/_empirical_covariance.py:102: UserWarning: Only one sample available. You may want to reshape your data array\n",
      "  warnings.warn(\n",
      "/Users/marieconstance.corsi/anaconda3/envs/moabb_minischool/lib/python3.9/site-packages/sklearn/covariance/_shrunk_covariance.py:351: UserWarning: Only one sample available. You may want to reshape your data array\n",
      "  warnings.warn(\n",
      "/Users/marieconstance.corsi/anaconda3/envs/moabb_minischool/lib/python3.9/site-packages/sklearn/covariance/_empirical_covariance.py:102: UserWarning: Only one sample available. You may want to reshape your data array\n",
      "  warnings.warn(\n",
      "/Users/marieconstance.corsi/anaconda3/envs/moabb_minischool/lib/python3.9/site-packages/sklearn/covariance/_shrunk_covariance.py:351: UserWarning: Only one sample available. You may want to reshape your data array\n",
      "  warnings.warn(\n",
      "/Users/marieconstance.corsi/anaconda3/envs/moabb_minischool/lib/python3.9/site-packages/sklearn/covariance/_empirical_covariance.py:102: UserWarning: Only one sample available. You may want to reshape your data array\n",
      "  warnings.warn(\n",
      "/Users/marieconstance.corsi/anaconda3/envs/moabb_minischool/lib/python3.9/site-packages/sklearn/covariance/_shrunk_covariance.py:351: UserWarning: Only one sample available. You may want to reshape your data array\n",
      "  warnings.warn(\n",
      "/Users/marieconstance.corsi/anaconda3/envs/moabb_minischool/lib/python3.9/site-packages/sklearn/covariance/_empirical_covariance.py:102: UserWarning: Only one sample available. You may want to reshape your data array\n",
      "  warnings.warn(\n",
      "/Users/marieconstance.corsi/anaconda3/envs/moabb_minischool/lib/python3.9/site-packages/sklearn/covariance/_shrunk_covariance.py:351: UserWarning: Only one sample available. You may want to reshape your data array\n",
      "  warnings.warn(\n",
      "/Users/marieconstance.corsi/anaconda3/envs/moabb_minischool/lib/python3.9/site-packages/sklearn/covariance/_empirical_covariance.py:102: UserWarning: Only one sample available. You may want to reshape your data array\n",
      "  warnings.warn(\n",
      "/Users/marieconstance.corsi/anaconda3/envs/moabb_minischool/lib/python3.9/site-packages/sklearn/covariance/_shrunk_covariance.py:351: UserWarning: Only one sample available. You may want to reshape your data array\n",
      "  warnings.warn(\n",
      "/Users/marieconstance.corsi/anaconda3/envs/moabb_minischool/lib/python3.9/site-packages/sklearn/covariance/_empirical_covariance.py:102: UserWarning: Only one sample available. You may want to reshape your data array\n",
      "  warnings.warn(\n",
      "/Users/marieconstance.corsi/anaconda3/envs/moabb_minischool/lib/python3.9/site-packages/sklearn/covariance/_shrunk_covariance.py:351: UserWarning: Only one sample available. You may want to reshape your data array\n",
      "  warnings.warn(\n",
      "/Users/marieconstance.corsi/anaconda3/envs/moabb_minischool/lib/python3.9/site-packages/sklearn/covariance/_empirical_covariance.py:102: UserWarning: Only one sample available. You may want to reshape your data array\n",
      "  warnings.warn(\n",
      "For current data size, only one classwould remain.\n",
      "For current data size, only one classwould remain.\n",
      "/Users/marieconstance.corsi/anaconda3/envs/moabb_minischool/lib/python3.9/site-packages/sklearn/covariance/_shrunk_covariance.py:351: UserWarning: Only one sample available. You may want to reshape your data array\n",
      "  warnings.warn(\n",
      "/Users/marieconstance.corsi/anaconda3/envs/moabb_minischool/lib/python3.9/site-packages/sklearn/covariance/_empirical_covariance.py:102: UserWarning: Only one sample available. You may want to reshape your data array\n",
      "  warnings.warn(\n",
      "/Users/marieconstance.corsi/anaconda3/envs/moabb_minischool/lib/python3.9/site-packages/sklearn/covariance/_shrunk_covariance.py:351: UserWarning: Only one sample available. You may want to reshape your data array\n",
      "  warnings.warn(\n",
      "/Users/marieconstance.corsi/anaconda3/envs/moabb_minischool/lib/python3.9/site-packages/sklearn/covariance/_empirical_covariance.py:102: UserWarning: Only one sample available. You may want to reshape your data array\n",
      "  warnings.warn(\n",
      "/Users/marieconstance.corsi/anaconda3/envs/moabb_minischool/lib/python3.9/site-packages/sklearn/covariance/_shrunk_covariance.py:351: UserWarning: Only one sample available. You may want to reshape your data array\n",
      "  warnings.warn(\n",
      "/Users/marieconstance.corsi/anaconda3/envs/moabb_minischool/lib/python3.9/site-packages/sklearn/covariance/_empirical_covariance.py:102: UserWarning: Only one sample available. You may want to reshape your data array\n",
      "  warnings.warn(\n",
      "/Users/marieconstance.corsi/anaconda3/envs/moabb_minischool/lib/python3.9/site-packages/sklearn/covariance/_shrunk_covariance.py:351: UserWarning: Only one sample available. You may want to reshape your data array\n",
      "  warnings.warn(\n",
      "/Users/marieconstance.corsi/anaconda3/envs/moabb_minischool/lib/python3.9/site-packages/sklearn/covariance/_empirical_covariance.py:102: UserWarning: Only one sample available. You may want to reshape your data array\n",
      "  warnings.warn(\n",
      "For current data size, only one classwould remain.\n",
      "For current data size, only one classwould remain.\n",
      "/Users/marieconstance.corsi/anaconda3/envs/moabb_minischool/lib/python3.9/site-packages/sklearn/covariance/_shrunk_covariance.py:351: UserWarning: Only one sample available. You may want to reshape your data array\n",
      "  warnings.warn(\n",
      "/Users/marieconstance.corsi/anaconda3/envs/moabb_minischool/lib/python3.9/site-packages/sklearn/covariance/_empirical_covariance.py:102: UserWarning: Only one sample available. You may want to reshape your data array\n",
      "  warnings.warn(\n",
      "/Users/marieconstance.corsi/anaconda3/envs/moabb_minischool/lib/python3.9/site-packages/sklearn/covariance/_shrunk_covariance.py:351: UserWarning: Only one sample available. You may want to reshape your data array\n",
      "  warnings.warn(\n",
      "/Users/marieconstance.corsi/anaconda3/envs/moabb_minischool/lib/python3.9/site-packages/sklearn/covariance/_empirical_covariance.py:102: UserWarning: Only one sample available. You may want to reshape your data array\n",
      "  warnings.warn(\n",
      "For current data size, only one classwould remain.\n",
      "/Users/marieconstance.corsi/anaconda3/envs/moabb_minischool/lib/python3.9/site-packages/sklearn/covariance/_shrunk_covariance.py:351: UserWarning: Only one sample available. You may want to reshape your data array\n",
      "  warnings.warn(\n",
      "/Users/marieconstance.corsi/anaconda3/envs/moabb_minischool/lib/python3.9/site-packages/sklearn/covariance/_empirical_covariance.py:102: UserWarning: Only one sample available. You may want to reshape your data array\n",
      "  warnings.warn(\n",
      "/Users/marieconstance.corsi/anaconda3/envs/moabb_minischool/lib/python3.9/site-packages/sklearn/covariance/_shrunk_covariance.py:351: UserWarning: Only one sample available. You may want to reshape your data array\n",
      "  warnings.warn(\n",
      "/Users/marieconstance.corsi/anaconda3/envs/moabb_minischool/lib/python3.9/site-packages/sklearn/covariance/_empirical_covariance.py:102: UserWarning: Only one sample available. You may want to reshape your data array\n",
      "  warnings.warn(\n",
      "For current data size, only one classwould remain.\n",
      "/Users/marieconstance.corsi/anaconda3/envs/moabb_minischool/lib/python3.9/site-packages/sklearn/covariance/_shrunk_covariance.py:351: UserWarning: Only one sample available. You may want to reshape your data array\n",
      "  warnings.warn(\n",
      "/Users/marieconstance.corsi/anaconda3/envs/moabb_minischool/lib/python3.9/site-packages/sklearn/covariance/_empirical_covariance.py:102: UserWarning: Only one sample available. You may want to reshape your data array\n",
      "  warnings.warn(\n",
      "/Users/marieconstance.corsi/anaconda3/envs/moabb_minischool/lib/python3.9/site-packages/sklearn/covariance/_shrunk_covariance.py:351: UserWarning: Only one sample available. You may want to reshape your data array\n",
      "  warnings.warn(\n",
      "/Users/marieconstance.corsi/anaconda3/envs/moabb_minischool/lib/python3.9/site-packages/sklearn/covariance/_empirical_covariance.py:102: UserWarning: Only one sample available. You may want to reshape your data array\n",
      "  warnings.warn(\n",
      "For current data size, only one classwould remain.\n",
      "For current data size, only one classwould remain.\n",
      "For current data size, only one classwould remain.\n",
      "/Users/marieconstance.corsi/anaconda3/envs/moabb_minischool/lib/python3.9/site-packages/sklearn/covariance/_shrunk_covariance.py:351: UserWarning: Only one sample available. You may want to reshape your data array\n",
      "  warnings.warn(\n",
      "/Users/marieconstance.corsi/anaconda3/envs/moabb_minischool/lib/python3.9/site-packages/sklearn/covariance/_empirical_covariance.py:102: UserWarning: Only one sample available. You may want to reshape your data array\n",
      "  warnings.warn(\n",
      "/Users/marieconstance.corsi/anaconda3/envs/moabb_minischool/lib/python3.9/site-packages/sklearn/covariance/_shrunk_covariance.py:351: UserWarning: Only one sample available. You may want to reshape your data array\n",
      "  warnings.warn(\n",
      "/Users/marieconstance.corsi/anaconda3/envs/moabb_minischool/lib/python3.9/site-packages/sklearn/covariance/_empirical_covariance.py:102: UserWarning: Only one sample available. You may want to reshape your data array\n",
      "  warnings.warn(\n",
      "/Users/marieconstance.corsi/anaconda3/envs/moabb_minischool/lib/python3.9/site-packages/sklearn/covariance/_shrunk_covariance.py:351: UserWarning: Only one sample available. You may want to reshape your data array\n",
      "  warnings.warn(\n",
      "/Users/marieconstance.corsi/anaconda3/envs/moabb_minischool/lib/python3.9/site-packages/sklearn/covariance/_empirical_covariance.py:102: UserWarning: Only one sample available. You may want to reshape your data array\n",
      "  warnings.warn(\n",
      "/Users/marieconstance.corsi/anaconda3/envs/moabb_minischool/lib/python3.9/site-packages/sklearn/covariance/_shrunk_covariance.py:351: UserWarning: Only one sample available. You may want to reshape your data array\n",
      "  warnings.warn(\n",
      "/Users/marieconstance.corsi/anaconda3/envs/moabb_minischool/lib/python3.9/site-packages/sklearn/covariance/_empirical_covariance.py:102: UserWarning: Only one sample available. You may want to reshape your data array\n",
      "  warnings.warn(\n",
      "For current data size, only one classwould remain.\n",
      "For current data size, only one classwould remain.\n",
      "/Users/marieconstance.corsi/anaconda3/envs/moabb_minischool/lib/python3.9/site-packages/sklearn/covariance/_shrunk_covariance.py:351: UserWarning: Only one sample available. You may want to reshape your data array\n",
      "  warnings.warn(\n",
      "/Users/marieconstance.corsi/anaconda3/envs/moabb_minischool/lib/python3.9/site-packages/sklearn/covariance/_empirical_covariance.py:102: UserWarning: Only one sample available. You may want to reshape your data array\n",
      "  warnings.warn(\n",
      "/Users/marieconstance.corsi/anaconda3/envs/moabb_minischool/lib/python3.9/site-packages/sklearn/covariance/_shrunk_covariance.py:351: UserWarning: Only one sample available. You may want to reshape your data array\n",
      "  warnings.warn(\n",
      "/Users/marieconstance.corsi/anaconda3/envs/moabb_minischool/lib/python3.9/site-packages/sklearn/covariance/_empirical_covariance.py:102: UserWarning: Only one sample available. You may want to reshape your data array\n",
      "  warnings.warn(\n",
      "/Users/marieconstance.corsi/anaconda3/envs/moabb_minischool/lib/python3.9/site-packages/sklearn/covariance/_shrunk_covariance.py:351: UserWarning: Only one sample available. You may want to reshape your data array\n",
      "  warnings.warn(\n",
      "/Users/marieconstance.corsi/anaconda3/envs/moabb_minischool/lib/python3.9/site-packages/sklearn/covariance/_empirical_covariance.py:102: UserWarning: Only one sample available. You may want to reshape your data array\n",
      "  warnings.warn(\n",
      "/Users/marieconstance.corsi/anaconda3/envs/moabb_minischool/lib/python3.9/site-packages/sklearn/covariance/_shrunk_covariance.py:351: UserWarning: Only one sample available. You may want to reshape your data array\n",
      "  warnings.warn(\n",
      "/Users/marieconstance.corsi/anaconda3/envs/moabb_minischool/lib/python3.9/site-packages/sklearn/covariance/_empirical_covariance.py:102: UserWarning: Only one sample available. You may want to reshape your data array\n",
      "  warnings.warn(\n",
      "For current data size, only one classwould remain.\n",
      "For current data size, only one classwould remain.\n",
      "/Users/marieconstance.corsi/anaconda3/envs/moabb_minischool/lib/python3.9/site-packages/sklearn/covariance/_shrunk_covariance.py:351: UserWarning: Only one sample available. You may want to reshape your data array\n",
      "  warnings.warn(\n",
      "/Users/marieconstance.corsi/anaconda3/envs/moabb_minischool/lib/python3.9/site-packages/sklearn/covariance/_empirical_covariance.py:102: UserWarning: Only one sample available. You may want to reshape your data array\n",
      "  warnings.warn(\n",
      "/Users/marieconstance.corsi/anaconda3/envs/moabb_minischool/lib/python3.9/site-packages/sklearn/covariance/_shrunk_covariance.py:351: UserWarning: Only one sample available. You may want to reshape your data array\n",
      "  warnings.warn(\n",
      "/Users/marieconstance.corsi/anaconda3/envs/moabb_minischool/lib/python3.9/site-packages/sklearn/covariance/_empirical_covariance.py:102: UserWarning: Only one sample available. You may want to reshape your data array\n",
      "  warnings.warn(\n",
      "/Users/marieconstance.corsi/anaconda3/envs/moabb_minischool/lib/python3.9/site-packages/sklearn/covariance/_shrunk_covariance.py:351: UserWarning: Only one sample available. You may want to reshape your data array\n",
      "  warnings.warn(\n",
      "/Users/marieconstance.corsi/anaconda3/envs/moabb_minischool/lib/python3.9/site-packages/sklearn/covariance/_empirical_covariance.py:102: UserWarning: Only one sample available. You may want to reshape your data array\n",
      "  warnings.warn(\n",
      "/Users/marieconstance.corsi/anaconda3/envs/moabb_minischool/lib/python3.9/site-packages/sklearn/covariance/_shrunk_covariance.py:351: UserWarning: Only one sample available. You may want to reshape your data array\n",
      "  warnings.warn(\n",
      "/Users/marieconstance.corsi/anaconda3/envs/moabb_minischool/lib/python3.9/site-packages/sklearn/covariance/_empirical_covariance.py:102: UserWarning: Only one sample available. You may want to reshape your data array\n",
      "  warnings.warn(\n",
      "For current data size, only one classwould remain.\n",
      "For current data size, only one classwould remain.\n",
      "/Users/marieconstance.corsi/anaconda3/envs/moabb_minischool/lib/python3.9/site-packages/sklearn/covariance/_shrunk_covariance.py:351: UserWarning: Only one sample available. You may want to reshape your data array\n",
      "  warnings.warn(\n",
      "/Users/marieconstance.corsi/anaconda3/envs/moabb_minischool/lib/python3.9/site-packages/sklearn/covariance/_empirical_covariance.py:102: UserWarning: Only one sample available. You may want to reshape your data array\n",
      "  warnings.warn(\n",
      "/Users/marieconstance.corsi/anaconda3/envs/moabb_minischool/lib/python3.9/site-packages/sklearn/covariance/_shrunk_covariance.py:351: UserWarning: Only one sample available. You may want to reshape your data array\n",
      "  warnings.warn(\n",
      "/Users/marieconstance.corsi/anaconda3/envs/moabb_minischool/lib/python3.9/site-packages/sklearn/covariance/_empirical_covariance.py:102: UserWarning: Only one sample available. You may want to reshape your data array\n",
      "  warnings.warn(\n",
      "For current data size, only one classwould remain.\n",
      "/Users/marieconstance.corsi/anaconda3/envs/moabb_minischool/lib/python3.9/site-packages/sklearn/covariance/_shrunk_covariance.py:351: UserWarning: Only one sample available. You may want to reshape your data array\n",
      "  warnings.warn(\n",
      "/Users/marieconstance.corsi/anaconda3/envs/moabb_minischool/lib/python3.9/site-packages/sklearn/covariance/_empirical_covariance.py:102: UserWarning: Only one sample available. You may want to reshape your data array\n",
      "  warnings.warn(\n",
      "/Users/marieconstance.corsi/anaconda3/envs/moabb_minischool/lib/python3.9/site-packages/sklearn/covariance/_shrunk_covariance.py:351: UserWarning: Only one sample available. You may want to reshape your data array\n",
      "  warnings.warn(\n",
      "/Users/marieconstance.corsi/anaconda3/envs/moabb_minischool/lib/python3.9/site-packages/sklearn/covariance/_empirical_covariance.py:102: UserWarning: Only one sample available. You may want to reshape your data array\n",
      "  warnings.warn(\n",
      "For current data size, only one classwould remain.\n",
      "For current data size, only one classwould remain.\n",
      "For current data size, only one classwould remain.\n",
      "/Users/marieconstance.corsi/anaconda3/envs/moabb_minischool/lib/python3.9/site-packages/sklearn/covariance/_shrunk_covariance.py:351: UserWarning: Only one sample available. You may want to reshape your data array\n",
      "  warnings.warn(\n",
      "/Users/marieconstance.corsi/anaconda3/envs/moabb_minischool/lib/python3.9/site-packages/sklearn/covariance/_empirical_covariance.py:102: UserWarning: Only one sample available. You may want to reshape your data array\n",
      "  warnings.warn(\n",
      "/Users/marieconstance.corsi/anaconda3/envs/moabb_minischool/lib/python3.9/site-packages/sklearn/covariance/_shrunk_covariance.py:351: UserWarning: Only one sample available. You may want to reshape your data array\n",
      "  warnings.warn(\n",
      "/Users/marieconstance.corsi/anaconda3/envs/moabb_minischool/lib/python3.9/site-packages/sklearn/covariance/_empirical_covariance.py:102: UserWarning: Only one sample available. You may want to reshape your data array\n",
      "  warnings.warn(\n",
      "For current data size, only one classwould remain.\n",
      "/Users/marieconstance.corsi/anaconda3/envs/moabb_minischool/lib/python3.9/site-packages/sklearn/covariance/_shrunk_covariance.py:351: UserWarning: Only one sample available. You may want to reshape your data array\n",
      "  warnings.warn(\n",
      "/Users/marieconstance.corsi/anaconda3/envs/moabb_minischool/lib/python3.9/site-packages/sklearn/covariance/_empirical_covariance.py:102: UserWarning: Only one sample available. You may want to reshape your data array\n",
      "  warnings.warn(\n",
      "/Users/marieconstance.corsi/anaconda3/envs/moabb_minischool/lib/python3.9/site-packages/sklearn/covariance/_shrunk_covariance.py:351: UserWarning: Only one sample available. You may want to reshape your data array\n",
      "  warnings.warn(\n",
      "/Users/marieconstance.corsi/anaconda3/envs/moabb_minischool/lib/python3.9/site-packages/sklearn/covariance/_empirical_covariance.py:102: UserWarning: Only one sample available. You may want to reshape your data array\n",
      "  warnings.warn(\n",
      "BNCI2014-009-WithinSession: 100%|██████████| 2/2 [01:29<00:00, 44.65s/it]\n"
     ]
    }
   ],
   "execution_count": 17
  },
  {
   "metadata": {
    "ExecuteTime": {
     "end_time": "2024-06-16T13:31:04.362147Z",
     "start_time": "2024-06-16T13:31:04.198887Z"
    }
   },
   "cell_type": "code",
   "source": [
    "# plot results\n",
    "import matplotlib.pyplot as plt\n",
    "\n",
    "fig, ax = plt.subplots(facecolor=\"white\", figsize=[8, 4])\n",
    "\n",
    "n_subs = len(dataset.subject_list)\n",
    "\n",
    "if n_subs > 1:\n",
    "    r = results.groupby([\"pipeline\", \"subject\", \"data_size\"]).mean().reset_index()\n",
    "else:\n",
    "    r = results\n",
    "\n",
    "sns.pointplot(data=r, x=\"data_size\", y=\"score\", hue=\"pipeline\", ax=ax, palette=\"Set1\")\n",
    "\n",
    "errbar_meaning = \"subjects\" if n_subs > 1 else \"permutations\"\n",
    "title_str = f\"Errorbar shows Mean-CI across {errbar_meaning}\"\n",
    "ax.set_xlabel(\"Amount of training samples\")\n",
    "ax.set_ylabel(\"ROC AUC\")\n",
    "ax.set_title(title_str)\n",
    "fig.tight_layout()\n",
    "plt.show()"
   ],
   "id": "eec0928b40f86b6a",
   "outputs": [
    {
     "name": "stderr",
     "output_type": "stream",
     "text": [
      "/var/folders/d4/_4q888f9053cl142j5r3tmy00000gq/T/ipykernel_40410/2124982708.py:9: FutureWarning: The default value of numeric_only in DataFrameGroupBy.mean is deprecated. In a future version, numeric_only will default to False. Either specify numeric_only or select only columns which should be valid for the function.\n",
      "  r = results.groupby([\"pipeline\", \"subject\", \"data_size\"]).mean().reset_index()\n"
     ]
    },
    {
     "data": {
      "text/plain": [
       "<Figure size 800x400 with 1 Axes>"
      ],
      "image/png": "[encoded data removed]"
     },
     "metadata": {},
     "output_type": "display_data"
    }
   ],
   "execution_count": 18
  },
  {
   "metadata": {},
   "cell_type": "code",
   "outputs": [],
   "execution_count": null,
   "source": "",
   "id": "1d7c1941e87115ac"
  }
 ],
 "metadata": {
  "kernelspec": {
   "display_name": "Python 3 (ipykernel)",
   "language": "python",
   "name": "python3"
  },
  "language_info": {
   "codemirror_mode": {
    "name": "ipython",
    "version": 3
   },
   "file_extension": ".py",
   "mimetype": "text/x-python",
   "name": "python",
   "nbconvert_exporter": "python",
   "pygments_lexer": "ipython3",
   "version": "3.10.2"
  }
 },
 "nbformat": 4,
 "nbformat_minor": 5
}
