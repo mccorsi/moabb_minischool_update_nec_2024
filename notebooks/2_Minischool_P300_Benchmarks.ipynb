{
 "cells": [
  {
   "cell_type": "markdown",
   "id": "30338bd2",
   "metadata": {},
   "source": [
    "# Comparison of multiple pipelines and datasets with P300\n",
    "\n",
    "In this second notebook, we will use P300 paradigm to compare multiple datasets and multiple pipelines. We choose datasets from the BNCI repository.\n",
    "\n",
    "Please make sure you have verified your installation with the notebook `0_Minischool_Verify_Installation`.\n",
    "\n",
    "## Selecting datasets\n",
    "\n",
    "The datasets already defined in MOABB are listed in the [documentation](https://neurotechx.github.io/moabb/api.html). It is also possible to check the [MOABB wiki](https://github.com/NeuroTechX/moabb/wiki/Datasets-Support) for comparative information.\n",
    "\n",
    "Here we will use two P300 datasets from BNCI:"
   ]
  },
  {
   "cell_type": "code",
   "execution_count": null,
   "id": "dda67c05",
   "metadata": {},
   "outputs": [],
   "source": [
    "from moabb.datasets import BNCI2014008, BNCI2014009\n",
    "\n",
    "datasets = [BNCI2014008(), BNCI2014009()] "
   ]
  },
  {
   "cell_type": "code",
   "execution_count": null,
   "id": "ae0cee04",
   "metadata": {},
   "outputs": [],
   "source": [
    "from pyriemann.classification import MDM\n",
    "from pyriemann.tangentspace import TangentSpace\n",
    "from pyriemann.spatialfilters import Xdawn\n",
    "from pyriemann.estimation import XdawnCovariances\n",
    "from sklearn.discriminant_analysis import LinearDiscriminantAnalysis as LDA\n",
    "from sklearn.pipeline import make_pipeline\n",
    "from sklearn.svm import SVC\n",
    "\n",
    "\n",
    "pipelines = {}\n",
    "# pipelines['xdawn+svm'] = make_pipeline(Xdawn(nfilter=2), LDA())\n",
    "pipelines['tgsp+svm'] = make_pipeline(XdawnCovariances(estimator='lwf'), \n",
    "                                      TangentSpace(metric='riemann'), \n",
    "                                      SVC(kernel='linear'))\n",
    "pipelines['MDM'] = make_pipeline(XdawnCovariances(estimator='lwf'),\n",
    "                            MDM(metric='riemann', n_jobs=-1))"
   ]
  },
  {
   "cell_type": "code",
   "execution_count": null,
   "id": "f9c99af4",
   "metadata": {},
   "outputs": [],
   "source": [
    "from moabb.paradigms import P300\n",
    "\n",
    "paradigm = P300()\n"
   ]
  },
  {
   "cell_type": "code",
   "execution_count": null,
   "id": "d3ba03db",
   "metadata": {},
   "outputs": [],
   "source": [
    "from moabb.evaluations import WithinSessionEvaluation\n",
    "\n",
    "evaluation = WithinSessionEvaluation(paradigm=paradigm, datasets=datasets, overwrite=False)"
   ]
  },
  {
   "cell_type": "code",
   "execution_count": null,
   "id": "ae9e612f",
   "metadata": {},
   "outputs": [],
   "source": [
    "results = evaluation.process(pipelines) "
   ]
  },
  {
   "cell_type": "code",
   "execution_count": null,
   "id": "afce1471",
   "metadata": {},
   "outputs": [],
   "source": [
    "import seaborn as sns\n",
    "\n",
    "g = sns.catplot(kind=\"box\", x=\"score\", y=\"pipeline\", aspect=1.5, data=results, orient='h', palette='viridis')"
   ]
  },
  {
   "cell_type": "markdown",
   "id": "36973a35",
   "metadata": {},
   "source": [
    "Until now, we have always plotted the results using the seaborn package and creating the figure by ourselves. MOABB also offers some functionalities for analysing the results obtained after running an evaluation procedure.\n",
    "\n",
    "# Advanced statistical analysis and meta-analysis\n",
    "\n",
    "For instance, we may create a plot comparing the results with two classification algorithms as in:"
   ]
  },
  {
   "cell_type": "code",
   "execution_count": null,
   "id": "fa85a8f7",
   "metadata": {},
   "outputs": [],
   "source": [
    "from moabb.analysis.plotting import paired_plot\n",
    "\n",
    "alg1 = 'tgsp+svm'\n",
    "alg2 = 'MDM'\n",
    "fig = paired_plot(results, alg1, alg2)\n",
    "fig.set_size_inches(9,9)"
   ]
  },
  {
   "cell_type": "markdown",
   "id": "374ad472",
   "metadata": {},
   "source": [
    "N.B.: MOABB collapses the values from different sessions into a single average score, which is why we have the impression of having much less points than it should in the plot.\n",
    "\n",
    "We may also do statistical analysis on the results and plot them with MOABB. For this, we need to first generate an auxiliary dataframe containing all the statistics describing the results and, then, use it as input."
   ]
  },
  {
   "cell_type": "code",
   "execution_count": null,
   "id": "a02441da",
   "metadata": {},
   "outputs": [],
   "source": [
    "from moabb.analysis.meta_analysis import compute_dataset_statistics\n",
    "from moabb.analysis.plotting import meta_analysis_plot\n",
    "\n",
    "stats_df = compute_dataset_statistics(results)\n",
    "alg1 = 'tgsp+svm'\n",
    "alg2 = 'MDM'\n",
    "fig = meta_analysis_plot(stats_df, alg1, alg2)\n",
    "fig.set_size_inches(8,7)"
   ]
  },
  {
   "cell_type": "code",
   "execution_count": null,
   "id": "22d81a34",
   "metadata": {},
   "outputs": [],
   "source": [
    "from moabb.analysis.meta_analysis import find_significant_differences\n",
    "from moabb.analysis.plotting import summary_plot\n",
    "\n",
    "# stats = compute_dataset_statistics(all_res)\n",
    "P, T = find_significant_differences(stats_df)\n",
    "_ = summary_plot(P, T)"
   ]
  },
  {
   "cell_type": "markdown",
   "id": "33015804",
   "metadata": {},
   "source": [
    "# Adapting MOABB to your need\n",
    "\n",
    "Here are some exercices to introduce some useful possibilities offered by MOABB. \n"
   ]
  },
  {
   "cell_type": "markdown",
   "id": "7ac11658",
   "metadata": {},
   "source": [
    "## Add new datasets in the evaluation (level: easy 🤗)\n",
    "\n",
    "Use the code above to add another dataset in your evaluation"
   ]
  },
  {
   "cell_type": "code",
   "execution_count": null,
   "id": "a3cf2aa7",
   "metadata": {},
   "outputs": [],
   "source": [
    "datasets = [...]\n",
    "paradigm = P300()\n",
    "evaluation = WithinSessionEvaluation(paradigm=paradigm, datasets=datasets, overwrite=True)\n",
    "\n",
    "results = evaluation.process(pipelines)"
   ]
  },
  {
   "cell_type": "markdown",
   "id": "a853120d",
   "metadata": {},
   "source": [
    "## Creating your own pipeline (level: intermediate 🤔)\n",
    "\n",
    "The first is to create your machine learning pipeline, according to your need. As MOABB use a sklearn-like API for defining pipelines, it is easy to follow the [sklearn tutorial](https://scikit-learn.org/stable/developers/develop.html)"
   ]
  },
  {
   "cell_type": "code",
   "execution_count": null,
   "id": "9450f11c",
   "metadata": {},
   "outputs": [],
   "source": [
    "your_pipelines = {}\n",
    "your_pipelines['YourPipeline'] = make_pipeline(...)\n",
    "\n",
    "\n",
    "datasets = [BNCI2014009()]\n",
    "paradigm = P300()\n",
    "evaluation = WithinSessionEvaluation(paradigm=paradigm, datasets=datasets, overwrite=True)\n",
    "\n",
    "results = evaluation.process(your_pipelines)"
   ]
  },
  {
   "cell_type": "markdown",
   "id": "12132e86",
   "metadata": {},
   "source": [
    "## Use learning curve (level intermediate 🤔)\n",
    "\n",
    "Based on the example from the [MOABB gallery](https://neurotechx.github.io/moabb/auto_examples/index.html#evaluation-with-learning-curve) and the [documentation](https://neurotechx.github.io/moabb/generated/moabb.evaluations.WithinSessionEvaluation.html#moabb.evaluations.WithinSessionEvaluation), create an evaluation with an increasing number of sample. For example, using only 1%, 5% and 10% of the data to train. "
   ]
  },
  {
   "cell_type": "code",
   "execution_count": null,
   "id": "1393cf5d",
   "metadata": {},
   "outputs": [],
   "source": [
    "datasets = [...]\n",
    "paradigm = P300()\n",
    "evaluation = WithinSessionEvaluation(paradigm=paradigm, datasets=datasets, overwrite=True, ...)\n",
    "\n",
    "results = evaluation.process(pipelines)"
   ]
  }
 ],
 "metadata": {
  "kernelspec": {
   "display_name": "Python 3 (ipykernel)",
   "language": "python",
   "name": "python3"
  },
  "language_info": {
   "codemirror_mode": {
    "name": "ipython",
    "version": 3
   },
   "file_extension": ".py",
   "mimetype": "text/x-python",
   "name": "python",
   "nbconvert_exporter": "python",
   "pygments_lexer": "ipython3",
   "version": "3.10.2"
  }
 },
 "nbformat": 4,
 "nbformat_minor": 5
}
